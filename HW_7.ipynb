{
 "cells": [
  {
   "cell_type": "markdown",
   "metadata": {},
   "source": [
    "Чтобы было больше времени на выполнение курсовой работы, задание выполнить на наборе данных для соревнования:\n",
    "\n",
    "Тестовая выборка - это выборка для применения модели и загрузки на ЛБ."
   ]
  },
  {
   "cell_type": "code",
   "execution_count": 1,
   "metadata": {},
   "outputs": [],
   "source": [
    "import time\n",
    "import warnings\n",
    "from tqdm import tqdm\n",
    "from typing import List, Tuple\n",
    "\n",
    "import numpy as np\n",
    "import pandas as pd\n",
    "import seaborn as sns\n",
    "import xgboost as xgb\n",
    "import matplotlib.pyplot as plt\n",
    "from scipy.stats import ttest_rel\n",
    "\n",
    "from sklearn.metrics import r2_score, roc_auc_score, roc_curve\n",
    "from sklearn.ensemble import RandomForestRegressor\n",
    "from sklearn.model_selection import KFold, StratifiedKFold, train_test_split, cross_val_score\n",
    "warnings.simplefilter(\"ignore\")\n",
    "%matplotlib inline\n",
    "\n",
    "import os\n",
    "from copy import deepcopy\n",
    "from inspect import signature\n",
    "from typing import List, Optional, Union\n",
    "from sklearn.preprocessing import LabelEncoder, OneHotEncoder\n",
    "from sklearn.base import BaseEstimator, TransformerMixin\n",
    "from category_encoders.cat_boost import CatBoostEncoder\n",
    "import catboost as cb\n",
    "import lightgbm as lgb"
   ]
  },
  {
   "cell_type": "code",
   "execution_count": 2,
   "metadata": {},
   "outputs": [],
   "source": [
    "def model_CV(model, X, y, cv, categorical=None):\n",
    "    estimators, fold_scores = [], []\n",
    "    oof_preds = np.zeros(X.shape[0])\n",
    "    \n",
    "    print(f'{time.ctime()}, cross-validation, {X.shape[0]} rows, {X.shape[1]} cols')\n",
    "    if categorical:\n",
    "        categorical = list(set(categorical) & set(X.columns))\n",
    "        X[categorical] = X[categorical].astype(str)\n",
    "        \n",
    "    for fold, (train_idx, valid_idx) in enumerate(cv.split(X, y)):\n",
    "        x_train, x_valid = X.loc[train_idx], X.loc[valid_idx]\n",
    "        y_train, y_valid = y[train_idx], y[valid_idx]\n",
    "        \n",
    "        \n",
    "        model.fit(\n",
    "            x_train, y_train, categorical,\n",
    "            eval_set=[(x_train, y_train), (x_valid, y_valid)],\n",
    "            early_stopping_rounds=50,\n",
    "            verbose=100\n",
    "        )\n",
    "        \n",
    "        oof_preds[valid_idx] = model.predict_proba(x_valid)[:, 1]\n",
    "        score = roc_auc_score(y_valid, oof_preds[valid_idx])\n",
    "        print(f'Fold {fold+1}, valid score = {round(score, 5)}')\n",
    "        fold_scores.append(round(score, 5))\n",
    "        estimators.append(model)\n",
    "        \n",
    "    print(f'Score by each fold: {fold_scores}')\n",
    "    print('='*65)\n",
    "    return estimators, oof_preds\n",
    "\n",
    "def estimators_pred(estimators, X, categorical=None):\n",
    "    oof_preds = np.zeros(X.shape[0])\n",
    "    \n",
    "    if categorical:\n",
    "        categorical = list(set(categorical) & set(X.columns))\n",
    "        X[categorical] = X[categorical].astype(str)\n",
    "        \n",
    "    for estimator in estimators:\n",
    "        oof_preds = model.predict_proba(X)[:, 1]\n",
    "        \n",
    "    return oof_preds"
   ]
  },
  {
   "cell_type": "code",
   "execution_count": 3,
   "metadata": {},
   "outputs": [],
   "source": [
    "data = pd.read_pickle('../../CourseWork/data.pkl')"
   ]
  },
  {
   "cell_type": "code",
   "execution_count": 4,
   "metadata": {
    "scrolled": true
   },
   "outputs": [
    {
     "data": {
      "text/html": [
       "<div>\n",
       "<style scoped>\n",
       "    .dataframe tbody tr th:only-of-type {\n",
       "        vertical-align: middle;\n",
       "    }\n",
       "\n",
       "    .dataframe tbody tr th {\n",
       "        vertical-align: top;\n",
       "    }\n",
       "\n",
       "    .dataframe thead th {\n",
       "        text-align: right;\n",
       "    }\n",
       "</style>\n",
       "<table border=\"1\" class=\"dataframe\">\n",
       "  <thead>\n",
       "    <tr style=\"text-align: right;\">\n",
       "      <th></th>\n",
       "      <th>application_number</th>\n",
       "      <th>target</th>\n",
       "      <th>name_contract_type_cash</th>\n",
       "      <th>name_contract_type_credit_card</th>\n",
       "      <th>name_contract_type_nan</th>\n",
       "      <th>childrens</th>\n",
       "      <th>total_salary</th>\n",
       "      <th>amount_credit</th>\n",
       "      <th>amount_annuity</th>\n",
       "      <th>region_population</th>\n",
       "      <th>...</th>\n",
       "      <th>credit_type_loan_for_business_development_mean</th>\n",
       "      <th>credit_type_loan_for_purchase_of_shares_margin_lending_mean</th>\n",
       "      <th>credit_type_loan_for_the_purchase_of_equipment_mean</th>\n",
       "      <th>credit_type_loan_for_working_capital_replenishment_mean</th>\n",
       "      <th>credit_type_microloan_mean</th>\n",
       "      <th>credit_type_mobile_operator_loan_mean</th>\n",
       "      <th>credit_type_mortgage_mean</th>\n",
       "      <th>credit_type_real_estate_loan_mean</th>\n",
       "      <th>credit_type_unknown_type_of_loan_mean</th>\n",
       "      <th>credit_type_nan_mean</th>\n",
       "    </tr>\n",
       "  </thead>\n",
       "  <tbody>\n",
       "    <tr>\n",
       "      <th>0</th>\n",
       "      <td>123687442</td>\n",
       "      <td>0.0</td>\n",
       "      <td>1</td>\n",
       "      <td>0</td>\n",
       "      <td>0</td>\n",
       "      <td>1.0</td>\n",
       "      <td>157500.0</td>\n",
       "      <td>855000.0</td>\n",
       "      <td>25128.0</td>\n",
       "      <td>0.019101</td>\n",
       "      <td>...</td>\n",
       "      <td>0.0</td>\n",
       "      <td>0.0</td>\n",
       "      <td>0.0</td>\n",
       "      <td>0.0</td>\n",
       "      <td>0.0</td>\n",
       "      <td>0.0</td>\n",
       "      <td>0.000000</td>\n",
       "      <td>0.0</td>\n",
       "      <td>0.0</td>\n",
       "      <td>0.0</td>\n",
       "    </tr>\n",
       "    <tr>\n",
       "      <th>1</th>\n",
       "      <td>123597908</td>\n",
       "      <td>1.0</td>\n",
       "      <td>1</td>\n",
       "      <td>0</td>\n",
       "      <td>0</td>\n",
       "      <td>NaN</td>\n",
       "      <td>NaN</td>\n",
       "      <td>NaN</td>\n",
       "      <td>NaN</td>\n",
       "      <td>NaN</td>\n",
       "      <td>...</td>\n",
       "      <td>0.0</td>\n",
       "      <td>0.0</td>\n",
       "      <td>0.0</td>\n",
       "      <td>0.0</td>\n",
       "      <td>0.0</td>\n",
       "      <td>0.0</td>\n",
       "      <td>0.000000</td>\n",
       "      <td>0.0</td>\n",
       "      <td>0.0</td>\n",
       "      <td>0.0</td>\n",
       "    </tr>\n",
       "    <tr>\n",
       "      <th>2</th>\n",
       "      <td>123526683</td>\n",
       "      <td>0.0</td>\n",
       "      <td>1</td>\n",
       "      <td>0</td>\n",
       "      <td>0</td>\n",
       "      <td>0.0</td>\n",
       "      <td>135000.0</td>\n",
       "      <td>1006920.0</td>\n",
       "      <td>42660.0</td>\n",
       "      <td>0.026392</td>\n",
       "      <td>...</td>\n",
       "      <td>0.0</td>\n",
       "      <td>0.0</td>\n",
       "      <td>0.0</td>\n",
       "      <td>0.0</td>\n",
       "      <td>0.0</td>\n",
       "      <td>0.0</td>\n",
       "      <td>0.111111</td>\n",
       "      <td>0.0</td>\n",
       "      <td>0.0</td>\n",
       "      <td>0.0</td>\n",
       "    </tr>\n",
       "  </tbody>\n",
       "</table>\n",
       "<p>3 rows × 183 columns</p>\n",
       "</div>"
      ],
      "text/plain": [
       "   application_number  target  name_contract_type_cash  \\\n",
       "0           123687442     0.0                        1   \n",
       "1           123597908     1.0                        1   \n",
       "2           123526683     0.0                        1   \n",
       "\n",
       "   name_contract_type_credit_card  name_contract_type_nan  childrens  \\\n",
       "0                               0                       0        1.0   \n",
       "1                               0                       0        NaN   \n",
       "2                               0                       0        0.0   \n",
       "\n",
       "   total_salary  amount_credit  amount_annuity  region_population  ...  \\\n",
       "0      157500.0       855000.0         25128.0           0.019101  ...   \n",
       "1           NaN            NaN             NaN                NaN  ...   \n",
       "2      135000.0      1006920.0         42660.0           0.026392  ...   \n",
       "\n",
       "   credit_type_loan_for_business_development_mean  \\\n",
       "0                                             0.0   \n",
       "1                                             0.0   \n",
       "2                                             0.0   \n",
       "\n",
       "   credit_type_loan_for_purchase_of_shares_margin_lending_mean  \\\n",
       "0                                                0.0             \n",
       "1                                                0.0             \n",
       "2                                                0.0             \n",
       "\n",
       "   credit_type_loan_for_the_purchase_of_equipment_mean  \\\n",
       "0                                                0.0     \n",
       "1                                                0.0     \n",
       "2                                                0.0     \n",
       "\n",
       "   credit_type_loan_for_working_capital_replenishment_mean  \\\n",
       "0                                                0.0         \n",
       "1                                                0.0         \n",
       "2                                                0.0         \n",
       "\n",
       "   credit_type_microloan_mean  credit_type_mobile_operator_loan_mean  \\\n",
       "0                         0.0                                    0.0   \n",
       "1                         0.0                                    0.0   \n",
       "2                         0.0                                    0.0   \n",
       "\n",
       "   credit_type_mortgage_mean  credit_type_real_estate_loan_mean  \\\n",
       "0                   0.000000                                0.0   \n",
       "1                   0.000000                                0.0   \n",
       "2                   0.111111                                0.0   \n",
       "\n",
       "   credit_type_unknown_type_of_loan_mean  credit_type_nan_mean  \n",
       "0                                    0.0                   0.0  \n",
       "1                                    0.0                   0.0  \n",
       "2                                    0.0                   0.0  \n",
       "\n",
       "[3 rows x 183 columns]"
      ]
     },
     "execution_count": 4,
     "metadata": {},
     "output_type": "execute_result"
    }
   ],
   "source": [
    "data.head(3)"
   ]
  },
  {
   "cell_type": "code",
   "execution_count": 5,
   "metadata": {},
   "outputs": [],
   "source": [
    "mask = data['target'].isnull()\n",
    "features_to_drop = ['application_number', 'target']\n",
    "\n",
    "train, test = data.loc[~mask], data.loc[mask]\n",
    "\n",
    "target, test_id = train['target'], test['application_number']\n",
    "train = train.drop(features_to_drop, axis=1)\n",
    "test = test.drop(features_to_drop, axis=1)\n",
    "\n",
    "categorical = train.dtypes[train.dtypes == 'object'].index.tolist()\n",
    "numerical = list(set(train.columns) - set(categorical))\n",
    "\n",
    "train = train.replace(np.inf, np.nan)\n",
    "test = test.replace(np.inf, np.nan)"
   ]
  },
  {
   "cell_type": "code",
   "execution_count": 6,
   "metadata": {},
   "outputs": [],
   "source": [
    "scores = pd.DataFrame()"
   ]
  },
  {
   "cell_type": "code",
   "execution_count": 7,
   "metadata": {},
   "outputs": [],
   "source": [
    "test_scores = pd.DataFrame()"
   ]
  },
  {
   "cell_type": "code",
   "execution_count": 8,
   "metadata": {},
   "outputs": [],
   "source": [
    "test_scores = pd.DataFrame()"
   ]
  },
  {
   "cell_type": "code",
   "execution_count": 9,
   "metadata": {},
   "outputs": [],
   "source": [
    "models = dict()"
   ]
  },
  {
   "cell_type": "markdown",
   "metadata": {},
   "source": [
    "#### 1.\n",
    "Обучить алгоритмы LightGBM и XGBoost, получить OOF прогнозы, оценить корреляцию прогнозов на обучающей выборке. Применить модели на тестовую выборку и оценить корреляцию."
   ]
  },
  {
   "cell_type": "code",
   "execution_count": 10,
   "metadata": {},
   "outputs": [],
   "source": [
    "cv = KFold(n_splits=5, random_state=42, shuffle=True)"
   ]
  },
  {
   "cell_type": "markdown",
   "metadata": {},
   "source": [
    "LightGBM"
   ]
  },
  {
   "cell_type": "code",
   "execution_count": 11,
   "metadata": {},
   "outputs": [],
   "source": [
    "params = {\n",
    "    \"boosting_type\": \"gbdt\",\n",
    "    \"objective\": \"binary\",\n",
    "    \"metric\": \"auc\",\n",
    "    \"learning_rate\": 0.01,\n",
    "    \"n_estimators\": 200,\n",
    "    \"n_jobs\": 6,\n",
    "    \"seed\": 27\n",
    "}"
   ]
  },
  {
   "cell_type": "code",
   "execution_count": 12,
   "metadata": {},
   "outputs": [
    {
     "name": "stdout",
     "output_type": "stream",
     "text": [
      "Mon Oct 25 22:47:41 2021, cross-validation, 110093 rows, 181 cols\n",
      "Training until validation scores don't improve for 50 rounds\n",
      "[100]\ttraining's auc: 0.722272\tvalid_1's auc: 0.712992\n",
      "[200]\ttraining's auc: 0.743574\tvalid_1's auc: 0.722494\n",
      "Did not meet early stopping. Best iteration is:\n",
      "[200]\ttraining's auc: 0.743574\tvalid_1's auc: 0.722494\n",
      "Fold 1, valid score = 0.72249\n",
      "Training until validation scores don't improve for 50 rounds\n",
      "[100]\ttraining's auc: 0.724537\tvalid_1's auc: 0.700021\n",
      "[200]\ttraining's auc: 0.746259\tvalid_1's auc: 0.709055\n",
      "Did not meet early stopping. Best iteration is:\n",
      "[200]\ttraining's auc: 0.746259\tvalid_1's auc: 0.709055\n",
      "Fold 2, valid score = 0.70906\n",
      "Training until validation scores don't improve for 50 rounds\n",
      "[100]\ttraining's auc: 0.72388\tvalid_1's auc: 0.703791\n",
      "[200]\ttraining's auc: 0.746898\tvalid_1's auc: 0.712185\n",
      "Did not meet early stopping. Best iteration is:\n",
      "[200]\ttraining's auc: 0.746898\tvalid_1's auc: 0.712185\n",
      "Fold 3, valid score = 0.71218\n",
      "Training until validation scores don't improve for 50 rounds\n",
      "[100]\ttraining's auc: 0.724027\tvalid_1's auc: 0.69853\n",
      "[200]\ttraining's auc: 0.746005\tvalid_1's auc: 0.707456\n",
      "Did not meet early stopping. Best iteration is:\n",
      "[200]\ttraining's auc: 0.746005\tvalid_1's auc: 0.707456\n",
      "Fold 4, valid score = 0.70746\n",
      "Training until validation scores don't improve for 50 rounds\n",
      "[100]\ttraining's auc: 0.7262\tvalid_1's auc: 0.6911\n",
      "[200]\ttraining's auc: 0.747637\tvalid_1's auc: 0.697341\n",
      "Did not meet early stopping. Best iteration is:\n",
      "[200]\ttraining's auc: 0.747637\tvalid_1's auc: 0.697341\n",
      "Fold 5, valid score = 0.69734\n",
      "Score by each fold: [0.72249, 0.70906, 0.71218, 0.70746, 0.69734]\n",
      "=================================================================\n"
     ]
    }
   ],
   "source": [
    "model = lgb.LGBMClassifier(**params)\n",
    "estimators, scores['LGBMClassifier'] = model_CV(model=model, \n",
    "                                              X=train.fillna(-9999), \n",
    "                                              y=target, \n",
    "                                              cv=cv, \n",
    "                                              categorical=categorical)"
   ]
  },
  {
   "cell_type": "code",
   "execution_count": 13,
   "metadata": {},
   "outputs": [],
   "source": [
    "models['LGBMClassifier'] = {\n",
    "    'model': model,\n",
    "    'params': params,\n",
    "    'estimators': estimators\n",
    "}"
   ]
  },
  {
   "cell_type": "markdown",
   "metadata": {},
   "source": [
    "XGBoost"
   ]
  },
  {
   "cell_type": "code",
   "execution_count": 14,
   "metadata": {},
   "outputs": [],
   "source": [
    "params = {\n",
    "    \"booster\": \"gbtree\",\n",
    "    \"objective\": \"binary:logistic\",\n",
    "    \"eval_metric\": \"auc\",\n",
    "    \"learning_rate\": 0.1,\n",
    "    \"n_estimators\": 1000,\n",
    "    \"reg_lambda\": 100,\n",
    "    \"max_depth\": 4,\n",
    "    \"gamma\": 10,\n",
    "    \"nthread\": 6,\n",
    "    \"seed\": 27\n",
    "}"
   ]
  },
  {
   "cell_type": "code",
   "execution_count": 15,
   "metadata": {
    "scrolled": true
   },
   "outputs": [
    {
     "name": "stdout",
     "output_type": "stream",
     "text": [
      "Mon Oct 25 22:48:17 2021, cross-validation, 110093 rows, 181 cols\n",
      "[0]\tvalidation_0-auc:0.50000\tvalidation_1-auc:0.50000\n",
      "[100]\tvalidation_0-auc:0.72293\tvalidation_1-auc:0.72465\n",
      "[126]\tvalidation_0-auc:0.72293\tvalidation_1-auc:0.72465\n",
      "Fold 1, valid score = 0.72476\n",
      "[0]\tvalidation_0-auc:0.59817\tvalidation_1-auc:0.58757\n",
      "[100]\tvalidation_0-auc:0.72607\tvalidation_1-auc:0.71251\n",
      "[159]\tvalidation_0-auc:0.72698\tvalidation_1-auc:0.71365\n",
      "Fold 2, valid score = 0.71365\n",
      "[0]\tvalidation_0-auc:0.50000\tvalidation_1-auc:0.50000\n",
      "[100]\tvalidation_0-auc:0.72548\tvalidation_1-auc:0.71949\n",
      "[146]\tvalidation_0-auc:0.72548\tvalidation_1-auc:0.71949\n",
      "Fold 3, valid score = 0.71949\n",
      "[0]\tvalidation_0-auc:0.50000\tvalidation_1-auc:0.50000\n",
      "[100]\tvalidation_0-auc:0.72669\tvalidation_1-auc:0.71386\n",
      "[128]\tvalidation_0-auc:0.72669\tvalidation_1-auc:0.71386\n",
      "Fold 4, valid score = 0.71386\n",
      "[0]\tvalidation_0-auc:0.50000\tvalidation_1-auc:0.50000\n",
      "[100]\tvalidation_0-auc:0.72858\tvalidation_1-auc:0.70308\n",
      "[128]\tvalidation_0-auc:0.72858\tvalidation_1-auc:0.70308\n",
      "Fold 5, valid score = 0.70332\n",
      "Score by each fold: [0.72476, 0.71365, 0.71949, 0.71386, 0.70332]\n",
      "=================================================================\n"
     ]
    }
   ],
   "source": [
    "\n",
    "model = xgb.XGBClassifier(**params)\n",
    "estimators, scores['XGBClassifier'] = model_CV(model=model, \n",
    "                                              X=train.fillna(-9999), \n",
    "                                              y=target, \n",
    "                                              cv=cv, \n",
    "                                              categorical=categorical)"
   ]
  },
  {
   "cell_type": "code",
   "execution_count": 16,
   "metadata": {},
   "outputs": [],
   "source": [
    "models['XGBClassifier'] = {\n",
    "    'model': model,\n",
    "    'params': params,\n",
    "    'estimators': estimators\n",
    "}"
   ]
  },
  {
   "cell_type": "code",
   "execution_count": 17,
   "metadata": {},
   "outputs": [],
   "source": [
    "corr = scores.corr()\n",
    "mask = np.zeros_like(corr, dtype=np.bool)\n",
    "mask[np.triu_indices_from(mask)] = True"
   ]
  },
  {
   "cell_type": "code",
   "execution_count": 18,
   "metadata": {
    "scrolled": false
   },
   "outputs": [
    {
     "data": {
      "text/plain": [
       "<AxesSubplot:>"
      ]
     },
     "execution_count": 18,
     "metadata": {},
     "output_type": "execute_result"
    },
    {
     "data": {
      "image/png": "[encoded data removed]",
      "text/plain": [
       "<Figure size 720x720 with 2 Axes>"
      ]
     },
     "metadata": {
      "needs_background": "light"
     },
     "output_type": "display_data"
    }
   ],
   "source": [
    "fig, axes = plt.subplots(1, 1, figsize=(10, 10))\n",
    "sns.heatmap(corr, mask=mask, annot=True, fmt=\".4g\", square=True, cmap=\"viridis\", ax=axes)"
   ]
  },
  {
   "cell_type": "markdown",
   "metadata": {},
   "source": [
    "Кореляция для двух моделей довольно высокая"
   ]
  },
  {
   "cell_type": "code",
   "execution_count": 19,
   "metadata": {},
   "outputs": [],
   "source": [
    "test_scores['LGBMClassifier'] = estimators_pred(\n",
    "                                    estimators=models['LGBMClassifier']['estimators'], \n",
    "                                    X=test,\n",
    "                                    categorical=categorical)"
   ]
  },
  {
   "cell_type": "code",
   "execution_count": 20,
   "metadata": {},
   "outputs": [],
   "source": [
    "test_scores['XGBClassifier'] = estimators_pred(\n",
    "                                    estimators=models['XGBClassifier']['estimators'], \n",
    "                                    X=test,\n",
    "                                    categorical=categorical)"
   ]
  },
  {
   "cell_type": "code",
   "execution_count": 21,
   "metadata": {},
   "outputs": [],
   "source": [
    "corr = test_scores.corr()\n",
    "mask = np.zeros_like(corr, dtype=np.bool)\n",
    "mask[np.triu_indices_from(mask)] = True"
   ]
  },
  {
   "cell_type": "code",
   "execution_count": 22,
   "metadata": {
    "scrolled": false
   },
   "outputs": [
    {
     "data": {
      "text/plain": [
       "<AxesSubplot:>"
      ]
     },
     "execution_count": 22,
     "metadata": {},
     "output_type": "execute_result"
    },
    {
     "data": {
      "image/png": "[encoded data removed]",
      "text/plain": [
       "<Figure size 720x720 with 2 Axes>"
      ]
     },
     "metadata": {
      "needs_background": "light"
     },
     "output_type": "display_data"
    }
   ],
   "source": [
    "fig, axes = plt.subplots(1, 1, figsize=(10, 10))\n",
    "sns.heatmap(corr, mask=mask, annot=True, fmt=\".4g\", square=True, cmap=\"viridis\", ax=axes)"
   ]
  },
  {
   "cell_type": "markdown",
   "metadata": {},
   "source": [
    "Но для тестовых данных кореляция еще выше"
   ]
  },
  {
   "cell_type": "markdown",
   "metadata": {},
   "source": [
    "#### 2.\n",
    "Усреднить прогнозы с помощью арифмитического среднего, геометрического среднего и усреднить ранги, сделать выводы о качестве отдельных моделей и о качестве комбинации."
   ]
  },
  {
   "cell_type": "code",
   "execution_count": 23,
   "metadata": {},
   "outputs": [
    {
     "data": {
      "text/plain": [
       "0.7090317705158078"
      ]
     },
     "execution_count": 23,
     "metadata": {},
     "output_type": "execute_result"
    }
   ],
   "source": [
    "score_lgbm = roc_auc_score(target, scores['LGBMClassifier'])\n",
    "score_lgbm"
   ]
  },
  {
   "cell_type": "code",
   "execution_count": 24,
   "metadata": {
    "scrolled": true
   },
   "outputs": [
    {
     "data": {
      "text/plain": [
       "0.7143761317131095"
      ]
     },
     "execution_count": 24,
     "metadata": {},
     "output_type": "execute_result"
    }
   ],
   "source": [
    "score_xgb = roc_auc_score(target, scores['XGBClassifier'])\n",
    "score_xgb"
   ]
  },
  {
   "cell_type": "code",
   "execution_count": 25,
   "metadata": {
    "scrolled": true
   },
   "outputs": [
    {
     "data": {
      "text/plain": [
       "0.7117039511144587"
      ]
     },
     "execution_count": 25,
     "metadata": {},
     "output_type": "execute_result"
    }
   ],
   "source": [
    "(score_lgbm + score_xgb) / 2"
   ]
  },
  {
   "cell_type": "code",
   "execution_count": 26,
   "metadata": {},
   "outputs": [
    {
     "data": {
      "text/plain": [
       "0.7130917497495382"
      ]
     },
     "execution_count": 26,
     "metadata": {},
     "output_type": "execute_result"
    }
   ],
   "source": [
    "mean_score_2 = scores.sum(axis=1)\n",
    "roc_auc_score(target, mean_score_2)"
   ]
  },
  {
   "cell_type": "markdown",
   "metadata": {},
   "source": [
    "Усреднение работает неплохо. Значение качества много лучше просто усредненного"
   ]
  },
  {
   "cell_type": "markdown",
   "metadata": {},
   "source": [
    "#### 3.\n",
    "Обучить CatBoost, получить OOF прогнозы и выполнить задание 1 для трех моделей."
   ]
  },
  {
   "cell_type": "markdown",
   "metadata": {},
   "source": [
    "CatBoost"
   ]
  },
  {
   "cell_type": "code",
   "execution_count": 27,
   "metadata": {},
   "outputs": [],
   "source": [
    "cb_params = {\n",
    "    \"n_estimators\": 200,\n",
    "    \"loss_function\": \"Logloss\",\n",
    "    \"eval_metric\": \"AUC\",\n",
    "    \"task_type\": \"CPU\",\n",
    "    \"max_bin\": 20,\n",
    "    \"verbose\": 10,\n",
    "    \"max_depth\": 6,\n",
    "    \"l2_leaf_reg\": 100,\n",
    "    \"early_stopping_rounds\": 50,\n",
    "    \"thread_count\": 6,\n",
    "    \"random_seed\": 42\n",
    "}"
   ]
  },
  {
   "cell_type": "code",
   "execution_count": 28,
   "metadata": {
    "scrolled": true
   },
   "outputs": [
    {
     "name": "stdout",
     "output_type": "stream",
     "text": [
      "Mon Oct 25 22:50:53 2021, cross-validation, 110093 rows, 181 cols\n",
      "0:\ttest: 0.5535711\ttest1: 0.5509049\tbest: 0.5509049 (0)\ttotal: 227ms\tremaining: 45.1s\n",
      "100:\ttest: 0.7117872\ttest1: 0.7175109\tbest: 0.7175109 (100)\ttotal: 6.45s\tremaining: 6.32s\n",
      "199:\ttest: 0.7246892\ttest1: 0.7249679\tbest: 0.7250084 (196)\ttotal: 12.7s\tremaining: 0us\n",
      "\n",
      "bestTest = 0.7250083644\n",
      "bestIteration = 196\n",
      "\n",
      "Shrink model to first 197 iterations.\n",
      "Fold 1, valid score = 0.72501\n",
      "0:\ttest: 0.5506185\ttest1: 0.5525461\tbest: 0.5525461 (0)\ttotal: 52.2ms\tremaining: 10.4s\n",
      "100:\ttest: 0.7153906\ttest1: 0.7041262\tbest: 0.7041262 (100)\ttotal: 6.73s\tremaining: 6.6s\n",
      "199:\ttest: 0.7278671\ttest1: 0.7123676\tbest: 0.7124215 (197)\ttotal: 13.2s\tremaining: 0us\n",
      "\n",
      "bestTest = 0.7124215033\n",
      "bestIteration = 197\n",
      "\n",
      "Shrink model to first 198 iterations.\n",
      "Fold 2, valid score = 0.71242\n",
      "0:\ttest: 0.5072603\ttest1: 0.5102073\tbest: 0.5102073 (0)\ttotal: 51.3ms\tremaining: 10.2s\n",
      "100:\ttest: 0.7129998\ttest1: 0.7084109\tbest: 0.7085021 (99)\ttotal: 6.26s\tremaining: 6.13s\n",
      "199:\ttest: 0.7252707\ttest1: 0.7157188\tbest: 0.7157829 (198)\ttotal: 12.3s\tremaining: 0us\n",
      "\n",
      "bestTest = 0.7157828562\n",
      "bestIteration = 198\n",
      "\n",
      "Shrink model to first 199 iterations.\n",
      "Fold 3, valid score = 0.71578\n",
      "0:\ttest: 0.5556889\ttest1: 0.5376805\tbest: 0.5376805 (0)\ttotal: 72.8ms\tremaining: 14.5s\n",
      "100:\ttest: 0.7160885\ttest1: 0.7045201\tbest: 0.7045201 (100)\ttotal: 6.88s\tremaining: 6.74s\n",
      "199:\ttest: 0.7275278\ttest1: 0.7107675\tbest: 0.7109529 (193)\ttotal: 13.8s\tremaining: 0us\n",
      "\n",
      "bestTest = 0.7109528796\n",
      "bestIteration = 193\n",
      "\n",
      "Shrink model to first 194 iterations.\n",
      "Fold 4, valid score = 0.71095\n",
      "0:\ttest: 0.5927726\ttest1: 0.5840017\tbest: 0.5840017 (0)\ttotal: 78.3ms\tremaining: 15.6s\n",
      "100:\ttest: 0.7173918\ttest1: 0.6987729\tbest: 0.6987729 (100)\ttotal: 8.4s\tremaining: 8.23s\n",
      "199:\ttest: 0.7297565\ttest1: 0.7044294\tbest: 0.7044294 (199)\ttotal: 15.8s\tremaining: 0us\n",
      "\n",
      "bestTest = 0.7044293969\n",
      "bestIteration = 199\n",
      "\n",
      "Fold 5, valid score = 0.70443\n",
      "Score by each fold: [0.72501, 0.71242, 0.71578, 0.71095, 0.70443]\n",
      "=================================================================\n"
     ]
    }
   ],
   "source": [
    "model = cb.CatBoostClassifier(**cb_params)\n",
    "estimators, scores['CatBoostClassifier'] = model_CV(model=model, \n",
    "                                              X=train.fillna(-9999), \n",
    "                                              y=target, \n",
    "                                              cv=cv, \n",
    "                                              categorical=categorical)"
   ]
  },
  {
   "cell_type": "code",
   "execution_count": 29,
   "metadata": {},
   "outputs": [],
   "source": [
    "models['CatBoostClassifier'] = {\n",
    "    'model': model,\n",
    "    'params': params,\n",
    "    'estimators': estimators\n",
    "}"
   ]
  },
  {
   "cell_type": "code",
   "execution_count": 30,
   "metadata": {},
   "outputs": [],
   "source": [
    "corr = scores.corr()\n",
    "mask = np.zeros_like(corr, dtype=np.bool)\n",
    "mask[np.triu_indices_from(mask)] = True"
   ]
  },
  {
   "cell_type": "code",
   "execution_count": 31,
   "metadata": {
    "scrolled": false
   },
   "outputs": [
    {
     "data": {
      "text/plain": [
       "<AxesSubplot:>"
      ]
     },
     "execution_count": 31,
     "metadata": {},
     "output_type": "execute_result"
    },
    {
     "data": {
      "image/png": "[encoded data removed]",
      "text/plain": [
       "<Figure size 720x720 with 2 Axes>"
      ]
     },
     "metadata": {
      "needs_background": "light"
     },
     "output_type": "display_data"
    }
   ],
   "source": [
    "fig, axes = plt.subplots(1, 1, figsize=(10, 10))\n",
    "sns.heatmap(corr, mask=mask, annot=True, fmt=\".4g\", square=True, cmap=\"viridis\", ax=axes)"
   ]
  },
  {
   "cell_type": "markdown",
   "metadata": {},
   "source": [
    "Видим, что катбуст заметно слабее коррелирует с остальными моделями"
   ]
  },
  {
   "cell_type": "code",
   "execution_count": 32,
   "metadata": {},
   "outputs": [],
   "source": [
    "test_scores['CatBoostClassifier'] = estimators_pred(\n",
    "                                    estimators=models['CatBoostClassifier']['estimators'], \n",
    "                                    X=test,\n",
    "                                    categorical=categorical)"
   ]
  },
  {
   "cell_type": "code",
   "execution_count": 33,
   "metadata": {},
   "outputs": [],
   "source": [
    "corr = test_scores.corr()\n",
    "mask = np.zeros_like(corr, dtype=np.bool)\n",
    "mask[np.triu_indices_from(mask)] = True"
   ]
  },
  {
   "cell_type": "code",
   "execution_count": 34,
   "metadata": {
    "scrolled": false
   },
   "outputs": [
    {
     "data": {
      "text/plain": [
       "<AxesSubplot:>"
      ]
     },
     "execution_count": 34,
     "metadata": {},
     "output_type": "execute_result"
    },
    {
     "data": {
      "image/png": "[encoded data removed]",
      "text/plain": [
       "<Figure size 720x720 with 2 Axes>"
      ]
     },
     "metadata": {
      "needs_background": "light"
     },
     "output_type": "display_data"
    }
   ],
   "source": [
    "fig, axes = plt.subplots(1, 1, figsize=(10, 10))\n",
    "sns.heatmap(corr, mask=mask, annot=True, fmt=\".4g\", square=True, cmap=\"viridis\", ax=axes)"
   ]
  },
  {
   "cell_type": "markdown",
   "metadata": {},
   "source": [
    "Единица никуда не делась, но и не появилась для катбуста"
   ]
  },
  {
   "cell_type": "markdown",
   "metadata": {},
   "source": [
    "#### 4. \n",
    "Выполнить задание 2 для трех моделей."
   ]
  },
  {
   "cell_type": "code",
   "execution_count": 35,
   "metadata": {
    "scrolled": true
   },
   "outputs": [
    {
     "data": {
      "text/plain": [
       "0.7090317705158078"
      ]
     },
     "execution_count": 35,
     "metadata": {},
     "output_type": "execute_result"
    }
   ],
   "source": [
    "score_lgbm"
   ]
  },
  {
   "cell_type": "code",
   "execution_count": 36,
   "metadata": {
    "scrolled": true
   },
   "outputs": [
    {
     "data": {
      "text/plain": [
       "0.7143761317131095"
      ]
     },
     "execution_count": 36,
     "metadata": {},
     "output_type": "execute_result"
    }
   ],
   "source": [
    "score_xgb"
   ]
  },
  {
   "cell_type": "code",
   "execution_count": 37,
   "metadata": {
    "scrolled": true
   },
   "outputs": [
    {
     "data": {
      "text/plain": [
       "0.7132997193289512"
      ]
     },
     "execution_count": 37,
     "metadata": {},
     "output_type": "execute_result"
    }
   ],
   "source": [
    "score_cat = roc_auc_score(target, scores['CatBoostClassifier'])\n",
    "score_cat"
   ]
  },
  {
   "cell_type": "code",
   "execution_count": 38,
   "metadata": {
    "scrolled": true
   },
   "outputs": [
    {
     "data": {
      "text/plain": [
       "0.7122358738526229"
      ]
     },
     "execution_count": 38,
     "metadata": {},
     "output_type": "execute_result"
    }
   ],
   "source": [
    "(score_lgbm + score_xgb + score_cat) / 3"
   ]
  },
  {
   "cell_type": "code",
   "execution_count": 39,
   "metadata": {},
   "outputs": [
    {
     "data": {
      "text/plain": [
       "0.7130917497495382"
      ]
     },
     "execution_count": 39,
     "metadata": {},
     "output_type": "execute_result"
    }
   ],
   "source": [
    "mean_score_3 = scores.sum(axis=1)\n",
    "roc_auc_score(target, mean_score_2)"
   ]
  },
  {
   "cell_type": "markdown",
   "metadata": {},
   "source": [
    "Значение качества всё еще лучше просто усредненного, но странно, что оно не улучшилось от появления новой модели, которая более слабо коррелирует с остальными"
   ]
  },
  {
   "cell_type": "markdown",
   "metadata": {},
   "source": [
    "Что-то очень сомневаюсь в правильности выполнения этого ДЗ, но стараюсь больше времени уделять курсовой"
   ]
  },
  {
   "cell_type": "markdown",
   "metadata": {},
   "source": [
    "#### 5. (опция) \n",
    "Объединить OOF-прогнозы для трех моделей и обучить алгоритм Логистической регрессии (и любой другой, на ваше усмотрение). Сделать выводы о достигаемом качестве, сравнить достигаемое качество с качеством отдельных моделей и моделей, полученных в п.2 и п.4."
   ]
  },
  {
   "cell_type": "code",
   "execution_count": null,
   "metadata": {},
   "outputs": [],
   "source": []
  },
  {
   "cell_type": "markdown",
   "metadata": {},
   "source": [
    "#### 6. (опция) \n",
    "Обучить алгоритмRandomForest (желательно подтюнить параметры) и добавить к построенным ранее моделям. Выполнить задание 5."
   ]
  },
  {
   "cell_type": "code",
   "execution_count": null,
   "metadata": {},
   "outputs": [],
   "source": []
  }
 ],
 "metadata": {
  "kernelspec": {
   "display_name": "Python 3",
   "language": "python",
   "name": "python3"
  },
  "language_info": {
   "codemirror_mode": {
    "name": "ipython",
    "version": 3
   },
   "file_extension": ".py",
   "mimetype": "text/x-python",
   "name": "python",
   "nbconvert_exporter": "python",
   "pygments_lexer": "ipython3",
   "version": "3.8.5"
  }
 },
 "nbformat": 4,
 "nbformat_minor": 4
}
