{
 "cells": [
  {
   "cell_type": "code",
   "execution_count": 1,
   "metadata": {},
   "outputs": [],
   "source": [
    "import numpy as np\n",
    "import pandas as pd\n",
    "import catboost as cb\n",
    "import lightgbm as lgb\n",
    "import xgboost as xgb\n",
    "import matplotlib.pyplot as plt\n",
    "import seaborn as sns\n",
    "from typing import List, Optional\n",
    "\n",
    "import warnings\n",
    "warnings.filterwarnings('ignore')\n",
    "\n",
    "from scipy.stats import gmean\n",
    "from bayes_opt import BayesianOptimization\n",
    "from sklearn.metrics import roc_auc_score\n",
    "from sklearn.model_selection import train_test_split\n",
    "from imblearn.over_sampling import SMOTE\n",
    "from scipy.stats import skew, kurtosis"
   ]
  },
  {
   "cell_type": "code",
   "execution_count": 2,
   "metadata": {},
   "outputs": [],
   "source": [
    "def concat_features(df, features, name=None):\n",
    "    df_copy = df.copy()\n",
    "    if name is None:\n",
    "        name = '_'.join(features)\n",
    "    df_copy[name] = df_copy[features[0]]\n",
    "    for i, feature in enumerate(features):\n",
    "        if i == 0:\n",
    "            continue\n",
    "        df_copy[name] += '_' + df_copy[feature].astype(str)\n",
    "    return df_copy\n",
    "\n",
    "def get_lower(x: str) -> str:\n",
    "    return x.replace(' ', '_').lower()\n",
    "\n",
    "def agg_features(df, df_out, by: str, func='mean'):\n",
    "    df_copy = df.copy()\n",
    "    df_out_copy = df_out.copy()\n",
    "    cols = df_copy.drop(by, axis=1).columns\n",
    "    for feature in cols:\n",
    "        feature_groupby = df_copy.groupby(by, as_index=False)\n",
    "        if func == 'mean':\n",
    "            feature_counts = feature_groupby[feature].mean()\n",
    "        elif func == 'count':\n",
    "            feature_counts = feature_groupby[feature].count()\n",
    "        feature_counts = feature_counts.rename(columns={\n",
    "            feature: feature + f'_{func}'\n",
    "        })\n",
    "        df_out_copy = df_out_copy.merge(feature_counts, how=\"left\", on=by)\n",
    "    return df_out_copy\n",
    "\n",
    "def get_input(data_path: str,\n",
    "              base_path: str= './data/',\n",
    "              col_lower=True) -> pd.DataFrame:\n",
    "    data = pd.read_csv(f'{base_path}/{data_path}')\n",
    "    if col_lower:\n",
    "        data.columns = [col.lower() for col in data.columns]\n",
    "    print(f'{data_path}: {data.shape[0]} rows, {data.shape[1]} cols')\n",
    "    return data\n",
    "\n",
    "\n",
    "def clip_outliers(X, lower=0.001, upper=0.999):\n",
    "    new_X = X.copy()\n",
    "    new_X = new_X.apply(lambda x: x.clip(*x.quantile([lower, upper])), axis=1)\n",
    "    return new_X\n",
    "\n",
    "def get_isna_features(X, target_name, treshhold=0.2):\n",
    "    X_copy = X.copy()\n",
    "    isna_features = []\n",
    "    for feature in X.columns:\n",
    "        new_f = np.zeros(X.shape[0])\n",
    "        new_f = X[feature].isna()\n",
    "        new_f_name = f'isna_{feature}'\n",
    "        X_copy[new_f_name] = new_f.astype(int)\n",
    "        isna_features.append(new_f_name)\n",
    "\n",
    "    # Считаем влияние пропуска в признаке на распределение таргета в каждом признаке\n",
    "    isna_influence = dict()\n",
    "    for feature in isna_features:\n",
    "        if feature in ['isna_application_number','isna_target','isna_name_contract_type']:\n",
    "            continue\n",
    "        data_target = X_copy.loc[X_copy[target_name] == 1]\n",
    "        a = X_copy.loc[X_copy[feature] == 0, feature].count()\n",
    "        a = a / X_copy.loc[X_copy[feature] == 1, feature].count()\n",
    "        b = data_target.loc[data_target[feature] == 0, feature].count()\n",
    "        b = b / data_target.loc[data_target[feature] == 1, feature].count()\n",
    "        isna_influence[feature] = abs(a - b)\n",
    "\n",
    "    isna_influence = pd.DataFrame(isna_influence.items(), \n",
    "                                  columns=['feature', 'influence'])\\\n",
    "                    .sort_values(by='influence', ascending=False)\n",
    "    isna_influence_list = isna_influence.loc[ \\\n",
    "                isna_influence['influence'] > treshhold, 'feature'].tolist()\n",
    "    return X_copy[isna_influence_list]\n",
    "\n",
    "def category_encoding(series, bins=None, schema: dict=None, fillNa=0):\n",
    "    series = series.copy()\n",
    "    if not fillNa is None:\n",
    "        series = series.fillna(value=fillNa)\n",
    "    names = series.value_counts().keys().tolist()\n",
    "    k = len(names) // bins if bins else 1\n",
    "    if schema is None:\n",
    "        schema = {value: int(key // k) for key, value in enumerate(names, start=1)}\n",
    "    for name, i in schema.items():\n",
    "        series[series == name] = i\n",
    "    return series, schema"
   ]
  },
  {
   "cell_type": "code",
   "execution_count": 3,
   "metadata": {},
   "outputs": [],
   "source": [
    "def create_categorical_aggs(data: pd.DataFrame,\n",
    "                            groupby_id: str,\n",
    "                            features: List[str],\n",
    "                            prefix: Optional[str] = None,\n",
    "                            suffix: Optional[str] = None,\n",
    "                            ) -> pd.DataFrame:\n",
    "    \"\"\"\n",
    "    Построение агрегаций для категориальных признаков.\n",
    "    Для категориальных признако считаются счетчики для\n",
    "    каждого значения категории и среднее значение счетчика\n",
    "    для каждого значения категории.\n",
    "\n",
    "    Parameters\n",
    "    ----------\n",
    "    data: pandas.core.frame.DataFrame\n",
    "        Выборка для построения агрегаций.\n",
    "\n",
    "    groupby_id: str\n",
    "        Название ключа, по которому нужно произвести группировку.\n",
    "\n",
    "    features: List[str]\n",
    "        Список с названием признаков, для которых произвести\n",
    "        группировку.\n",
    "\n",
    "    prefix: str, optional, default = None\n",
    "        Префикс для названия признаков.\n",
    "        Опциональный параметр, по умолчанию, не используется.\n",
    "\n",
    "    suffix: str, optional, default = None\n",
    "        Суффикс для названия признаков.\n",
    "        Опциональный параметр, по умолчанию, не используется.\n",
    "\n",
    "    Returns\n",
    "    -------\n",
    "    stats: pandas.core.frame.DataFrame\n",
    "        Выборка с рассчитанными агрегациями.\n",
    "\n",
    "    \"\"\"\n",
    "    if not prefix:\n",
    "        prefix = \"\"\n",
    "    if not suffix:\n",
    "        suffix = \"\"\n",
    "\n",
    "    categorical = pd.get_dummies(data[features])\n",
    "    columns_to_agg = categorical.columns\n",
    "\n",
    "    categorical[groupby_id] = data[groupby_id]\n",
    "    data_grouped = categorical.groupby(groupby_id)\n",
    "    stats = data_grouped.agg({col: [\"mean\", \"sum\"] for col in columns_to_agg})\n",
    "    stats.columns = [f\"{prefix}{feature}_{stat}{suffix}\".lower() for feature, stat in stats]\n",
    "    stats.columns = [col.replace(\"MEAN\", \"RATIO\") for col in stats.columns]\n",
    "    stats.columns = [col.replace(\"SUM\", \"TOTAL\") for col in stats.columns]\n",
    "    stats = stats.reset_index()\n",
    "\n",
    "    return stats\n",
    "\n",
    "def create_numerical_aggs(data: pd.DataFrame,\n",
    "                          groupby_id: str,\n",
    "                          aggs: dict,\n",
    "                          prefix: Optional[str] = None,\n",
    "                          suffix: Optional[str] = None,\n",
    "                          ) -> pd.DataFrame:\n",
    "    \"\"\"\n",
    "    Построение агрегаций для числовых признаков.\n",
    "\n",
    "    Parameters\n",
    "    ----------\n",
    "    data: pandas.core.frame.DataFrame\n",
    "        Выборка для построения агрегаций.\n",
    "\n",
    "    groupby_id: str\n",
    "        Название ключа, по которому нужно произвести группировку.\n",
    "\n",
    "    aggs: dict\n",
    "        Словарь с названием признака и списка функций.\n",
    "        Ключ словаря - название признака, который используется для\n",
    "        вычисления агрегаций, значение словаря - список с названием\n",
    "        функций для вычисления агрегаций.\n",
    "\n",
    "    prefix: str, optional, default = None\n",
    "        Префикс для названия признаков.\n",
    "        Опциональный параметр, по умолчанию, не используется.\n",
    "\n",
    "    suffix: str, optional, default = None\n",
    "        Суффикс для названия признаков.\n",
    "        Опциональный параметр, по умолчанию, не используется.\n",
    "\n",
    "    Returns\n",
    "    -------\n",
    "    stats: pandas.core.frame.DataFrame\n",
    "        Выборка с рассчитанными агрегациями.\n",
    "\n",
    "    \"\"\"\n",
    "    if not prefix:\n",
    "        prefix = \"\"\n",
    "    if not suffix:\n",
    "        suffix = \"\"\n",
    "\n",
    "    data_grouped = data.groupby(groupby_id)\n",
    "    stats = data_grouped.agg(aggs)\n",
    "    stats.columns = [f\"{prefix}{feature}_{stat}{suffix}\".lower() for feature, stat in stats]\n",
    "    stats = stats.reset_index()\n",
    "\n",
    "    return stats"
   ]
  },
  {
   "cell_type": "code",
   "execution_count": 4,
   "metadata": {},
   "outputs": [],
   "source": [
    "def create_client_profile_features(X: pd.DataFrame, copy=True) -> pd.DataFrame:\n",
    "    if copy:\n",
    "        X = X.copy()\n",
    "        \n",
    "    X['days_on_last_job'] = X['days_on_last_job'].replace(365243, np.nan)\n",
    "    bki_flags = [flag for flag in X.columns if 'amt_req_credit_bureau' in flag]\n",
    "    X['bki_request_count'] = X[bki_flags].sum(axis=1)\n",
    "    X['bki_kurtosis'] = X[bki_flags].kurtosis(axis=1)\n",
    "    \n",
    "    X['external_scoring_prod'] = X['external_scoring_rating_1'] * \\\n",
    "            X['external_scoring_rating_2'] * X['external_scoring_rating_3']\n",
    "    X['external_scoring_weighted'] = X['external_scoring_rating_1']*2 + \\\n",
    "            X['external_scoring_rating_2']*1 + X['external_scoring_rating_3']*3\n",
    "    \n",
    "    for function_name in ['min', 'max', 'mean', 'nanmedian', 'var']:\n",
    "        feature_name = 'external_scoring_rating_{}'.format(function_name)\n",
    "        X[feature_name] = eval('np.{}'.format(function_name))(\n",
    "                                            X[['external_scoring_rating_1', \n",
    "                                               'external_scoring_rating_2', \n",
    "                                               'external_scoring_rating_3']],\n",
    "                                            axis=1)\n",
    "    \n",
    "    # Отношения между основными финансовыми показателями\n",
    "    X['ratio_credit_to_annuity'] = X['amount_credit'] / X['amount_annuity']\n",
    "    X['ratio_annuity_to_salary'] = X['amount_annuity'] / X['total_salary']\n",
    "    X['ratio_credit_to_salary'] = X['amount_credit'] / X['total_salary']\n",
    "    X['total_salary_net'] = X['total_salary'] - X['amount_annuity']\n",
    "    \n",
    "    # Отношение финансовых показателей к возрасту и временным признакам\n",
    "    X['ratio_annuity_to_age'] = X['amount_annuity'] / X['age']\n",
    "    X['ratio_credit_to_age'] = X['amount_credit'] / X['age']\n",
    "    X['ratio_salary_to_age'] = X['total_salary'] / X['age']\n",
    "    X['ratio_salary_to_experience'] = X['total_salary'] / X['days_on_last_job']\n",
    "    X['ratio_credit_to_experience'] = X['amount_credit'] / X['days_on_last_job']\n",
    "    X['ratio_annuity_to_experience'] = X['amount_annuity'] / X['days_on_last_job']\n",
    "    \n",
    "    # Отношение временных признаков\n",
    "    X['ratio_age_to_experience'] = X['age'] / X['days_on_last_job']\n",
    "    X['ratio_salary_to_region_population'] = X['total_salary'] / X['region_population']\n",
    "    X['ratio_car_to_experience'] = X['own_car_age'] / X['days_on_last_job']\n",
    "    X['ratio_car_to_age'] = X['own_car_age'] / X['age']\n",
    "    \n",
    "    # Произведение финансовых показателей кредита на вероятность дефолта\n",
    "    # (математическое ожидание дефолта или ожидаемые потери)\n",
    "    X['expected_total_loss_1'] = X['external_scoring_rating_1'] * X['amount_credit']\n",
    "    X['expected_total_loss_2'] = X['external_scoring_rating_2'] * X['amount_credit']\n",
    "    X['expected_total_loss_3'] = X['external_scoring_rating_3'] * X['amount_credit']\n",
    "    X['expected_monthly_loss_1'] = X['external_scoring_rating_1'] * X['amount_annuity']\n",
    "    X['expected_monthly_loss_2'] = X['external_scoring_rating_2'] * X['amount_annuity']\n",
    "    X['expected_monthly_loss_3'] = X['external_scoring_rating_3'] * X['amount_annuity']\n",
    "    \n",
    "#     X['external_scoring_rating_1_plus_2'] = np.nansum(\n",
    "#         X[['external_scoring_rating_1', 'external_scoring_rating_2']], axis=1\n",
    "#     )\n",
    "#     X['external_scoring_rating_1_plus_3'] = np.nansum(\n",
    "#         X[['external_scoring_rating_1', 'external_scoring_rating_3']], axis=1\n",
    "#     )\n",
    "#     X['external_scoring_rating_2_plus_3'] = np.nansum(\n",
    "#         X[['external_scoring_rating_2', 'external_scoring_rating_3']], axis=1\n",
    "# #     )\n",
    "#     X['external_scoring_rating_1_is_nan'] = np.isnan(X['external_scoring_rating_1'])\n",
    "#     X['external_scoring_rating_2_is_nan'] = np.isnan(X['external_scoring_rating_2'])\n",
    "#     X['external_scoring_rating_3_is_nan'] = np.isnan(X['external_scoring_rating_3'])\n",
    "    \n",
    "    # Дополнительные признаки\n",
    "#     X['ratio_credit_per_family_size'] = X['amount_credit'] / X['family_size']\n",
    "#     X['ratio_credit_per_childrens'] = X['amount_credit'] / (1 + X['childrens'])\n",
    "#     X['ratio_children_to_family_size'] = X['childrens'] / X['family_size']\n",
    "#     X['ratio_salary_per_family_size'] = X['total_salary'] / X['family_size']\n",
    "#     X['ratio_salary_per_child'] = X['total_salary'] / X['childrens']\n",
    "#     X['non_child'] = X['family_size'] - X['childrens']\n",
    "#     X['ratio_child_to_non_child'] = X['childrens'] / X['non_child']\n",
    "#     X['ratio_salary_per_non_child'] = X['total_salary'] / X['non_child']\n",
    "#     X['ratio_credit_per_non_child'] = X['amount_credit'] / X['non_child']\n",
    "    \n",
    "    return X\n",
    "\n",
    "def create_app_history_features(X: pd.DataFrame, copy=True) -> pd.DataFrame:\n",
    "    if copy:\n",
    "        X = X.copy()\n",
    "        \n",
    "    X['amount_annuity_amount_credit'] = X['amount_annuity'] / X['amount_credit']\n",
    "    X['delay_first_payment'] = X['days_first_drawing'] - X['days_first_due']\n",
    "    X['delay_last_payment'] = X['days_last_due'] - X['days_last_due_1st_version']\n",
    "    X['payment_in_advance'] = X['days_termination'] - X['days_last_due_1st_version']\n",
    "    \n",
    "    return X\n",
    "\n",
    "def create_bki_features(X: pd.DataFrame, copy=True) -> pd.DataFrame:\n",
    "    if copy:\n",
    "        X = X.copy()\n",
    "        \n",
    "    X['delays'] = X['amt_credit_sum_overdue'] * X['amt_credit_sum_debt'] * \\\n",
    "                  X['credit_day_overdue'] * X['amt_annuity'] / X['days_enddate_fact']\n",
    "    \n",
    "    return X\n",
    "\n",
    "def create_payments_features(X: pd.DataFrame, copy=True) -> pd.DataFrame:\n",
    "    if copy:\n",
    "        X = X.copy()\n",
    "        \n",
    "    X['last_delay'] = X['days_instalment'] - X['days_entry_payment']\n",
    "    X['last_paid_amount'] = (X['amt_instalment'] - X['amt_payment']) \\\n",
    "                            * X['num_instalment_version']\n",
    "    \n",
    "    return X"
   ]
  },
  {
   "cell_type": "code",
   "execution_count": 5,
   "metadata": {},
   "outputs": [
    {
     "name": "stdout",
     "output_type": "stream",
     "text": [
      "train.csv: 110093 rows, 3 cols\n",
      "test.csv: 165141 rows, 2 cols\n"
     ]
    },
    {
     "data": {
      "text/html": [
       "<div>\n",
       "<style scoped>\n",
       "    .dataframe tbody tr th:only-of-type {\n",
       "        vertical-align: middle;\n",
       "    }\n",
       "\n",
       "    .dataframe tbody tr th {\n",
       "        vertical-align: top;\n",
       "    }\n",
       "\n",
       "    .dataframe thead th {\n",
       "        text-align: right;\n",
       "    }\n",
       "</style>\n",
       "<table border=\"1\" class=\"dataframe\">\n",
       "  <thead>\n",
       "    <tr style=\"text-align: right;\">\n",
       "      <th></th>\n",
       "      <th>application_number</th>\n",
       "      <th>target</th>\n",
       "      <th>name_contract_type</th>\n",
       "    </tr>\n",
       "  </thead>\n",
       "  <tbody>\n",
       "    <tr>\n",
       "      <th>0</th>\n",
       "      <td>123687442</td>\n",
       "      <td>0.0</td>\n",
       "      <td>Cash</td>\n",
       "    </tr>\n",
       "    <tr>\n",
       "      <th>1</th>\n",
       "      <td>123597908</td>\n",
       "      <td>1.0</td>\n",
       "      <td>Cash</td>\n",
       "    </tr>\n",
       "    <tr>\n",
       "      <th>2</th>\n",
       "      <td>123526683</td>\n",
       "      <td>0.0</td>\n",
       "      <td>Cash</td>\n",
       "    </tr>\n",
       "  </tbody>\n",
       "</table>\n",
       "</div>"
      ],
      "text/plain": [
       "   application_number  target name_contract_type\n",
       "0           123687442     0.0               Cash\n",
       "1           123597908     1.0               Cash\n",
       "2           123526683     0.0               Cash"
      ]
     },
     "execution_count": 5,
     "metadata": {},
     "output_type": "execute_result"
    }
   ],
   "source": [
    "train = get_input('train.csv')\n",
    "test = get_input('test.csv')\n",
    "\n",
    "data = pd.concat([train, test], axis=0)\n",
    "data = data.reset_index(drop=True)\n",
    "data.head(3)"
   ]
  },
  {
   "cell_type": "code",
   "execution_count": 6,
   "metadata": {},
   "outputs": [],
   "source": [
    "target_name = 'target'"
   ]
  },
  {
   "cell_type": "markdown",
   "metadata": {},
   "source": [
    "### profile"
   ]
  },
  {
   "cell_type": "code",
   "execution_count": 7,
   "metadata": {},
   "outputs": [
    {
     "name": "stdout",
     "output_type": "stream",
     "text": [
      "client_profile.csv: 250000 rows, 24 cols\n"
     ]
    },
    {
     "data": {
      "text/html": [
       "<div>\n",
       "<style scoped>\n",
       "    .dataframe tbody tr th:only-of-type {\n",
       "        vertical-align: middle;\n",
       "    }\n",
       "\n",
       "    .dataframe tbody tr th {\n",
       "        vertical-align: top;\n",
       "    }\n",
       "\n",
       "    .dataframe thead th {\n",
       "        text-align: right;\n",
       "    }\n",
       "</style>\n",
       "<table border=\"1\" class=\"dataframe\">\n",
       "  <thead>\n",
       "    <tr style=\"text-align: right;\">\n",
       "      <th></th>\n",
       "      <th>application_number</th>\n",
       "      <th>gender</th>\n",
       "      <th>childrens</th>\n",
       "      <th>total_salary</th>\n",
       "      <th>amount_credit</th>\n",
       "      <th>amount_annuity</th>\n",
       "      <th>education_level</th>\n",
       "      <th>family_status</th>\n",
       "      <th>region_population</th>\n",
       "      <th>age</th>\n",
       "      <th>...</th>\n",
       "      <th>family_size</th>\n",
       "      <th>external_scoring_rating_1</th>\n",
       "      <th>external_scoring_rating_2</th>\n",
       "      <th>external_scoring_rating_3</th>\n",
       "      <th>amt_req_credit_bureau_hour</th>\n",
       "      <th>amt_req_credit_bureau_day</th>\n",
       "      <th>amt_req_credit_bureau_week</th>\n",
       "      <th>amt_req_credit_bureau_mon</th>\n",
       "      <th>amt_req_credit_bureau_qrt</th>\n",
       "      <th>amt_req_credit_bureau_year</th>\n",
       "    </tr>\n",
       "  </thead>\n",
       "  <tbody>\n",
       "    <tr>\n",
       "      <th>0</th>\n",
       "      <td>123666076</td>\n",
       "      <td>F</td>\n",
       "      <td>0</td>\n",
       "      <td>157500.0</td>\n",
       "      <td>270000.0</td>\n",
       "      <td>13500.0</td>\n",
       "      <td>Incomplete higher</td>\n",
       "      <td>Civil marriage</td>\n",
       "      <td>0.008068</td>\n",
       "      <td>8560</td>\n",
       "      <td>...</td>\n",
       "      <td>2.0</td>\n",
       "      <td>0.329471</td>\n",
       "      <td>0.236315</td>\n",
       "      <td>0.678568</td>\n",
       "      <td>0.0</td>\n",
       "      <td>0.0</td>\n",
       "      <td>0.0</td>\n",
       "      <td>0.0</td>\n",
       "      <td>1.0</td>\n",
       "      <td>2.0</td>\n",
       "    </tr>\n",
       "    <tr>\n",
       "      <th>1</th>\n",
       "      <td>123423688</td>\n",
       "      <td>F</td>\n",
       "      <td>0</td>\n",
       "      <td>270000.0</td>\n",
       "      <td>536917.5</td>\n",
       "      <td>28467.0</td>\n",
       "      <td>Secondary / secondary special</td>\n",
       "      <td>Married</td>\n",
       "      <td>0.020246</td>\n",
       "      <td>23187</td>\n",
       "      <td>...</td>\n",
       "      <td>2.0</td>\n",
       "      <td>NaN</td>\n",
       "      <td>0.442295</td>\n",
       "      <td>0.802745</td>\n",
       "      <td>0.0</td>\n",
       "      <td>0.0</td>\n",
       "      <td>0.0</td>\n",
       "      <td>0.0</td>\n",
       "      <td>1.0</td>\n",
       "      <td>1.0</td>\n",
       "    </tr>\n",
       "    <tr>\n",
       "      <th>2</th>\n",
       "      <td>123501780</td>\n",
       "      <td>M</td>\n",
       "      <td>1</td>\n",
       "      <td>427500.0</td>\n",
       "      <td>239850.0</td>\n",
       "      <td>23850.0</td>\n",
       "      <td>Incomplete higher</td>\n",
       "      <td>Married</td>\n",
       "      <td>0.072508</td>\n",
       "      <td>14387</td>\n",
       "      <td>...</td>\n",
       "      <td>3.0</td>\n",
       "      <td>0.409017</td>\n",
       "      <td>0.738159</td>\n",
       "      <td>NaN</td>\n",
       "      <td>NaN</td>\n",
       "      <td>NaN</td>\n",
       "      <td>NaN</td>\n",
       "      <td>NaN</td>\n",
       "      <td>NaN</td>\n",
       "      <td>NaN</td>\n",
       "    </tr>\n",
       "  </tbody>\n",
       "</table>\n",
       "<p>3 rows × 24 columns</p>\n",
       "</div>"
      ],
      "text/plain": [
       "   application_number gender  childrens  total_salary  amount_credit  \\\n",
       "0           123666076      F          0      157500.0       270000.0   \n",
       "1           123423688      F          0      270000.0       536917.5   \n",
       "2           123501780      M          1      427500.0       239850.0   \n",
       "\n",
       "   amount_annuity                education_level   family_status  \\\n",
       "0         13500.0              Incomplete higher  Civil marriage   \n",
       "1         28467.0  Secondary / secondary special         Married   \n",
       "2         23850.0              Incomplete higher         Married   \n",
       "\n",
       "   region_population    age  ...  family_size  external_scoring_rating_1  \\\n",
       "0           0.008068   8560  ...          2.0                   0.329471   \n",
       "1           0.020246  23187  ...          2.0                        NaN   \n",
       "2           0.072508  14387  ...          3.0                   0.409017   \n",
       "\n",
       "   external_scoring_rating_2  external_scoring_rating_3  \\\n",
       "0                   0.236315                   0.678568   \n",
       "1                   0.442295                   0.802745   \n",
       "2                   0.738159                        NaN   \n",
       "\n",
       "   amt_req_credit_bureau_hour  amt_req_credit_bureau_day  \\\n",
       "0                         0.0                        0.0   \n",
       "1                         0.0                        0.0   \n",
       "2                         NaN                        NaN   \n",
       "\n",
       "   amt_req_credit_bureau_week  amt_req_credit_bureau_mon  \\\n",
       "0                         0.0                        0.0   \n",
       "1                         0.0                        0.0   \n",
       "2                         NaN                        NaN   \n",
       "\n",
       "   amt_req_credit_bureau_qrt  amt_req_credit_bureau_year  \n",
       "0                        1.0                         2.0  \n",
       "1                        1.0                         1.0  \n",
       "2                        NaN                         NaN  \n",
       "\n",
       "[3 rows x 24 columns]"
      ]
     },
     "execution_count": 7,
     "metadata": {},
     "output_type": "execute_result"
    }
   ],
   "source": [
    "profile = get_input('client_profile.csv')\n",
    "profile.head(3)"
   ]
  },
  {
   "cell_type": "code",
   "execution_count": 8,
   "metadata": {},
   "outputs": [],
   "source": [
    "numerical_features = profile.select_dtypes(exclude=[\"object\"]).columns.tolist()\n",
    "categorical_features = profile.select_dtypes(include=[\"object\"]).columns.tolist()"
   ]
  },
  {
   "cell_type": "code",
   "execution_count": 9,
   "metadata": {
    "scrolled": true
   },
   "outputs": [
    {
     "data": {
      "text/plain": [
       "['gender', 'education_level', 'family_status']"
      ]
     },
     "execution_count": 9,
     "metadata": {},
     "output_type": "execute_result"
    }
   ],
   "source": [
    "categorical_features"
   ]
  },
  {
   "cell_type": "code",
   "execution_count": 10,
   "metadata": {},
   "outputs": [],
   "source": [
    "profile = concat_features(profile, ['education_level', 'family_status'])"
   ]
  },
  {
   "cell_type": "code",
   "execution_count": 11,
   "metadata": {},
   "outputs": [],
   "source": [
    "profile = create_client_profile_features(profile)"
   ]
  },
  {
   "cell_type": "code",
   "execution_count": 12,
   "metadata": {},
   "outputs": [],
   "source": [
    "data = data.merge(profile, how=\"left\", on='application_number')"
   ]
  },
  {
   "cell_type": "code",
   "execution_count": 13,
   "metadata": {
    "scrolled": true
   },
   "outputs": [
    {
     "data": {
      "text/html": [
       "<div>\n",
       "<style scoped>\n",
       "    .dataframe tbody tr th:only-of-type {\n",
       "        vertical-align: middle;\n",
       "    }\n",
       "\n",
       "    .dataframe tbody tr th {\n",
       "        vertical-align: top;\n",
       "    }\n",
       "\n",
       "    .dataframe thead th {\n",
       "        text-align: right;\n",
       "    }\n",
       "</style>\n",
       "<table border=\"1\" class=\"dataframe\">\n",
       "  <thead>\n",
       "    <tr style=\"text-align: right;\">\n",
       "      <th></th>\n",
       "      <th>education_level</th>\n",
       "      <th>total_salary_mean_by_education</th>\n",
       "      <th>amount_credit_mean_by_education</th>\n",
       "    </tr>\n",
       "  </thead>\n",
       "  <tbody>\n",
       "    <tr>\n",
       "      <th>0</th>\n",
       "      <td>Academic degree</td>\n",
       "      <td>244621.323529</td>\n",
       "      <td>729561.606618</td>\n",
       "    </tr>\n",
       "    <tr>\n",
       "      <th>1</th>\n",
       "      <td>Higher education</td>\n",
       "      <td>208989.672806</td>\n",
       "      <td>689809.957142</td>\n",
       "    </tr>\n",
       "    <tr>\n",
       "      <th>2</th>\n",
       "      <td>Incomplete higher</td>\n",
       "      <td>181446.844502</td>\n",
       "      <td>565921.004786</td>\n",
       "    </tr>\n",
       "    <tr>\n",
       "      <th>3</th>\n",
       "      <td>Lower secondary</td>\n",
       "      <td>130223.217137</td>\n",
       "      <td>491498.704966</td>\n",
       "    </tr>\n",
       "    <tr>\n",
       "      <th>4</th>\n",
       "      <td>Secondary / secondary special</td>\n",
       "      <td>155414.744584</td>\n",
       "      <td>571624.325064</td>\n",
       "    </tr>\n",
       "  </tbody>\n",
       "</table>\n",
       "</div>"
      ],
      "text/plain": [
       "                 education_level  total_salary_mean_by_education  \\\n",
       "0                Academic degree                   244621.323529   \n",
       "1               Higher education                   208989.672806   \n",
       "2              Incomplete higher                   181446.844502   \n",
       "3                Lower secondary                   130223.217137   \n",
       "4  Secondary / secondary special                   155414.744584   \n",
       "\n",
       "   amount_credit_mean_by_education  \n",
       "0                    729561.606618  \n",
       "1                    689809.957142  \n",
       "2                    565921.004786  \n",
       "3                    491498.704966  \n",
       "4                    571624.325064  "
      ]
     },
     "execution_count": 13,
     "metadata": {},
     "output_type": "execute_result"
    }
   ],
   "source": [
    "aggs = {\n",
    "    \"total_salary\": [\"mean\"],\n",
    "    \"amount_credit\": [\"mean\"],\n",
    "}\n",
    "\n",
    "stats = create_numerical_aggs(\n",
    "    profile, groupby_id=\"education_level\", aggs=aggs, suffix=\"_by_education\"\n",
    ")\n",
    "stats"
   ]
  },
  {
   "cell_type": "code",
   "execution_count": 14,
   "metadata": {},
   "outputs": [
    {
     "data": {
      "text/html": [
       "<div>\n",
       "<style scoped>\n",
       "    .dataframe tbody tr th:only-of-type {\n",
       "        vertical-align: middle;\n",
       "    }\n",
       "\n",
       "    .dataframe tbody tr th {\n",
       "        vertical-align: top;\n",
       "    }\n",
       "\n",
       "    .dataframe thead th {\n",
       "        text-align: right;\n",
       "    }\n",
       "</style>\n",
       "<table border=\"1\" class=\"dataframe\">\n",
       "  <thead>\n",
       "    <tr style=\"text-align: right;\">\n",
       "      <th></th>\n",
       "      <th>application_number</th>\n",
       "      <th>education_level</th>\n",
       "      <th>total_salary</th>\n",
       "      <th>amount_credit</th>\n",
       "      <th>total_salary_mean_by_education</th>\n",
       "      <th>amount_credit_mean_by_education</th>\n",
       "      <th>total_salary_to_mean_salary_by_education</th>\n",
       "      <th>delta_salary_to_mean_salary_by_education</th>\n",
       "    </tr>\n",
       "  </thead>\n",
       "  <tbody>\n",
       "    <tr>\n",
       "      <th>0</th>\n",
       "      <td>123666076</td>\n",
       "      <td>Incomplete higher</td>\n",
       "      <td>157500.0</td>\n",
       "      <td>270000.0</td>\n",
       "      <td>181446.844502</td>\n",
       "      <td>565921.004786</td>\n",
       "      <td>0.868023</td>\n",
       "      <td>-23946.844502</td>\n",
       "    </tr>\n",
       "    <tr>\n",
       "      <th>1</th>\n",
       "      <td>123423688</td>\n",
       "      <td>Secondary / secondary special</td>\n",
       "      <td>270000.0</td>\n",
       "      <td>536917.5</td>\n",
       "      <td>155414.744584</td>\n",
       "      <td>571624.325064</td>\n",
       "      <td>1.737287</td>\n",
       "      <td>114585.255416</td>\n",
       "    </tr>\n",
       "    <tr>\n",
       "      <th>2</th>\n",
       "      <td>123501780</td>\n",
       "      <td>Incomplete higher</td>\n",
       "      <td>427500.0</td>\n",
       "      <td>239850.0</td>\n",
       "      <td>181446.844502</td>\n",
       "      <td>565921.004786</td>\n",
       "      <td>2.356062</td>\n",
       "      <td>246053.155498</td>\n",
       "    </tr>\n",
       "  </tbody>\n",
       "</table>\n",
       "</div>"
      ],
      "text/plain": [
       "   application_number                education_level  total_salary  \\\n",
       "0           123666076              Incomplete higher      157500.0   \n",
       "1           123423688  Secondary / secondary special      270000.0   \n",
       "2           123501780              Incomplete higher      427500.0   \n",
       "\n",
       "   amount_credit  total_salary_mean_by_education  \\\n",
       "0       270000.0                   181446.844502   \n",
       "1       536917.5                   155414.744584   \n",
       "2       239850.0                   181446.844502   \n",
       "\n",
       "   amount_credit_mean_by_education  total_salary_to_mean_salary_by_education  \\\n",
       "0                    565921.004786                                  0.868023   \n",
       "1                    571624.325064                                  1.737287   \n",
       "2                    565921.004786                                  2.356062   \n",
       "\n",
       "   delta_salary_to_mean_salary_by_education  \n",
       "0                             -23946.844502  \n",
       "1                             114585.255416  \n",
       "2                             246053.155498  "
      ]
     },
     "execution_count": 14,
     "metadata": {},
     "output_type": "execute_result"
    }
   ],
   "source": [
    "features = ['application_number', 'education_level'] + list(aggs.keys())\n",
    "profile_stats = profile[features]\n",
    "profile_stats = profile_stats.merge(\n",
    "    stats, how=\"left\", on=\"education_level\"\n",
    ")\n",
    "profile_stats[\"total_salary_to_mean_salary_by_education\"] = profile_stats[\"total_salary\"] / profile_stats[\"total_salary_mean_by_education\"]\n",
    "profile_stats[\"delta_salary_to_mean_salary_by_education\"] = profile_stats[\"total_salary\"] - profile_stats[\"total_salary_mean_by_education\"]\n",
    "profile_stats.head(3)"
   ]
  },
  {
   "cell_type": "code",
   "execution_count": 15,
   "metadata": {},
   "outputs": [],
   "source": [
    "data = data.merge(profile_stats, how=\"left\", on='application_number')"
   ]
  },
  {
   "cell_type": "markdown",
   "metadata": {},
   "source": [
    "### applications history"
   ]
  },
  {
   "cell_type": "code",
   "execution_count": 16,
   "metadata": {},
   "outputs": [
    {
     "name": "stdout",
     "output_type": "stream",
     "text": [
      "applications_history.csv: 1670214 rows, 26 cols\n"
     ]
    },
    {
     "data": {
      "text/html": [
       "<div>\n",
       "<style scoped>\n",
       "    .dataframe tbody tr th:only-of-type {\n",
       "        vertical-align: middle;\n",
       "    }\n",
       "\n",
       "    .dataframe tbody tr th {\n",
       "        vertical-align: top;\n",
       "    }\n",
       "\n",
       "    .dataframe thead th {\n",
       "        text-align: right;\n",
       "    }\n",
       "</style>\n",
       "<table border=\"1\" class=\"dataframe\">\n",
       "  <thead>\n",
       "    <tr style=\"text-align: right;\">\n",
       "      <th></th>\n",
       "      <th>prev_application_number</th>\n",
       "      <th>application_number</th>\n",
       "      <th>name_contract_type</th>\n",
       "      <th>amount_annuity</th>\n",
       "      <th>amt_application</th>\n",
       "      <th>amount_credit</th>\n",
       "      <th>amount_payment</th>\n",
       "      <th>amount_goods_payment</th>\n",
       "      <th>name_contract_status</th>\n",
       "      <th>days_decision</th>\n",
       "      <th>...</th>\n",
       "      <th>days_first_drawing</th>\n",
       "      <th>days_first_due</th>\n",
       "      <th>days_last_due_1st_version</th>\n",
       "      <th>days_last_due</th>\n",
       "      <th>days_termination</th>\n",
       "      <th>nflag_insured_on_approval</th>\n",
       "      <th>amount_annuity_amount_credit</th>\n",
       "      <th>delay_first_payment</th>\n",
       "      <th>delay_last_payment</th>\n",
       "      <th>payment_in_advance</th>\n",
       "    </tr>\n",
       "  </thead>\n",
       "  <tbody>\n",
       "    <tr>\n",
       "      <th>0</th>\n",
       "      <td>49298709</td>\n",
       "      <td>123595216</td>\n",
       "      <td>NaN</td>\n",
       "      <td>1730.430</td>\n",
       "      <td>17145.0</td>\n",
       "      <td>17145.0</td>\n",
       "      <td>0.0</td>\n",
       "      <td>17145.0</td>\n",
       "      <td>Approved</td>\n",
       "      <td>73</td>\n",
       "      <td>...</td>\n",
       "      <td>365243.0</td>\n",
       "      <td>42.0</td>\n",
       "      <td>300.0</td>\n",
       "      <td>42.0</td>\n",
       "      <td>37.0</td>\n",
       "      <td>0.0</td>\n",
       "      <td>0.100929</td>\n",
       "      <td>365201.0</td>\n",
       "      <td>-258.0</td>\n",
       "      <td>-263.0</td>\n",
       "    </tr>\n",
       "    <tr>\n",
       "      <th>1</th>\n",
       "      <td>50070639</td>\n",
       "      <td>123431468</td>\n",
       "      <td>Cash</td>\n",
       "      <td>25188.615</td>\n",
       "      <td>607500.0</td>\n",
       "      <td>679671.0</td>\n",
       "      <td>NaN</td>\n",
       "      <td>607500.0</td>\n",
       "      <td>Approved</td>\n",
       "      <td>164</td>\n",
       "      <td>...</td>\n",
       "      <td>365243.0</td>\n",
       "      <td>134.0</td>\n",
       "      <td>916.0</td>\n",
       "      <td>365243.0</td>\n",
       "      <td>365243.0</td>\n",
       "      <td>1.0</td>\n",
       "      <td>0.037060</td>\n",
       "      <td>365109.0</td>\n",
       "      <td>364327.0</td>\n",
       "      <td>364327.0</td>\n",
       "    </tr>\n",
       "    <tr>\n",
       "      <th>2</th>\n",
       "      <td>49791680</td>\n",
       "      <td>123445379</td>\n",
       "      <td>Cash</td>\n",
       "      <td>15060.735</td>\n",
       "      <td>112500.0</td>\n",
       "      <td>136444.5</td>\n",
       "      <td>NaN</td>\n",
       "      <td>112500.0</td>\n",
       "      <td>Approved</td>\n",
       "      <td>301</td>\n",
       "      <td>...</td>\n",
       "      <td>365243.0</td>\n",
       "      <td>271.0</td>\n",
       "      <td>59.0</td>\n",
       "      <td>365243.0</td>\n",
       "      <td>365243.0</td>\n",
       "      <td>1.0</td>\n",
       "      <td>0.110380</td>\n",
       "      <td>364972.0</td>\n",
       "      <td>365184.0</td>\n",
       "      <td>365184.0</td>\n",
       "    </tr>\n",
       "  </tbody>\n",
       "</table>\n",
       "<p>3 rows × 30 columns</p>\n",
       "</div>"
      ],
      "text/plain": [
       "   prev_application_number  application_number name_contract_type  \\\n",
       "0                 49298709           123595216                NaN   \n",
       "1                 50070639           123431468               Cash   \n",
       "2                 49791680           123445379               Cash   \n",
       "\n",
       "   amount_annuity  amt_application  amount_credit  amount_payment  \\\n",
       "0        1730.430          17145.0        17145.0             0.0   \n",
       "1       25188.615         607500.0       679671.0             NaN   \n",
       "2       15060.735         112500.0       136444.5             NaN   \n",
       "\n",
       "   amount_goods_payment name_contract_status  days_decision  ...  \\\n",
       "0               17145.0             Approved             73  ...   \n",
       "1              607500.0             Approved            164  ...   \n",
       "2              112500.0             Approved            301  ...   \n",
       "\n",
       "  days_first_drawing days_first_due days_last_due_1st_version days_last_due  \\\n",
       "0           365243.0           42.0                     300.0          42.0   \n",
       "1           365243.0          134.0                     916.0      365243.0   \n",
       "2           365243.0          271.0                      59.0      365243.0   \n",
       "\n",
       "  days_termination nflag_insured_on_approval amount_annuity_amount_credit  \\\n",
       "0             37.0                       0.0                     0.100929   \n",
       "1         365243.0                       1.0                     0.037060   \n",
       "2         365243.0                       1.0                     0.110380   \n",
       "\n",
       "   delay_first_payment  delay_last_payment payment_in_advance  \n",
       "0             365201.0              -258.0             -263.0  \n",
       "1             365109.0            364327.0           364327.0  \n",
       "2             364972.0            365184.0           365184.0  \n",
       "\n",
       "[3 rows x 30 columns]"
      ]
     },
     "execution_count": 16,
     "metadata": {},
     "output_type": "execute_result"
    }
   ],
   "source": [
    "app_history = get_input('applications_history.csv')\n",
    "app_history = create_app_history_features(app_history)\n",
    "app_history.head(3)"
   ]
  },
  {
   "cell_type": "code",
   "execution_count": 17,
   "metadata": {},
   "outputs": [],
   "source": [
    "numerical_features = app_history.select_dtypes(exclude=[\"object\"]).columns.tolist()\n",
    "categorical_features = app_history.select_dtypes(include=[\"object\"]).columns.tolist()"
   ]
  },
  {
   "cell_type": "code",
   "execution_count": 18,
   "metadata": {
    "scrolled": false
   },
   "outputs": [
    {
     "data": {
      "text/plain": [
       "['prev_application_number',\n",
       " 'application_number',\n",
       " 'amount_annuity',\n",
       " 'amt_application',\n",
       " 'amount_credit',\n",
       " 'amount_payment',\n",
       " 'amount_goods_payment',\n",
       " 'days_decision',\n",
       " 'sellerplace_area',\n",
       " 'cnt_payment',\n",
       " 'days_first_drawing',\n",
       " 'days_first_due',\n",
       " 'days_last_due_1st_version',\n",
       " 'days_last_due',\n",
       " 'days_termination',\n",
       " 'nflag_insured_on_approval',\n",
       " 'amount_annuity_amount_credit',\n",
       " 'delay_first_payment',\n",
       " 'delay_last_payment',\n",
       " 'payment_in_advance']"
      ]
     },
     "execution_count": 18,
     "metadata": {},
     "output_type": "execute_result"
    }
   ],
   "source": [
    "numerical_features"
   ]
  },
  {
   "cell_type": "code",
   "execution_count": 19,
   "metadata": {},
   "outputs": [
    {
     "data": {
      "text/html": [
       "<div>\n",
       "<style scoped>\n",
       "    .dataframe tbody tr th:only-of-type {\n",
       "        vertical-align: middle;\n",
       "    }\n",
       "\n",
       "    .dataframe tbody tr th {\n",
       "        vertical-align: top;\n",
       "    }\n",
       "\n",
       "    .dataframe thead th {\n",
       "        text-align: right;\n",
       "    }\n",
       "</style>\n",
       "<table border=\"1\" class=\"dataframe\">\n",
       "  <thead>\n",
       "    <tr style=\"text-align: right;\">\n",
       "      <th></th>\n",
       "      <th>application_number</th>\n",
       "      <th>prev_app_amount_annuity_mean_approved_apps</th>\n",
       "      <th>prev_app_amount_annuity_sum_approved_apps</th>\n",
       "      <th>prev_app_amt_application_mean_approved_apps</th>\n",
       "      <th>prev_app_amt_application_sum_approved_apps</th>\n",
       "      <th>prev_app_amt_application_max_approved_apps</th>\n",
       "      <th>prev_app_amount_credit_max_approved_apps</th>\n",
       "      <th>prev_app_amount_payment_sum_approved_apps</th>\n",
       "      <th>prev_app_amount_goods_payment_mean_approved_apps</th>\n",
       "      <th>prev_app_amount_goods_payment_max_approved_apps</th>\n",
       "      <th>prev_app_days_decision_min_approved_apps</th>\n",
       "      <th>prev_app_cnt_payment_mean_approved_apps</th>\n",
       "      <th>prev_app_days_last_due_min_approved_apps</th>\n",
       "      <th>prev_app_days_termination_min_approved_apps</th>\n",
       "      <th>prev_app_nflag_insured_on_approval_sum_approved_apps</th>\n",
       "      <th>prev_app_amount_annuity_amount_credit_max_approved_apps</th>\n",
       "      <th>prev_app_delay_first_payment_min_approved_apps</th>\n",
       "      <th>prev_app_delay_last_payment_min_approved_apps</th>\n",
       "      <th>prev_app_payment_in_advance_min_approved_apps</th>\n",
       "    </tr>\n",
       "  </thead>\n",
       "  <tbody>\n",
       "    <tr>\n",
       "      <th>0</th>\n",
       "      <td>123423340</td>\n",
       "      <td>3951.000</td>\n",
       "      <td>3951.000</td>\n",
       "      <td>24835.5</td>\n",
       "      <td>24835.5</td>\n",
       "      <td>24835.5</td>\n",
       "      <td>23787.0</td>\n",
       "      <td>2520.0</td>\n",
       "      <td>24835.5</td>\n",
       "      <td>24835.5</td>\n",
       "      <td>1740</td>\n",
       "      <td>8.0</td>\n",
       "      <td>1619.0</td>\n",
       "      <td>1612.0</td>\n",
       "      <td>0.0</td>\n",
       "      <td>0.166099</td>\n",
       "      <td>363534.0</td>\n",
       "      <td>120.0</td>\n",
       "      <td>113.0</td>\n",
       "    </tr>\n",
       "    <tr>\n",
       "      <th>1</th>\n",
       "      <td>123423341</td>\n",
       "      <td>9251.775</td>\n",
       "      <td>9251.775</td>\n",
       "      <td>179055.0</td>\n",
       "      <td>179055.0</td>\n",
       "      <td>179055.0</td>\n",
       "      <td>179055.0</td>\n",
       "      <td>0.0</td>\n",
       "      <td>179055.0</td>\n",
       "      <td>179055.0</td>\n",
       "      <td>606</td>\n",
       "      <td>24.0</td>\n",
       "      <td>25.0</td>\n",
       "      <td>17.0</td>\n",
       "      <td>0.0</td>\n",
       "      <td>0.051670</td>\n",
       "      <td>364678.0</td>\n",
       "      <td>-100.0</td>\n",
       "      <td>-108.0</td>\n",
       "    </tr>\n",
       "  </tbody>\n",
       "</table>\n",
       "</div>"
      ],
      "text/plain": [
       "   application_number  prev_app_amount_annuity_mean_approved_apps  \\\n",
       "0           123423340                                    3951.000   \n",
       "1           123423341                                    9251.775   \n",
       "\n",
       "   prev_app_amount_annuity_sum_approved_apps  \\\n",
       "0                                   3951.000   \n",
       "1                                   9251.775   \n",
       "\n",
       "   prev_app_amt_application_mean_approved_apps  \\\n",
       "0                                      24835.5   \n",
       "1                                     179055.0   \n",
       "\n",
       "   prev_app_amt_application_sum_approved_apps  \\\n",
       "0                                     24835.5   \n",
       "1                                    179055.0   \n",
       "\n",
       "   prev_app_amt_application_max_approved_apps  \\\n",
       "0                                     24835.5   \n",
       "1                                    179055.0   \n",
       "\n",
       "   prev_app_amount_credit_max_approved_apps  \\\n",
       "0                                   23787.0   \n",
       "1                                  179055.0   \n",
       "\n",
       "   prev_app_amount_payment_sum_approved_apps  \\\n",
       "0                                     2520.0   \n",
       "1                                        0.0   \n",
       "\n",
       "   prev_app_amount_goods_payment_mean_approved_apps  \\\n",
       "0                                           24835.5   \n",
       "1                                          179055.0   \n",
       "\n",
       "   prev_app_amount_goods_payment_max_approved_apps  \\\n",
       "0                                          24835.5   \n",
       "1                                         179055.0   \n",
       "\n",
       "   prev_app_days_decision_min_approved_apps  \\\n",
       "0                                      1740   \n",
       "1                                       606   \n",
       "\n",
       "   prev_app_cnt_payment_mean_approved_apps  \\\n",
       "0                                      8.0   \n",
       "1                                     24.0   \n",
       "\n",
       "   prev_app_days_last_due_min_approved_apps  \\\n",
       "0                                    1619.0   \n",
       "1                                      25.0   \n",
       "\n",
       "   prev_app_days_termination_min_approved_apps  \\\n",
       "0                                       1612.0   \n",
       "1                                         17.0   \n",
       "\n",
       "   prev_app_nflag_insured_on_approval_sum_approved_apps  \\\n",
       "0                                                0.0      \n",
       "1                                                0.0      \n",
       "\n",
       "   prev_app_amount_annuity_amount_credit_max_approved_apps  \\\n",
       "0                                           0.166099         \n",
       "1                                           0.051670         \n",
       "\n",
       "   prev_app_delay_first_payment_min_approved_apps  \\\n",
       "0                                        363534.0   \n",
       "1                                        364678.0   \n",
       "\n",
       "   prev_app_delay_last_payment_min_approved_apps  \\\n",
       "0                                          120.0   \n",
       "1                                         -100.0   \n",
       "\n",
       "   prev_app_payment_in_advance_min_approved_apps  \n",
       "0                                          113.0  \n",
       "1                                         -108.0  "
      ]
     },
     "execution_count": 19,
     "metadata": {},
     "output_type": "execute_result"
    }
   ],
   "source": [
    "aggs = { \n",
    "         'amount_annuity': [np.mean, np.sum],\n",
    "         'amt_application': [np.mean, np.sum, \"max\"],\n",
    "         'amount_credit': [\"max\"],\n",
    "         'amount_payment': [np.sum],\n",
    "         'amount_goods_payment': [np.mean, \"max\"],\n",
    "         'days_decision': [\"min\"],\n",
    "#          'sellerplace_area': [],\n",
    "         'cnt_payment': [np.mean],\n",
    "#          'days_first_drawing': [np.mean, np.sum],\n",
    "#          'days_first_due': [\"max\"],\n",
    "#          'days_last_due_1st_version': [],\n",
    "         'days_last_due': [\"min\"],\n",
    "         'days_termination': [\"min\"],\n",
    "         'nflag_insured_on_approval': [np.sum],\n",
    "         'amount_annuity_amount_credit': [\"max\"],\n",
    "         'delay_first_payment': [\"min\"],\n",
    "         'delay_last_payment': [\"min\"],\n",
    "         'payment_in_advance': [\"min\"],\n",
    "}\n",
    "\n",
    "mask = app_history[\"name_contract_status\"] == \"Approved\"\n",
    "stats = create_numerical_aggs(\n",
    "    app_history[mask], groupby_id=\"application_number\", aggs=aggs, prefix=\"prev_app_\", suffix=\"_approved_apps\"\n",
    ")\n",
    "stats.head(2)"
   ]
  },
  {
   "cell_type": "code",
   "execution_count": 20,
   "metadata": {},
   "outputs": [],
   "source": [
    "data = data.merge(stats, how=\"left\", on='application_number')"
   ]
  },
  {
   "cell_type": "code",
   "execution_count": 21,
   "metadata": {
    "scrolled": true
   },
   "outputs": [
    {
     "data": {
      "text/plain": [
       "['name_contract_type',\n",
       " 'name_contract_status',\n",
       " 'name_payment_type',\n",
       " 'code_reject_reason',\n",
       " 'name_type_suite',\n",
       " 'name_client_type',\n",
       " 'name_goods_category',\n",
       " 'name_portfolio',\n",
       " 'name_product_type',\n",
       " 'name_yield_group']"
      ]
     },
     "execution_count": 21,
     "metadata": {},
     "output_type": "execute_result"
    }
   ],
   "source": [
    "categorical_features"
   ]
  },
  {
   "cell_type": "code",
   "execution_count": 22,
   "metadata": {},
   "outputs": [
    {
     "data": {
      "text/html": [
       "<div>\n",
       "<style scoped>\n",
       "    .dataframe tbody tr th:only-of-type {\n",
       "        vertical-align: middle;\n",
       "    }\n",
       "\n",
       "    .dataframe tbody tr th {\n",
       "        vertical-align: top;\n",
       "    }\n",
       "\n",
       "    .dataframe thead th {\n",
       "        text-align: right;\n",
       "    }\n",
       "</style>\n",
       "<table border=\"1\" class=\"dataframe\">\n",
       "  <thead>\n",
       "    <tr style=\"text-align: right;\">\n",
       "      <th></th>\n",
       "      <th>application_number</th>\n",
       "      <th>name_contract_status_approved_mean</th>\n",
       "      <th>name_contract_status_approved_sum</th>\n",
       "      <th>name_contract_status_canceled_mean</th>\n",
       "      <th>name_contract_status_canceled_sum</th>\n",
       "      <th>name_contract_status_refused_mean</th>\n",
       "      <th>name_contract_status_refused_sum</th>\n",
       "      <th>name_contract_status_unused offer_mean</th>\n",
       "      <th>name_contract_status_unused offer_sum</th>\n",
       "    </tr>\n",
       "  </thead>\n",
       "  <tbody>\n",
       "    <tr>\n",
       "      <th>0</th>\n",
       "      <td>123423340</td>\n",
       "      <td>1.0</td>\n",
       "      <td>1</td>\n",
       "      <td>0.0</td>\n",
       "      <td>0</td>\n",
       "      <td>0.0</td>\n",
       "      <td>0</td>\n",
       "      <td>0.0</td>\n",
       "      <td>0</td>\n",
       "    </tr>\n",
       "    <tr>\n",
       "      <th>1</th>\n",
       "      <td>123423341</td>\n",
       "      <td>1.0</td>\n",
       "      <td>1</td>\n",
       "      <td>0.0</td>\n",
       "      <td>0</td>\n",
       "      <td>0.0</td>\n",
       "      <td>0</td>\n",
       "      <td>0.0</td>\n",
       "      <td>0</td>\n",
       "    </tr>\n",
       "  </tbody>\n",
       "</table>\n",
       "</div>"
      ],
      "text/plain": [
       "   application_number  name_contract_status_approved_mean  \\\n",
       "0           123423340                                 1.0   \n",
       "1           123423341                                 1.0   \n",
       "\n",
       "   name_contract_status_approved_sum  name_contract_status_canceled_mean  \\\n",
       "0                                  1                                 0.0   \n",
       "1                                  1                                 0.0   \n",
       "\n",
       "   name_contract_status_canceled_sum  name_contract_status_refused_mean  \\\n",
       "0                                  0                                0.0   \n",
       "1                                  0                                0.0   \n",
       "\n",
       "   name_contract_status_refused_sum  name_contract_status_unused offer_mean  \\\n",
       "0                                 0                                     0.0   \n",
       "1                                 0                                     0.0   \n",
       "\n",
       "   name_contract_status_unused offer_sum  \n",
       "0                                      0  \n",
       "1                                      0  "
      ]
     },
     "execution_count": 22,
     "metadata": {},
     "output_type": "execute_result"
    }
   ],
   "source": [
    "stats = create_categorical_aggs(\n",
    "    app_history, groupby_id=\"application_number\", features=[\"name_contract_status\"], prefix=\"\"\n",
    ")\n",
    "stats.head(2)"
   ]
  },
  {
   "cell_type": "code",
   "execution_count": 23,
   "metadata": {},
   "outputs": [],
   "source": [
    "data = data.merge(stats, how=\"left\", on='application_number')"
   ]
  },
  {
   "cell_type": "code",
   "execution_count": 24,
   "metadata": {
    "scrolled": true
   },
   "outputs": [
    {
     "data": {
      "text/plain": [
       "(275234, 89)"
      ]
     },
     "execution_count": 24,
     "metadata": {},
     "output_type": "execute_result"
    }
   ],
   "source": [
    "data.shape"
   ]
  },
  {
   "cell_type": "markdown",
   "metadata": {},
   "source": [
    "### bki"
   ]
  },
  {
   "cell_type": "code",
   "execution_count": 25,
   "metadata": {},
   "outputs": [
    {
     "name": "stdout",
     "output_type": "stream",
     "text": [
      "bki.csv: 945234 rows, 17 cols\n"
     ]
    },
    {
     "data": {
      "text/html": [
       "<div>\n",
       "<style scoped>\n",
       "    .dataframe tbody tr th:only-of-type {\n",
       "        vertical-align: middle;\n",
       "    }\n",
       "\n",
       "    .dataframe tbody tr th {\n",
       "        vertical-align: top;\n",
       "    }\n",
       "\n",
       "    .dataframe thead th {\n",
       "        text-align: right;\n",
       "    }\n",
       "</style>\n",
       "<table border=\"1\" class=\"dataframe\">\n",
       "  <thead>\n",
       "    <tr style=\"text-align: right;\">\n",
       "      <th></th>\n",
       "      <th>application_number</th>\n",
       "      <th>bureau_id</th>\n",
       "      <th>credit_active</th>\n",
       "      <th>credit_currency</th>\n",
       "      <th>days_credit</th>\n",
       "      <th>credit_day_overdue</th>\n",
       "      <th>days_credit_enddate</th>\n",
       "      <th>days_enddate_fact</th>\n",
       "      <th>amt_credit_max_overdue</th>\n",
       "      <th>cnt_credit_prolong</th>\n",
       "      <th>amt_credit_sum</th>\n",
       "      <th>amt_credit_sum_debt</th>\n",
       "      <th>amt_credit_sum_limit</th>\n",
       "      <th>amt_credit_sum_overdue</th>\n",
       "      <th>credit_type</th>\n",
       "      <th>days_credit_update</th>\n",
       "      <th>amt_annuity</th>\n",
       "      <th>delays</th>\n",
       "    </tr>\n",
       "  </thead>\n",
       "  <tbody>\n",
       "    <tr>\n",
       "      <th>0</th>\n",
       "      <td>123538884</td>\n",
       "      <td>5223613</td>\n",
       "      <td>Active</td>\n",
       "      <td>currency 1</td>\n",
       "      <td>718.0</td>\n",
       "      <td>0</td>\n",
       "      <td>377.0</td>\n",
       "      <td>NaN</td>\n",
       "      <td>19386.81</td>\n",
       "      <td>0</td>\n",
       "      <td>675000.00</td>\n",
       "      <td>320265.495</td>\n",
       "      <td>0.0</td>\n",
       "      <td>0.0</td>\n",
       "      <td>Consumer credit</td>\n",
       "      <td>39.0</td>\n",
       "      <td>NaN</td>\n",
       "      <td>NaN</td>\n",
       "    </tr>\n",
       "    <tr>\n",
       "      <th>1</th>\n",
       "      <td>123436670</td>\n",
       "      <td>6207544</td>\n",
       "      <td>Closed</td>\n",
       "      <td>currency 1</td>\n",
       "      <td>696.0</td>\n",
       "      <td>0</td>\n",
       "      <td>511.0</td>\n",
       "      <td>511.0</td>\n",
       "      <td>0.00</td>\n",
       "      <td>0</td>\n",
       "      <td>93111.66</td>\n",
       "      <td>0.000</td>\n",
       "      <td>0.0</td>\n",
       "      <td>0.0</td>\n",
       "      <td>Consumer credit</td>\n",
       "      <td>505.0</td>\n",
       "      <td>NaN</td>\n",
       "      <td>NaN</td>\n",
       "    </tr>\n",
       "    <tr>\n",
       "      <th>2</th>\n",
       "      <td>123589020</td>\n",
       "      <td>6326395</td>\n",
       "      <td>Closed</td>\n",
       "      <td>currency 1</td>\n",
       "      <td>165.0</td>\n",
       "      <td>0</td>\n",
       "      <td>149.0</td>\n",
       "      <td>160.0</td>\n",
       "      <td>NaN</td>\n",
       "      <td>0</td>\n",
       "      <td>36000.00</td>\n",
       "      <td>0.000</td>\n",
       "      <td>0.0</td>\n",
       "      <td>0.0</td>\n",
       "      <td>Consumer credit</td>\n",
       "      <td>150.0</td>\n",
       "      <td>0.0</td>\n",
       "      <td>0.0</td>\n",
       "    </tr>\n",
       "  </tbody>\n",
       "</table>\n",
       "</div>"
      ],
      "text/plain": [
       "   application_number  bureau_id credit_active credit_currency  days_credit  \\\n",
       "0           123538884    5223613        Active      currency 1        718.0   \n",
       "1           123436670    6207544        Closed      currency 1        696.0   \n",
       "2           123589020    6326395        Closed      currency 1        165.0   \n",
       "\n",
       "   credit_day_overdue  days_credit_enddate  days_enddate_fact  \\\n",
       "0                   0                377.0                NaN   \n",
       "1                   0                511.0              511.0   \n",
       "2                   0                149.0              160.0   \n",
       "\n",
       "   amt_credit_max_overdue  cnt_credit_prolong  amt_credit_sum  \\\n",
       "0                19386.81                   0       675000.00   \n",
       "1                    0.00                   0        93111.66   \n",
       "2                     NaN                   0        36000.00   \n",
       "\n",
       "   amt_credit_sum_debt  amt_credit_sum_limit  amt_credit_sum_overdue  \\\n",
       "0           320265.495                   0.0                     0.0   \n",
       "1                0.000                   0.0                     0.0   \n",
       "2                0.000                   0.0                     0.0   \n",
       "\n",
       "       credit_type  days_credit_update  amt_annuity  delays  \n",
       "0  Consumer credit                39.0          NaN     NaN  \n",
       "1  Consumer credit               505.0          NaN     NaN  \n",
       "2  Consumer credit               150.0          0.0     0.0  "
      ]
     },
     "execution_count": 25,
     "metadata": {},
     "output_type": "execute_result"
    }
   ],
   "source": [
    "bki = get_input('bki.csv')\n",
    "bki = create_bki_features(bki)\n",
    "bki.head(3)"
   ]
  },
  {
   "cell_type": "code",
   "execution_count": 26,
   "metadata": {},
   "outputs": [],
   "source": [
    "numerical_features = bki.select_dtypes(exclude=[\"object\"]).columns.tolist()\n",
    "categorical_features = bki.select_dtypes(include=[\"object\"]).columns.tolist()"
   ]
  },
  {
   "cell_type": "code",
   "execution_count": 27,
   "metadata": {
    "scrolled": true
   },
   "outputs": [
    {
     "data": {
      "text/plain": [
       "['application_number',\n",
       " 'bureau_id',\n",
       " 'days_credit',\n",
       " 'credit_day_overdue',\n",
       " 'days_credit_enddate',\n",
       " 'days_enddate_fact',\n",
       " 'amt_credit_max_overdue',\n",
       " 'cnt_credit_prolong',\n",
       " 'amt_credit_sum',\n",
       " 'amt_credit_sum_debt',\n",
       " 'amt_credit_sum_limit',\n",
       " 'amt_credit_sum_overdue',\n",
       " 'days_credit_update',\n",
       " 'amt_annuity',\n",
       " 'delays']"
      ]
     },
     "execution_count": 27,
     "metadata": {},
     "output_type": "execute_result"
    }
   ],
   "source": [
    "numerical_features"
   ]
  },
  {
   "cell_type": "code",
   "execution_count": 28,
   "metadata": {},
   "outputs": [
    {
     "data": {
      "text/html": [
       "<div>\n",
       "<style scoped>\n",
       "    .dataframe tbody tr th:only-of-type {\n",
       "        vertical-align: middle;\n",
       "    }\n",
       "\n",
       "    .dataframe tbody tr th {\n",
       "        vertical-align: top;\n",
       "    }\n",
       "\n",
       "    .dataframe thead th {\n",
       "        text-align: right;\n",
       "    }\n",
       "</style>\n",
       "<table border=\"1\" class=\"dataframe\">\n",
       "  <thead>\n",
       "    <tr style=\"text-align: right;\">\n",
       "      <th></th>\n",
       "      <th>application_number</th>\n",
       "      <th>prev_credit_days_credit_min</th>\n",
       "      <th>prev_credit_days_enddate_fact_min</th>\n",
       "      <th>prev_credit_cnt_credit_prolong_sum</th>\n",
       "      <th>prev_credit_amt_credit_sum_mean</th>\n",
       "      <th>prev_credit_amt_credit_sum_limit_mean</th>\n",
       "      <th>prev_credit_amt_credit_sum_overdue_sum</th>\n",
       "      <th>prev_credit_days_credit_update_min</th>\n",
       "      <th>prev_credit_delays_max</th>\n",
       "      <th>prev_credit_delays_mean</th>\n",
       "    </tr>\n",
       "  </thead>\n",
       "  <tbody>\n",
       "    <tr>\n",
       "      <th>0</th>\n",
       "      <td>123423340</td>\n",
       "      <td>559.0</td>\n",
       "      <td>NaN</td>\n",
       "      <td>0</td>\n",
       "      <td>337680.00000</td>\n",
       "      <td>0.000</td>\n",
       "      <td>0.0</td>\n",
       "      <td>6.0</td>\n",
       "      <td>NaN</td>\n",
       "      <td>NaN</td>\n",
       "    </tr>\n",
       "    <tr>\n",
       "      <th>1</th>\n",
       "      <td>123423341</td>\n",
       "      <td>103.0</td>\n",
       "      <td>36.0</td>\n",
       "      <td>0</td>\n",
       "      <td>167555.89125</td>\n",
       "      <td>10662.855</td>\n",
       "      <td>0.0</td>\n",
       "      <td>7.0</td>\n",
       "      <td>0.0</td>\n",
       "      <td>0.0</td>\n",
       "    </tr>\n",
       "  </tbody>\n",
       "</table>\n",
       "</div>"
      ],
      "text/plain": [
       "   application_number  prev_credit_days_credit_min  \\\n",
       "0           123423340                        559.0   \n",
       "1           123423341                        103.0   \n",
       "\n",
       "   prev_credit_days_enddate_fact_min  prev_credit_cnt_credit_prolong_sum  \\\n",
       "0                                NaN                                   0   \n",
       "1                               36.0                                   0   \n",
       "\n",
       "   prev_credit_amt_credit_sum_mean  prev_credit_amt_credit_sum_limit_mean  \\\n",
       "0                     337680.00000                                  0.000   \n",
       "1                     167555.89125                              10662.855   \n",
       "\n",
       "   prev_credit_amt_credit_sum_overdue_sum  prev_credit_days_credit_update_min  \\\n",
       "0                                     0.0                                 6.0   \n",
       "1                                     0.0                                 7.0   \n",
       "\n",
       "   prev_credit_delays_max  prev_credit_delays_mean  \n",
       "0                     NaN                      NaN  \n",
       "1                     0.0                      0.0  "
      ]
     },
     "execution_count": 28,
     "metadata": {},
     "output_type": "execute_result"
    }
   ],
   "source": [
    "aggs = { \n",
    "        'days_credit': ['min'],\n",
    "#         'credit_day_overdue': ['max'],\n",
    "#         'days_credit_enddate': ['max'],\n",
    "        'days_enddate_fact': ['min'],\n",
    "#         'amt_credit_max_overdue': ['mean'],\n",
    "        'cnt_credit_prolong': ['sum'],\n",
    "        'amt_credit_sum': ['mean'],\n",
    "#         'amt_credit_sum_debt': ['max'],\n",
    "        'amt_credit_sum_limit': ['mean'],\n",
    "        'amt_credit_sum_overdue': ['sum'],\n",
    "        'days_credit_update': ['min'],\n",
    "#         'amt_annuity': ['mean'],\n",
    "        'delays': ['max', 'mean']\n",
    "}\n",
    "\n",
    "\n",
    "stats = create_numerical_aggs(\n",
    "    bki[mask], groupby_id=\"application_number\", aggs=aggs, prefix=\"prev_credit_\"\n",
    ")\n",
    "stats.head(2)"
   ]
  },
  {
   "cell_type": "code",
   "execution_count": 29,
   "metadata": {},
   "outputs": [],
   "source": [
    "data = data.merge(stats, how=\"left\", on='application_number')"
   ]
  },
  {
   "cell_type": "code",
   "execution_count": 30,
   "metadata": {
    "scrolled": true
   },
   "outputs": [
    {
     "data": {
      "text/plain": [
       "['credit_active', 'credit_currency', 'credit_type']"
      ]
     },
     "execution_count": 30,
     "metadata": {},
     "output_type": "execute_result"
    }
   ],
   "source": [
    "categorical_features"
   ]
  },
  {
   "cell_type": "code",
   "execution_count": 31,
   "metadata": {
    "scrolled": false
   },
   "outputs": [
    {
     "data": {
      "text/plain": [
       "(275234, 98)"
      ]
     },
     "execution_count": 31,
     "metadata": {},
     "output_type": "execute_result"
    }
   ],
   "source": [
    "data.shape"
   ]
  },
  {
   "cell_type": "markdown",
   "metadata": {},
   "source": [
    "### payments"
   ]
  },
  {
   "cell_type": "code",
   "execution_count": 32,
   "metadata": {},
   "outputs": [
    {
     "name": "stdout",
     "output_type": "stream",
     "text": [
      "payments.csv: 1023932 rows, 8 cols\n"
     ]
    },
    {
     "data": {
      "text/html": [
       "<div>\n",
       "<style scoped>\n",
       "    .dataframe tbody tr th:only-of-type {\n",
       "        vertical-align: middle;\n",
       "    }\n",
       "\n",
       "    .dataframe tbody tr th {\n",
       "        vertical-align: top;\n",
       "    }\n",
       "\n",
       "    .dataframe thead th {\n",
       "        text-align: right;\n",
       "    }\n",
       "</style>\n",
       "<table border=\"1\" class=\"dataframe\">\n",
       "  <thead>\n",
       "    <tr style=\"text-align: right;\">\n",
       "      <th></th>\n",
       "      <th>prev_application_number</th>\n",
       "      <th>application_number</th>\n",
       "      <th>num_instalment_version</th>\n",
       "      <th>num_instalment_number</th>\n",
       "      <th>days_instalment</th>\n",
       "      <th>days_entry_payment</th>\n",
       "      <th>amt_instalment</th>\n",
       "      <th>amt_payment</th>\n",
       "      <th>last_delay</th>\n",
       "      <th>last_paid_amount</th>\n",
       "    </tr>\n",
       "  </thead>\n",
       "  <tbody>\n",
       "    <tr>\n",
       "      <th>0</th>\n",
       "      <td>49011181</td>\n",
       "      <td>123664960</td>\n",
       "      <td>1.0</td>\n",
       "      <td>5</td>\n",
       "      <td>1002.0</td>\n",
       "      <td>1015.0</td>\n",
       "      <td>12156.615</td>\n",
       "      <td>12156.615</td>\n",
       "      <td>-13.0</td>\n",
       "      <td>0.00</td>\n",
       "    </tr>\n",
       "    <tr>\n",
       "      <th>1</th>\n",
       "      <td>48683432</td>\n",
       "      <td>123497205</td>\n",
       "      <td>1.0</td>\n",
       "      <td>13</td>\n",
       "      <td>442.0</td>\n",
       "      <td>432.0</td>\n",
       "      <td>18392.535</td>\n",
       "      <td>10047.645</td>\n",
       "      <td>10.0</td>\n",
       "      <td>8344.89</td>\n",
       "    </tr>\n",
       "    <tr>\n",
       "      <th>2</th>\n",
       "      <td>48652024</td>\n",
       "      <td>123749925</td>\n",
       "      <td>1.0</td>\n",
       "      <td>10</td>\n",
       "      <td>8.0</td>\n",
       "      <td>23.0</td>\n",
       "      <td>5499.945</td>\n",
       "      <td>5499.945</td>\n",
       "      <td>-15.0</td>\n",
       "      <td>0.00</td>\n",
       "    </tr>\n",
       "  </tbody>\n",
       "</table>\n",
       "</div>"
      ],
      "text/plain": [
       "   prev_application_number  application_number  num_instalment_version  \\\n",
       "0                 49011181           123664960                     1.0   \n",
       "1                 48683432           123497205                     1.0   \n",
       "2                 48652024           123749925                     1.0   \n",
       "\n",
       "   num_instalment_number  days_instalment  days_entry_payment  amt_instalment  \\\n",
       "0                      5           1002.0              1015.0       12156.615   \n",
       "1                     13            442.0               432.0       18392.535   \n",
       "2                     10              8.0                23.0        5499.945   \n",
       "\n",
       "   amt_payment  last_delay  last_paid_amount  \n",
       "0    12156.615       -13.0              0.00  \n",
       "1    10047.645        10.0           8344.89  \n",
       "2     5499.945       -15.0              0.00  "
      ]
     },
     "execution_count": 32,
     "metadata": {},
     "output_type": "execute_result"
    }
   ],
   "source": [
    "payments = get_input('payments.csv')\n",
    "payments = create_payments_features(payments)\n",
    "payments.head(3)"
   ]
  },
  {
   "cell_type": "code",
   "execution_count": 33,
   "metadata": {},
   "outputs": [],
   "source": [
    "numerical_features = payments.select_dtypes(exclude=[\"object\"]).columns.tolist()\n",
    "categorical_features = payments.select_dtypes(include=[\"object\"]).columns.tolist()"
   ]
  },
  {
   "cell_type": "code",
   "execution_count": 34,
   "metadata": {
    "scrolled": true
   },
   "outputs": [
    {
     "data": {
      "text/plain": [
       "['prev_application_number',\n",
       " 'application_number',\n",
       " 'num_instalment_version',\n",
       " 'num_instalment_number',\n",
       " 'days_instalment',\n",
       " 'days_entry_payment',\n",
       " 'amt_instalment',\n",
       " 'amt_payment',\n",
       " 'last_delay',\n",
       " 'last_paid_amount']"
      ]
     },
     "execution_count": 34,
     "metadata": {},
     "output_type": "execute_result"
    }
   ],
   "source": [
    "numerical_features"
   ]
  },
  {
   "cell_type": "code",
   "execution_count": 35,
   "metadata": {},
   "outputs": [
    {
     "data": {
      "text/html": [
       "<div>\n",
       "<style scoped>\n",
       "    .dataframe tbody tr th:only-of-type {\n",
       "        vertical-align: middle;\n",
       "    }\n",
       "\n",
       "    .dataframe tbody tr th {\n",
       "        vertical-align: top;\n",
       "    }\n",
       "\n",
       "    .dataframe thead th {\n",
       "        text-align: right;\n",
       "    }\n",
       "</style>\n",
       "<table border=\"1\" class=\"dataframe\">\n",
       "  <thead>\n",
       "    <tr style=\"text-align: right;\">\n",
       "      <th></th>\n",
       "      <th>application_number</th>\n",
       "      <th>prev_pay_last_delay_mean</th>\n",
       "      <th>prev_pay_last_delay_max</th>\n",
       "      <th>prev_pay_last_paid_amount_mean</th>\n",
       "      <th>prev_pay_last_paid_amount_max</th>\n",
       "    </tr>\n",
       "  </thead>\n",
       "  <tbody>\n",
       "    <tr>\n",
       "      <th>0</th>\n",
       "      <td>123423340</td>\n",
       "      <td>-10.0</td>\n",
       "      <td>-9.0</td>\n",
       "      <td>0.0</td>\n",
       "      <td>0.0</td>\n",
       "    </tr>\n",
       "    <tr>\n",
       "      <th>1</th>\n",
       "      <td>123423341</td>\n",
       "      <td>-20.0</td>\n",
       "      <td>-20.0</td>\n",
       "      <td>0.0</td>\n",
       "      <td>0.0</td>\n",
       "    </tr>\n",
       "  </tbody>\n",
       "</table>\n",
       "</div>"
      ],
      "text/plain": [
       "   application_number  prev_pay_last_delay_mean  prev_pay_last_delay_max  \\\n",
       "0           123423340                     -10.0                     -9.0   \n",
       "1           123423341                     -20.0                    -20.0   \n",
       "\n",
       "   prev_pay_last_paid_amount_mean  prev_pay_last_paid_amount_max  \n",
       "0                             0.0                            0.0  \n",
       "1                             0.0                            0.0  "
      ]
     },
     "execution_count": 35,
     "metadata": {},
     "output_type": "execute_result"
    }
   ],
   "source": [
    "aggs = {\n",
    "#         'num_instalment_version': ['sum'],\n",
    "#         'num_instalment_number': [],\n",
    "#         'days_instalment': [],\n",
    "#         'days_entry_payment': [],\n",
    "#         'amt_instalment': [],\n",
    "#         'amt_payment': [],\n",
    "        'last_delay': ['mean', 'max'],\n",
    "        'last_paid_amount': ['mean', 'max']\n",
    "}\n",
    "\n",
    "stats = create_numerical_aggs(\n",
    "    payments[mask], groupby_id=\"application_number\", aggs=aggs, prefix=\"prev_pay_\"\n",
    ")\n",
    "stats.head(2)"
   ]
  },
  {
   "cell_type": "code",
   "execution_count": 36,
   "metadata": {},
   "outputs": [],
   "source": [
    "data = data.merge(stats, how=\"left\", on='application_number')"
   ]
  },
  {
   "cell_type": "code",
   "execution_count": 37,
   "metadata": {
    "scrolled": true
   },
   "outputs": [
    {
     "data": {
      "text/plain": [
       "[]"
      ]
     },
     "execution_count": 37,
     "metadata": {},
     "output_type": "execute_result"
    }
   ],
   "source": [
    "categorical_features"
   ]
  },
  {
   "cell_type": "code",
   "execution_count": 38,
   "metadata": {
    "scrolled": false
   },
   "outputs": [
    {
     "data": {
      "text/plain": [
       "(275234, 102)"
      ]
     },
     "execution_count": 38,
     "metadata": {},
     "output_type": "execute_result"
    }
   ],
   "source": [
    "data.shape"
   ]
  },
  {
   "cell_type": "markdown",
   "metadata": {},
   "source": [
    "### isna features"
   ]
  },
  {
   "cell_type": "code",
   "execution_count": 39,
   "metadata": {},
   "outputs": [],
   "source": [
    "data_isna = get_isna_features(data, target_name, treshhold=0.2)\n",
    "data = pd.concat([data, data_isna], axis=1)\n",
    "data['isna_sum'] = data_isna.sum(axis=1)"
   ]
  },
  {
   "cell_type": "code",
   "execution_count": 40,
   "metadata": {},
   "outputs": [
    {
     "data": {
      "text/plain": [
       "(275234, 125)"
      ]
     },
     "execution_count": 40,
     "metadata": {},
     "output_type": "execute_result"
    }
   ],
   "source": [
    "data.shape"
   ]
  },
  {
   "cell_type": "markdown",
   "metadata": {},
   "source": [
    "### category encode"
   ]
  },
  {
   "cell_type": "code",
   "execution_count": 41,
   "metadata": {},
   "outputs": [],
   "source": [
    "numerical_features = data.select_dtypes(exclude=[\"object\"]).columns.tolist()\n",
    "categorical_features = data.select_dtypes(include=[\"object\"]).columns.tolist()"
   ]
  },
  {
   "cell_type": "code",
   "execution_count": 42,
   "metadata": {
    "scrolled": true
   },
   "outputs": [
    {
     "name": "stdout",
     "output_type": "stream",
     "text": [
      "\n",
      "Cash           248983\n",
      "Credit Card     26251\n",
      "Name: name_contract_type, dtype: int64\n",
      "\n",
      "F      147444\n",
      "M       76267\n",
      "XNA         4\n",
      "Name: gender, dtype: int64\n",
      "\n",
      "Secondary / secondary special    158887\n",
      "Higher education                  54516\n",
      "Incomplete higher                  7456\n",
      "Lower secondary                    2736\n",
      "Academic degree                     120\n",
      "Name: education_level_x, dtype: int64\n",
      "\n",
      "Married                 143149\n",
      "Single / not married     32888\n",
      "Civil marriage           21687\n",
      "Separated                14295\n",
      "Widow                    11694\n",
      "Unknown                      2\n",
      "Name: family_status, dtype: int64\n",
      "\n",
      "Secondary / secondary special_Married                 101852\n",
      "Higher education_Married                               35564\n",
      "Secondary / secondary special_Single / not married     21331\n",
      "Secondary / secondary special_Civil marriage           16078\n",
      "Secondary / secondary special_Separated                10056\n",
      "Secondary / secondary special_Widow                     9570\n",
      "Higher education_Single / not married                   9108\n",
      "Higher education_Civil marriage                         4488\n",
      "Incomplete higher_Married                               4084\n",
      "Higher education_Separated                              3673\n",
      "Incomplete higher_Single / not married                  2023\n",
      "Higher education_Widow                                  1682\n",
      "Lower secondary_Married                                 1572\n",
      "Incomplete higher_Civil marriage                         819\n",
      "Lower secondary_Single / not married                     406\n",
      "Incomplete higher_Separated                              394\n",
      "Lower secondary_Widow                                    301\n",
      "Lower secondary_Civil marriage                           296\n",
      "Lower secondary_Separated                                160\n",
      "Incomplete higher_Widow                                  136\n",
      "Academic degree_Married                                   77\n",
      "Academic degree_Single / not married                      20\n",
      "Academic degree_Separated                                 12\n",
      "Academic degree_Civil marriage                             6\n",
      "Academic degree_Widow                                      5\n",
      "Higher education_Unknown                                   1\n",
      "Lower secondary_Unknown                                    1\n",
      "Name: education_level_family_status, dtype: int64\n",
      "\n",
      "Secondary / secondary special    158887\n",
      "Higher education                  54516\n",
      "Incomplete higher                  7456\n",
      "Lower secondary                    2736\n",
      "Academic degree                     120\n",
      "Name: education_level_y, dtype: int64\n"
     ]
    }
   ],
   "source": [
    "for feature in categorical_features:\n",
    "    print(f'\\n{data[feature].value_counts()}')"
   ]
  },
  {
   "cell_type": "code",
   "execution_count": 43,
   "metadata": {
    "scrolled": true
   },
   "outputs": [],
   "source": [
    "for feature in categorical_features:\n",
    "    data[feature] = category_encoding(data[feature])[0]"
   ]
  },
  {
   "cell_type": "code",
   "execution_count": 44,
   "metadata": {},
   "outputs": [],
   "source": [
    "for feature in data.columns:\n",
    "    data = data.rename(columns={\n",
    "        feature: get_lower(feature)\n",
    "    })"
   ]
  },
  {
   "cell_type": "code",
   "execution_count": 45,
   "metadata": {},
   "outputs": [],
   "source": [
    "import re\n",
    "data = data.rename(columns = lambda x:re.sub('[^A-Za-z0-9_]+', '', x))"
   ]
  },
  {
   "cell_type": "code",
   "execution_count": 46,
   "metadata": {},
   "outputs": [],
   "source": [
    "data = data.replace(np.inf, np.nan)"
   ]
  },
  {
   "cell_type": "code",
   "execution_count": 47,
   "metadata": {},
   "outputs": [
    {
     "data": {
      "text/plain": [
       "(275234, 125)"
      ]
     },
     "execution_count": 47,
     "metadata": {},
     "output_type": "execute_result"
    }
   ],
   "source": [
    "data.shape"
   ]
  },
  {
   "cell_type": "code",
   "execution_count": 50,
   "metadata": {},
   "outputs": [
    {
     "data": {
      "text/plain": [
       "['name_contract_type',\n",
       " 'gender',\n",
       " 'education_level_x',\n",
       " 'family_status',\n",
       " 'education_level_family_status',\n",
       " 'education_level_y']"
      ]
     },
     "execution_count": 50,
     "metadata": {},
     "output_type": "execute_result"
    }
   ],
   "source": [
    "categorical_features"
   ]
  },
  {
   "cell_type": "code",
   "execution_count": 49,
   "metadata": {},
   "outputs": [],
   "source": [
    "data.to_pickle('prepared_data.pkl')"
   ]
  },
  {
   "cell_type": "code",
   "execution_count": 51,
   "metadata": {},
   "outputs": [],
   "source": [
    "data = clip_outliers(data, lower=0.001, upper=0.999)"
   ]
  },
  {
   "cell_type": "code",
   "execution_count": 52,
   "metadata": {},
   "outputs": [],
   "source": [
    "data.to_pickle('prepared_data_without_outliers.pkl')"
   ]
  },
  {
   "cell_type": "code",
   "execution_count": null,
   "metadata": {},
   "outputs": [],
   "source": []
  }
 ],
 "metadata": {
  "kernelspec": {
   "display_name": "Python 3",
   "language": "python",
   "name": "python3"
  },
  "language_info": {
   "codemirror_mode": {
    "name": "ipython",
    "version": 3
   },
   "file_extension": ".py",
   "mimetype": "text/x-python",
   "name": "python",
   "nbconvert_exporter": "python",
   "pygments_lexer": "ipython3",
   "version": "3.8.5"
  }
 },
 "nbformat": 4,
 "nbformat_minor": 4
}
