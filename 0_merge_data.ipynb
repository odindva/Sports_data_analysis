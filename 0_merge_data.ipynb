{
 "cells": [
  {
   "cell_type": "code",
   "execution_count": 1,
   "metadata": {},
   "outputs": [],
   "source": [
    "import time\n",
    "import numpy as np\n",
    "import pandas as pd\n",
    "import catboost as cb\n",
    "\n",
    "from sklearn.metrics import roc_auc_score\n",
    "from sklearn.model_selection import KFold, train_test_split"
   ]
  },
  {
   "cell_type": "markdown",
   "metadata": {},
   "source": [
    "### functions"
   ]
  },
  {
   "cell_type": "code",
   "execution_count": 2,
   "metadata": {},
   "outputs": [],
   "source": [
    "def get_lower(x: str) -> str:\n",
    "    return x.replace(' ', '_').lower()\n",
    "\n",
    "def one_hot_encoding(df, cat_features=None, drop_original=True):\n",
    "    df_copy = df.copy()\n",
    "    if cat_features is None:\n",
    "        cat_features = df.columns\n",
    "    for feature in cat_features:\n",
    "        df_copy = pd.concat([df_copy, \n",
    "                             pd.get_dummies(df[feature], \n",
    "                                            prefix=feature, \n",
    "                                            dummy_na=True)\n",
    "                            ],\n",
    "                            axis=1)\n",
    "    if drop_original:\n",
    "        df_copy.drop(cat_features, axis=1, inplace=True)\n",
    "    return df_copy\n",
    "\n",
    "def agg_features(df, df_out, by: str):\n",
    "    df_copy = df.copy()\n",
    "    df_out_copy = df_out.copy()\n",
    "    cols = df_copy.drop(by, axis=1).columns\n",
    "    for feature in cols:\n",
    "        feature_groupby = df_copy.groupby(by, as_index=False)\n",
    "        feature_counts = feature_groupby[feature].mean()\n",
    "        feature_counts = feature_counts.rename(columns={\n",
    "            feature: feature + f'_mean'\n",
    "        })\n",
    "        df_out_copy = df_out_copy.merge(feature_counts, how=\"left\", on=by)\n",
    "    return df_out_copy\n",
    "\n",
    "def get_input(data_path: str,\n",
    "              base_path: str= './data/',\n",
    "              col_lower=True) -> pd.DataFrame:\n",
    "    data = pd.read_csv(f'{base_path}/{data_path}')\n",
    "    if col_lower:\n",
    "        data.columns = [col.lower() for col in data.columns]\n",
    "    print(f'{data_path}: {data.shape[0]} rows, {data.shape[1]} cols')\n",
    "    return data"
   ]
  },
  {
   "cell_type": "markdown",
   "metadata": {},
   "source": [
    "### base tables"
   ]
  },
  {
   "cell_type": "code",
   "execution_count": 3,
   "metadata": {},
   "outputs": [
    {
     "name": "stdout",
     "output_type": "stream",
     "text": [
      "train.csv: 110093 rows, 3 cols\n",
      "test.csv: 165141 rows, 2 cols\n"
     ]
    },
    {
     "data": {
      "text/html": [
       "<div>\n",
       "<style scoped>\n",
       "    .dataframe tbody tr th:only-of-type {\n",
       "        vertical-align: middle;\n",
       "    }\n",
       "\n",
       "    .dataframe tbody tr th {\n",
       "        vertical-align: top;\n",
       "    }\n",
       "\n",
       "    .dataframe thead th {\n",
       "        text-align: right;\n",
       "    }\n",
       "</style>\n",
       "<table border=\"1\" class=\"dataframe\">\n",
       "  <thead>\n",
       "    <tr style=\"text-align: right;\">\n",
       "      <th></th>\n",
       "      <th>application_number</th>\n",
       "      <th>target</th>\n",
       "      <th>name_contract_type</th>\n",
       "    </tr>\n",
       "  </thead>\n",
       "  <tbody>\n",
       "    <tr>\n",
       "      <th>0</th>\n",
       "      <td>123687442</td>\n",
       "      <td>0.0</td>\n",
       "      <td>Cash</td>\n",
       "    </tr>\n",
       "    <tr>\n",
       "      <th>1</th>\n",
       "      <td>123597908</td>\n",
       "      <td>1.0</td>\n",
       "      <td>Cash</td>\n",
       "    </tr>\n",
       "    <tr>\n",
       "      <th>2</th>\n",
       "      <td>123526683</td>\n",
       "      <td>0.0</td>\n",
       "      <td>Cash</td>\n",
       "    </tr>\n",
       "  </tbody>\n",
       "</table>\n",
       "</div>"
      ],
      "text/plain": [
       "   application_number  target name_contract_type\n",
       "0           123687442     0.0               Cash\n",
       "1           123597908     1.0               Cash\n",
       "2           123526683     0.0               Cash"
      ]
     },
     "execution_count": 3,
     "metadata": {},
     "output_type": "execute_result"
    }
   ],
   "source": [
    "train = get_input('train.csv')\n",
    "test = get_input('test.csv')\n",
    "\n",
    "data = pd.concat([train, test], axis=0)\n",
    "data = data.reset_index(drop=True)\n",
    "data.head(3)"
   ]
  },
  {
   "cell_type": "code",
   "execution_count": 4,
   "metadata": {},
   "outputs": [],
   "source": [
    "target_name = 'target'"
   ]
  },
  {
   "cell_type": "code",
   "execution_count": 5,
   "metadata": {
    "scrolled": true
   },
   "outputs": [
    {
     "data": {
      "text/plain": [
       "Cash           248983\n",
       "Credit Card     26251\n",
       "Name: name_contract_type, dtype: int64"
      ]
     },
     "execution_count": 5,
     "metadata": {},
     "output_type": "execute_result"
    }
   ],
   "source": [
    "data['name_contract_type'].value_counts()"
   ]
  },
  {
   "cell_type": "code",
   "execution_count": 6,
   "metadata": {},
   "outputs": [],
   "source": [
    "data = one_hot_encoding(data, \n",
    "                        cat_features=['name_contract_type'], \n",
    "                        drop_original=True)"
   ]
  },
  {
   "cell_type": "code",
   "execution_count": 7,
   "metadata": {},
   "outputs": [
    {
     "data": {
      "text/html": [
       "<div>\n",
       "<style scoped>\n",
       "    .dataframe tbody tr th:only-of-type {\n",
       "        vertical-align: middle;\n",
       "    }\n",
       "\n",
       "    .dataframe tbody tr th {\n",
       "        vertical-align: top;\n",
       "    }\n",
       "\n",
       "    .dataframe thead th {\n",
       "        text-align: right;\n",
       "    }\n",
       "</style>\n",
       "<table border=\"1\" class=\"dataframe\">\n",
       "  <thead>\n",
       "    <tr style=\"text-align: right;\">\n",
       "      <th></th>\n",
       "      <th>application_number</th>\n",
       "      <th>target</th>\n",
       "      <th>name_contract_type_Cash</th>\n",
       "      <th>name_contract_type_Credit Card</th>\n",
       "      <th>name_contract_type_nan</th>\n",
       "    </tr>\n",
       "  </thead>\n",
       "  <tbody>\n",
       "    <tr>\n",
       "      <th>0</th>\n",
       "      <td>123687442</td>\n",
       "      <td>0.0</td>\n",
       "      <td>1</td>\n",
       "      <td>0</td>\n",
       "      <td>0</td>\n",
       "    </tr>\n",
       "    <tr>\n",
       "      <th>1</th>\n",
       "      <td>123597908</td>\n",
       "      <td>1.0</td>\n",
       "      <td>1</td>\n",
       "      <td>0</td>\n",
       "      <td>0</td>\n",
       "    </tr>\n",
       "    <tr>\n",
       "      <th>2</th>\n",
       "      <td>123526683</td>\n",
       "      <td>0.0</td>\n",
       "      <td>1</td>\n",
       "      <td>0</td>\n",
       "      <td>0</td>\n",
       "    </tr>\n",
       "  </tbody>\n",
       "</table>\n",
       "</div>"
      ],
      "text/plain": [
       "   application_number  target  name_contract_type_Cash  \\\n",
       "0           123687442     0.0                        1   \n",
       "1           123597908     1.0                        1   \n",
       "2           123526683     0.0                        1   \n",
       "\n",
       "   name_contract_type_Credit Card  name_contract_type_nan  \n",
       "0                               0                       0  \n",
       "1                               0                       0  \n",
       "2                               0                       0  "
      ]
     },
     "execution_count": 7,
     "metadata": {},
     "output_type": "execute_result"
    }
   ],
   "source": [
    "data.head(3)"
   ]
  },
  {
   "cell_type": "markdown",
   "metadata": {},
   "source": [
    "### client profile"
   ]
  },
  {
   "cell_type": "code",
   "execution_count": 8,
   "metadata": {
    "scrolled": true
   },
   "outputs": [
    {
     "name": "stdout",
     "output_type": "stream",
     "text": [
      "client_profile.csv: 250000 rows, 24 cols\n"
     ]
    },
    {
     "data": {
      "text/html": [
       "<div>\n",
       "<style scoped>\n",
       "    .dataframe tbody tr th:only-of-type {\n",
       "        vertical-align: middle;\n",
       "    }\n",
       "\n",
       "    .dataframe tbody tr th {\n",
       "        vertical-align: top;\n",
       "    }\n",
       "\n",
       "    .dataframe thead th {\n",
       "        text-align: right;\n",
       "    }\n",
       "</style>\n",
       "<table border=\"1\" class=\"dataframe\">\n",
       "  <thead>\n",
       "    <tr style=\"text-align: right;\">\n",
       "      <th></th>\n",
       "      <th>application_number</th>\n",
       "      <th>gender</th>\n",
       "      <th>childrens</th>\n",
       "      <th>total_salary</th>\n",
       "      <th>amount_credit</th>\n",
       "      <th>amount_annuity</th>\n",
       "      <th>education_level</th>\n",
       "      <th>family_status</th>\n",
       "      <th>region_population</th>\n",
       "      <th>age</th>\n",
       "      <th>...</th>\n",
       "      <th>family_size</th>\n",
       "      <th>external_scoring_rating_1</th>\n",
       "      <th>external_scoring_rating_2</th>\n",
       "      <th>external_scoring_rating_3</th>\n",
       "      <th>amt_req_credit_bureau_hour</th>\n",
       "      <th>amt_req_credit_bureau_day</th>\n",
       "      <th>amt_req_credit_bureau_week</th>\n",
       "      <th>amt_req_credit_bureau_mon</th>\n",
       "      <th>amt_req_credit_bureau_qrt</th>\n",
       "      <th>amt_req_credit_bureau_year</th>\n",
       "    </tr>\n",
       "  </thead>\n",
       "  <tbody>\n",
       "    <tr>\n",
       "      <th>0</th>\n",
       "      <td>123666076</td>\n",
       "      <td>F</td>\n",
       "      <td>0</td>\n",
       "      <td>157500.0</td>\n",
       "      <td>270000.0</td>\n",
       "      <td>13500.0</td>\n",
       "      <td>Incomplete higher</td>\n",
       "      <td>Civil marriage</td>\n",
       "      <td>0.008068</td>\n",
       "      <td>8560</td>\n",
       "      <td>...</td>\n",
       "      <td>2.0</td>\n",
       "      <td>0.329471</td>\n",
       "      <td>0.236315</td>\n",
       "      <td>0.678568</td>\n",
       "      <td>0.0</td>\n",
       "      <td>0.0</td>\n",
       "      <td>0.0</td>\n",
       "      <td>0.0</td>\n",
       "      <td>1.0</td>\n",
       "      <td>2.0</td>\n",
       "    </tr>\n",
       "    <tr>\n",
       "      <th>1</th>\n",
       "      <td>123423688</td>\n",
       "      <td>F</td>\n",
       "      <td>0</td>\n",
       "      <td>270000.0</td>\n",
       "      <td>536917.5</td>\n",
       "      <td>28467.0</td>\n",
       "      <td>Secondary / secondary special</td>\n",
       "      <td>Married</td>\n",
       "      <td>0.020246</td>\n",
       "      <td>23187</td>\n",
       "      <td>...</td>\n",
       "      <td>2.0</td>\n",
       "      <td>NaN</td>\n",
       "      <td>0.442295</td>\n",
       "      <td>0.802745</td>\n",
       "      <td>0.0</td>\n",
       "      <td>0.0</td>\n",
       "      <td>0.0</td>\n",
       "      <td>0.0</td>\n",
       "      <td>1.0</td>\n",
       "      <td>1.0</td>\n",
       "    </tr>\n",
       "    <tr>\n",
       "      <th>2</th>\n",
       "      <td>123501780</td>\n",
       "      <td>M</td>\n",
       "      <td>1</td>\n",
       "      <td>427500.0</td>\n",
       "      <td>239850.0</td>\n",
       "      <td>23850.0</td>\n",
       "      <td>Incomplete higher</td>\n",
       "      <td>Married</td>\n",
       "      <td>0.072508</td>\n",
       "      <td>14387</td>\n",
       "      <td>...</td>\n",
       "      <td>3.0</td>\n",
       "      <td>0.409017</td>\n",
       "      <td>0.738159</td>\n",
       "      <td>NaN</td>\n",
       "      <td>NaN</td>\n",
       "      <td>NaN</td>\n",
       "      <td>NaN</td>\n",
       "      <td>NaN</td>\n",
       "      <td>NaN</td>\n",
       "      <td>NaN</td>\n",
       "    </tr>\n",
       "  </tbody>\n",
       "</table>\n",
       "<p>3 rows × 24 columns</p>\n",
       "</div>"
      ],
      "text/plain": [
       "   application_number gender  childrens  total_salary  amount_credit  \\\n",
       "0           123666076      F          0      157500.0       270000.0   \n",
       "1           123423688      F          0      270000.0       536917.5   \n",
       "2           123501780      M          1      427500.0       239850.0   \n",
       "\n",
       "   amount_annuity                education_level   family_status  \\\n",
       "0         13500.0              Incomplete higher  Civil marriage   \n",
       "1         28467.0  Secondary / secondary special         Married   \n",
       "2         23850.0              Incomplete higher         Married   \n",
       "\n",
       "   region_population    age  ...  family_size  external_scoring_rating_1  \\\n",
       "0           0.008068   8560  ...          2.0                   0.329471   \n",
       "1           0.020246  23187  ...          2.0                        NaN   \n",
       "2           0.072508  14387  ...          3.0                   0.409017   \n",
       "\n",
       "   external_scoring_rating_2  external_scoring_rating_3  \\\n",
       "0                   0.236315                   0.678568   \n",
       "1                   0.442295                   0.802745   \n",
       "2                   0.738159                        NaN   \n",
       "\n",
       "   amt_req_credit_bureau_hour  amt_req_credit_bureau_day  \\\n",
       "0                         0.0                        0.0   \n",
       "1                         0.0                        0.0   \n",
       "2                         NaN                        NaN   \n",
       "\n",
       "   amt_req_credit_bureau_week  amt_req_credit_bureau_mon  \\\n",
       "0                         0.0                        0.0   \n",
       "1                         0.0                        0.0   \n",
       "2                         NaN                        NaN   \n",
       "\n",
       "   amt_req_credit_bureau_qrt  amt_req_credit_bureau_year  \n",
       "0                        1.0                         2.0  \n",
       "1                        1.0                         1.0  \n",
       "2                        NaN                         NaN  \n",
       "\n",
       "[3 rows x 24 columns]"
      ]
     },
     "execution_count": 8,
     "metadata": {},
     "output_type": "execute_result"
    }
   ],
   "source": [
    "profile = get_input('client_profile.csv')\n",
    "profile.head(3)"
   ]
  },
  {
   "cell_type": "code",
   "execution_count": 9,
   "metadata": {},
   "outputs": [],
   "source": [
    "numerical_features = profile.select_dtypes(exclude=[\"object\"]).columns.tolist()\n",
    "categorical_features = profile.select_dtypes(include=[\"object\"]).columns.tolist()"
   ]
  },
  {
   "cell_type": "code",
   "execution_count": 10,
   "metadata": {
    "scrolled": true
   },
   "outputs": [
    {
     "data": {
      "text/plain": [
       "['gender', 'education_level', 'family_status']"
      ]
     },
     "execution_count": 10,
     "metadata": {},
     "output_type": "execute_result"
    }
   ],
   "source": [
    "categorical_features"
   ]
  },
  {
   "cell_type": "code",
   "execution_count": 11,
   "metadata": {},
   "outputs": [
    {
     "name": "stdout",
     "output_type": "stream",
     "text": [
      "\n",
      "F      164645\n",
      "M       85351\n",
      "XNA         4\n",
      "Name: gender, dtype: int64\n",
      "\n",
      "Secondary / secondary special    177562\n",
      "Higher education                  60864\n",
      "Incomplete higher                  8357\n",
      "Lower secondary                    3081\n",
      "Academic degree                     136\n",
      "Name: education_level, dtype: int64\n",
      "\n",
      "Married                 159846\n",
      "Single / not married     36883\n",
      "Civil marriage           24252\n",
      "Separated                15984\n",
      "Widow                    13033\n",
      "Unknown                      2\n",
      "Name: family_status, dtype: int64\n"
     ]
    }
   ],
   "source": [
    "for feature in profile[categorical_features].columns.tolist():\n",
    "    print()\n",
    "    print(profile[feature].value_counts())"
   ]
  },
  {
   "cell_type": "code",
   "execution_count": 12,
   "metadata": {},
   "outputs": [],
   "source": [
    "profile_ohe = one_hot_encoding(profile, \n",
    "                               cat_features=categorical_features, \n",
    "                               drop_original=True)"
   ]
  },
  {
   "cell_type": "code",
   "execution_count": 13,
   "metadata": {},
   "outputs": [],
   "source": [
    "data = data.merge(profile_ohe, how=\"left\", on='application_number')"
   ]
  },
  {
   "cell_type": "code",
   "execution_count": 14,
   "metadata": {
    "scrolled": true
   },
   "outputs": [
    {
     "data": {
      "text/html": [
       "<div>\n",
       "<style scoped>\n",
       "    .dataframe tbody tr th:only-of-type {\n",
       "        vertical-align: middle;\n",
       "    }\n",
       "\n",
       "    .dataframe tbody tr th {\n",
       "        vertical-align: top;\n",
       "    }\n",
       "\n",
       "    .dataframe thead th {\n",
       "        text-align: right;\n",
       "    }\n",
       "</style>\n",
       "<table border=\"1\" class=\"dataframe\">\n",
       "  <thead>\n",
       "    <tr style=\"text-align: right;\">\n",
       "      <th></th>\n",
       "      <th>application_number</th>\n",
       "      <th>target</th>\n",
       "      <th>name_contract_type_Cash</th>\n",
       "      <th>name_contract_type_Credit Card</th>\n",
       "      <th>name_contract_type_nan</th>\n",
       "      <th>childrens</th>\n",
       "      <th>total_salary</th>\n",
       "      <th>amount_credit</th>\n",
       "      <th>amount_annuity</th>\n",
       "      <th>region_population</th>\n",
       "      <th>...</th>\n",
       "      <th>education_level_Lower secondary</th>\n",
       "      <th>education_level_Secondary / secondary special</th>\n",
       "      <th>education_level_nan</th>\n",
       "      <th>family_status_Civil marriage</th>\n",
       "      <th>family_status_Married</th>\n",
       "      <th>family_status_Separated</th>\n",
       "      <th>family_status_Single / not married</th>\n",
       "      <th>family_status_Unknown</th>\n",
       "      <th>family_status_Widow</th>\n",
       "      <th>family_status_nan</th>\n",
       "    </tr>\n",
       "  </thead>\n",
       "  <tbody>\n",
       "    <tr>\n",
       "      <th>0</th>\n",
       "      <td>123687442</td>\n",
       "      <td>0.0</td>\n",
       "      <td>1</td>\n",
       "      <td>0</td>\n",
       "      <td>0</td>\n",
       "      <td>1.0</td>\n",
       "      <td>157500.0</td>\n",
       "      <td>855000.0</td>\n",
       "      <td>25128.0</td>\n",
       "      <td>0.019101</td>\n",
       "      <td>...</td>\n",
       "      <td>0.0</td>\n",
       "      <td>1.0</td>\n",
       "      <td>0.0</td>\n",
       "      <td>0.0</td>\n",
       "      <td>1.0</td>\n",
       "      <td>0.0</td>\n",
       "      <td>0.0</td>\n",
       "      <td>0.0</td>\n",
       "      <td>0.0</td>\n",
       "      <td>0.0</td>\n",
       "    </tr>\n",
       "    <tr>\n",
       "      <th>1</th>\n",
       "      <td>123597908</td>\n",
       "      <td>1.0</td>\n",
       "      <td>1</td>\n",
       "      <td>0</td>\n",
       "      <td>0</td>\n",
       "      <td>NaN</td>\n",
       "      <td>NaN</td>\n",
       "      <td>NaN</td>\n",
       "      <td>NaN</td>\n",
       "      <td>NaN</td>\n",
       "      <td>...</td>\n",
       "      <td>NaN</td>\n",
       "      <td>NaN</td>\n",
       "      <td>NaN</td>\n",
       "      <td>NaN</td>\n",
       "      <td>NaN</td>\n",
       "      <td>NaN</td>\n",
       "      <td>NaN</td>\n",
       "      <td>NaN</td>\n",
       "      <td>NaN</td>\n",
       "      <td>NaN</td>\n",
       "    </tr>\n",
       "    <tr>\n",
       "      <th>2</th>\n",
       "      <td>123526683</td>\n",
       "      <td>0.0</td>\n",
       "      <td>1</td>\n",
       "      <td>0</td>\n",
       "      <td>0</td>\n",
       "      <td>0.0</td>\n",
       "      <td>135000.0</td>\n",
       "      <td>1006920.0</td>\n",
       "      <td>42660.0</td>\n",
       "      <td>0.026392</td>\n",
       "      <td>...</td>\n",
       "      <td>0.0</td>\n",
       "      <td>0.0</td>\n",
       "      <td>0.0</td>\n",
       "      <td>0.0</td>\n",
       "      <td>1.0</td>\n",
       "      <td>0.0</td>\n",
       "      <td>0.0</td>\n",
       "      <td>0.0</td>\n",
       "      <td>0.0</td>\n",
       "      <td>0.0</td>\n",
       "    </tr>\n",
       "  </tbody>\n",
       "</table>\n",
       "<p>3 rows × 42 columns</p>\n",
       "</div>"
      ],
      "text/plain": [
       "   application_number  target  name_contract_type_Cash  \\\n",
       "0           123687442     0.0                        1   \n",
       "1           123597908     1.0                        1   \n",
       "2           123526683     0.0                        1   \n",
       "\n",
       "   name_contract_type_Credit Card  name_contract_type_nan  childrens  \\\n",
       "0                               0                       0        1.0   \n",
       "1                               0                       0        NaN   \n",
       "2                               0                       0        0.0   \n",
       "\n",
       "   total_salary  amount_credit  amount_annuity  region_population  ...  \\\n",
       "0      157500.0       855000.0         25128.0           0.019101  ...   \n",
       "1           NaN            NaN             NaN                NaN  ...   \n",
       "2      135000.0      1006920.0         42660.0           0.026392  ...   \n",
       "\n",
       "   education_level_Lower secondary  \\\n",
       "0                              0.0   \n",
       "1                              NaN   \n",
       "2                              0.0   \n",
       "\n",
       "   education_level_Secondary / secondary special  education_level_nan  \\\n",
       "0                                            1.0                  0.0   \n",
       "1                                            NaN                  NaN   \n",
       "2                                            0.0                  0.0   \n",
       "\n",
       "   family_status_Civil marriage  family_status_Married  \\\n",
       "0                           0.0                    1.0   \n",
       "1                           NaN                    NaN   \n",
       "2                           0.0                    1.0   \n",
       "\n",
       "   family_status_Separated  family_status_Single / not married  \\\n",
       "0                      0.0                                 0.0   \n",
       "1                      NaN                                 NaN   \n",
       "2                      0.0                                 0.0   \n",
       "\n",
       "   family_status_Unknown  family_status_Widow  family_status_nan  \n",
       "0                    0.0                  0.0                0.0  \n",
       "1                    NaN                  NaN                NaN  \n",
       "2                    0.0                  0.0                0.0  \n",
       "\n",
       "[3 rows x 42 columns]"
      ]
     },
     "execution_count": 14,
     "metadata": {},
     "output_type": "execute_result"
    }
   ],
   "source": [
    "data.head(3)"
   ]
  },
  {
   "cell_type": "code",
   "execution_count": 15,
   "metadata": {
    "scrolled": true
   },
   "outputs": [
    {
     "data": {
      "text/plain": [
       "(275234, 42)"
      ]
     },
     "execution_count": 15,
     "metadata": {},
     "output_type": "execute_result"
    }
   ],
   "source": [
    "data.shape"
   ]
  },
  {
   "cell_type": "markdown",
   "metadata": {},
   "source": [
    "### applications history"
   ]
  },
  {
   "cell_type": "code",
   "execution_count": 16,
   "metadata": {
    "scrolled": true
   },
   "outputs": [
    {
     "name": "stdout",
     "output_type": "stream",
     "text": [
      "applications_history.csv: 1670214 rows, 26 cols\n"
     ]
    },
    {
     "data": {
      "text/html": [
       "<div>\n",
       "<style scoped>\n",
       "    .dataframe tbody tr th:only-of-type {\n",
       "        vertical-align: middle;\n",
       "    }\n",
       "\n",
       "    .dataframe tbody tr th {\n",
       "        vertical-align: top;\n",
       "    }\n",
       "\n",
       "    .dataframe thead th {\n",
       "        text-align: right;\n",
       "    }\n",
       "</style>\n",
       "<table border=\"1\" class=\"dataframe\">\n",
       "  <thead>\n",
       "    <tr style=\"text-align: right;\">\n",
       "      <th></th>\n",
       "      <th>prev_application_number</th>\n",
       "      <th>application_number</th>\n",
       "      <th>name_contract_type</th>\n",
       "      <th>amount_annuity</th>\n",
       "      <th>amt_application</th>\n",
       "      <th>amount_credit</th>\n",
       "      <th>amount_payment</th>\n",
       "      <th>amount_goods_payment</th>\n",
       "      <th>name_contract_status</th>\n",
       "      <th>days_decision</th>\n",
       "      <th>...</th>\n",
       "      <th>name_product_type</th>\n",
       "      <th>sellerplace_area</th>\n",
       "      <th>cnt_payment</th>\n",
       "      <th>name_yield_group</th>\n",
       "      <th>days_first_drawing</th>\n",
       "      <th>days_first_due</th>\n",
       "      <th>days_last_due_1st_version</th>\n",
       "      <th>days_last_due</th>\n",
       "      <th>days_termination</th>\n",
       "      <th>nflag_insured_on_approval</th>\n",
       "    </tr>\n",
       "  </thead>\n",
       "  <tbody>\n",
       "    <tr>\n",
       "      <th>0</th>\n",
       "      <td>49298709</td>\n",
       "      <td>123595216</td>\n",
       "      <td>NaN</td>\n",
       "      <td>1730.430</td>\n",
       "      <td>17145.0</td>\n",
       "      <td>17145.0</td>\n",
       "      <td>0.0</td>\n",
       "      <td>17145.0</td>\n",
       "      <td>Approved</td>\n",
       "      <td>73</td>\n",
       "      <td>...</td>\n",
       "      <td>XNA</td>\n",
       "      <td>35</td>\n",
       "      <td>12.0</td>\n",
       "      <td>middle</td>\n",
       "      <td>365243.0</td>\n",
       "      <td>42.0</td>\n",
       "      <td>300.0</td>\n",
       "      <td>42.0</td>\n",
       "      <td>37.0</td>\n",
       "      <td>0.0</td>\n",
       "    </tr>\n",
       "    <tr>\n",
       "      <th>1</th>\n",
       "      <td>50070639</td>\n",
       "      <td>123431468</td>\n",
       "      <td>Cash</td>\n",
       "      <td>25188.615</td>\n",
       "      <td>607500.0</td>\n",
       "      <td>679671.0</td>\n",
       "      <td>NaN</td>\n",
       "      <td>607500.0</td>\n",
       "      <td>Approved</td>\n",
       "      <td>164</td>\n",
       "      <td>...</td>\n",
       "      <td>x-sell</td>\n",
       "      <td>-1</td>\n",
       "      <td>36.0</td>\n",
       "      <td>low_action</td>\n",
       "      <td>365243.0</td>\n",
       "      <td>134.0</td>\n",
       "      <td>916.0</td>\n",
       "      <td>365243.0</td>\n",
       "      <td>365243.0</td>\n",
       "      <td>1.0</td>\n",
       "    </tr>\n",
       "    <tr>\n",
       "      <th>2</th>\n",
       "      <td>49791680</td>\n",
       "      <td>123445379</td>\n",
       "      <td>Cash</td>\n",
       "      <td>15060.735</td>\n",
       "      <td>112500.0</td>\n",
       "      <td>136444.5</td>\n",
       "      <td>NaN</td>\n",
       "      <td>112500.0</td>\n",
       "      <td>Approved</td>\n",
       "      <td>301</td>\n",
       "      <td>...</td>\n",
       "      <td>x-sell</td>\n",
       "      <td>-1</td>\n",
       "      <td>12.0</td>\n",
       "      <td>high</td>\n",
       "      <td>365243.0</td>\n",
       "      <td>271.0</td>\n",
       "      <td>59.0</td>\n",
       "      <td>365243.0</td>\n",
       "      <td>365243.0</td>\n",
       "      <td>1.0</td>\n",
       "    </tr>\n",
       "  </tbody>\n",
       "</table>\n",
       "<p>3 rows × 26 columns</p>\n",
       "</div>"
      ],
      "text/plain": [
       "   prev_application_number  application_number name_contract_type  \\\n",
       "0                 49298709           123595216                NaN   \n",
       "1                 50070639           123431468               Cash   \n",
       "2                 49791680           123445379               Cash   \n",
       "\n",
       "   amount_annuity  amt_application  amount_credit  amount_payment  \\\n",
       "0        1730.430          17145.0        17145.0             0.0   \n",
       "1       25188.615         607500.0       679671.0             NaN   \n",
       "2       15060.735         112500.0       136444.5             NaN   \n",
       "\n",
       "   amount_goods_payment name_contract_status  days_decision  ...  \\\n",
       "0               17145.0             Approved             73  ...   \n",
       "1              607500.0             Approved            164  ...   \n",
       "2              112500.0             Approved            301  ...   \n",
       "\n",
       "  name_product_type sellerplace_area cnt_payment name_yield_group  \\\n",
       "0               XNA               35        12.0           middle   \n",
       "1            x-sell               -1        36.0       low_action   \n",
       "2            x-sell               -1        12.0             high   \n",
       "\n",
       "  days_first_drawing days_first_due days_last_due_1st_version  days_last_due  \\\n",
       "0           365243.0           42.0                     300.0           42.0   \n",
       "1           365243.0          134.0                     916.0       365243.0   \n",
       "2           365243.0          271.0                      59.0       365243.0   \n",
       "\n",
       "   days_termination nflag_insured_on_approval  \n",
       "0              37.0                       0.0  \n",
       "1          365243.0                       1.0  \n",
       "2          365243.0                       1.0  \n",
       "\n",
       "[3 rows x 26 columns]"
      ]
     },
     "execution_count": 16,
     "metadata": {},
     "output_type": "execute_result"
    }
   ],
   "source": [
    "app_history = get_input('applications_history.csv')\n",
    "app_history.head(3)"
   ]
  },
  {
   "cell_type": "code",
   "execution_count": 17,
   "metadata": {},
   "outputs": [],
   "source": [
    "numerical_features = app_history.select_dtypes(exclude=[\"object\"]).columns.tolist()\n",
    "categorical_features = app_history.select_dtypes(include=[\"object\"]).columns.tolist()"
   ]
  },
  {
   "cell_type": "code",
   "execution_count": 18,
   "metadata": {
    "scrolled": true
   },
   "outputs": [
    {
     "data": {
      "text/plain": [
       "['name_contract_type',\n",
       " 'name_contract_status',\n",
       " 'name_payment_type',\n",
       " 'code_reject_reason',\n",
       " 'name_type_suite',\n",
       " 'name_client_type',\n",
       " 'name_goods_category',\n",
       " 'name_portfolio',\n",
       " 'name_product_type',\n",
       " 'name_yield_group']"
      ]
     },
     "execution_count": 18,
     "metadata": {},
     "output_type": "execute_result"
    }
   ],
   "source": [
    "categorical_features"
   ]
  },
  {
   "cell_type": "code",
   "execution_count": 19,
   "metadata": {},
   "outputs": [
    {
     "name": "stdout",
     "output_type": "stream",
     "text": [
      "\n",
      "Cash           747553\n",
      "Credit Card    193164\n",
      "Name: name_contract_type, dtype: int64\n",
      "\n",
      "Approved        1036781\n",
      "Canceled         316319\n",
      "Refused          290678\n",
      "Unused offer      26436\n",
      "Name: name_contract_status, dtype: int64\n",
      "\n",
      "Cash through the bank                        1033552\n",
      "XNA                                           627384\n",
      "Non-cash from your account                      8193\n",
      "Cashless from the account of the employer       1085\n",
      "Name: name_payment_type, dtype: int64\n",
      "\n",
      "XAP       1353093\n",
      "HC         175231\n",
      "LIMIT       55680\n",
      "SCO         37467\n",
      "CLIENT      26436\n",
      "SCOFR       12811\n",
      "XNA          5244\n",
      "VERIF        3535\n",
      "SYSTEM        717\n",
      "Name: code_reject_reason, dtype: int64\n",
      "\n",
      "Unaccompanied      508970\n",
      "Family             213263\n",
      "Spouse, partner     67069\n",
      "Children            31566\n",
      "Other_B             17624\n",
      "Other_A              9077\n",
      "Group of people      2240\n",
      "Name: name_type_suite, dtype: int64\n",
      "\n",
      "Repeater     1231261\n",
      "New           301363\n",
      "Refreshed     135649\n",
      "XNA             1941\n",
      "Name: name_client_type, dtype: int64\n",
      "\n",
      "XNA                         950809\n",
      "Mobile                      224708\n",
      "Consumer Electronics        121576\n",
      "Computers                   105769\n",
      "Audio/Video                  99441\n",
      "Furniture                    53656\n",
      "Photo / Cinema Equipment     25021\n",
      "Construction Materials       24995\n",
      "Clothing and Accessories     23554\n",
      "Auto Accessories              7381\n",
      "Jewelry                       6290\n",
      "Homewares                     5023\n",
      "Medical Supplies              3843\n",
      "Vehicles                      3370\n",
      "Sport and Leisure             2981\n",
      "Gardening                     2668\n",
      "Other                         2554\n",
      "Office Appliances             2333\n",
      "Tourism                       1659\n",
      "Medicine                      1550\n",
      "Direct Sales                   446\n",
      "Fitness                        209\n",
      "Additional Service             128\n",
      "Education                      107\n",
      "Weapon                          77\n",
      "Insurance                       64\n",
      "House Construction               1\n",
      "Animals                          1\n",
      "Name: name_goods_category, dtype: int64\n",
      "\n",
      "POS      691011\n",
      "Cash     461563\n",
      "XNA      372230\n",
      "Cards    144985\n",
      "Cars        425\n",
      "Name: name_portfolio, dtype: int64\n",
      "\n",
      "XNA        1063666\n",
      "x-sell      456287\n",
      "walk-in     150261\n",
      "Name: name_product_type, dtype: int64\n",
      "\n",
      "XNA           517215\n",
      "middle        385532\n",
      "high          353331\n",
      "low_normal    322095\n",
      "low_action     92041\n",
      "Name: name_yield_group, dtype: int64\n"
     ]
    }
   ],
   "source": [
    "for feature in app_history[categorical_features].columns.tolist():\n",
    "    print()\n",
    "    print(app_history[feature].value_counts())"
   ]
  },
  {
   "cell_type": "code",
   "execution_count": 20,
   "metadata": {},
   "outputs": [],
   "source": [
    "app_history_ohe = one_hot_encoding(app_history, \n",
    "                                   cat_features=categorical_features, \n",
    "                                   drop_original=True)"
   ]
  },
  {
   "cell_type": "code",
   "execution_count": 21,
   "metadata": {
    "scrolled": true
   },
   "outputs": [],
   "source": [
    "data = agg_features(app_history_ohe, data, by='application_number')"
   ]
  },
  {
   "cell_type": "code",
   "execution_count": 22,
   "metadata": {
    "scrolled": true
   },
   "outputs": [
    {
     "data": {
      "text/html": [
       "<div>\n",
       "<style scoped>\n",
       "    .dataframe tbody tr th:only-of-type {\n",
       "        vertical-align: middle;\n",
       "    }\n",
       "\n",
       "    .dataframe tbody tr th {\n",
       "        vertical-align: top;\n",
       "    }\n",
       "\n",
       "    .dataframe thead th {\n",
       "        text-align: right;\n",
       "    }\n",
       "</style>\n",
       "<table border=\"1\" class=\"dataframe\">\n",
       "  <thead>\n",
       "    <tr style=\"text-align: right;\">\n",
       "      <th></th>\n",
       "      <th>application_number</th>\n",
       "      <th>target</th>\n",
       "      <th>name_contract_type_Cash</th>\n",
       "      <th>name_contract_type_Credit Card</th>\n",
       "      <th>name_contract_type_nan</th>\n",
       "      <th>childrens</th>\n",
       "      <th>total_salary</th>\n",
       "      <th>amount_credit</th>\n",
       "      <th>amount_annuity</th>\n",
       "      <th>region_population</th>\n",
       "      <th>...</th>\n",
       "      <th>name_product_type_XNA_mean</th>\n",
       "      <th>name_product_type_walk-in_mean</th>\n",
       "      <th>name_product_type_x-sell_mean</th>\n",
       "      <th>name_product_type_nan_mean</th>\n",
       "      <th>name_yield_group_XNA_mean</th>\n",
       "      <th>name_yield_group_high_mean</th>\n",
       "      <th>name_yield_group_low_action_mean</th>\n",
       "      <th>name_yield_group_low_normal_mean</th>\n",
       "      <th>name_yield_group_middle_mean</th>\n",
       "      <th>name_yield_group_nan_mean</th>\n",
       "    </tr>\n",
       "  </thead>\n",
       "  <tbody>\n",
       "    <tr>\n",
       "      <th>0</th>\n",
       "      <td>123687442</td>\n",
       "      <td>0.0</td>\n",
       "      <td>1</td>\n",
       "      <td>0</td>\n",
       "      <td>0</td>\n",
       "      <td>1.0</td>\n",
       "      <td>157500.0</td>\n",
       "      <td>855000.0</td>\n",
       "      <td>25128.0</td>\n",
       "      <td>0.019101</td>\n",
       "      <td>...</td>\n",
       "      <td>1.0</td>\n",
       "      <td>0.0</td>\n",
       "      <td>0.0</td>\n",
       "      <td>0.0</td>\n",
       "      <td>0.0</td>\n",
       "      <td>0.333333</td>\n",
       "      <td>0.333333</td>\n",
       "      <td>0.000000</td>\n",
       "      <td>0.333333</td>\n",
       "      <td>0.0</td>\n",
       "    </tr>\n",
       "    <tr>\n",
       "      <th>1</th>\n",
       "      <td>123597908</td>\n",
       "      <td>1.0</td>\n",
       "      <td>1</td>\n",
       "      <td>0</td>\n",
       "      <td>0</td>\n",
       "      <td>NaN</td>\n",
       "      <td>NaN</td>\n",
       "      <td>NaN</td>\n",
       "      <td>NaN</td>\n",
       "      <td>NaN</td>\n",
       "      <td>...</td>\n",
       "      <td>0.5</td>\n",
       "      <td>0.0</td>\n",
       "      <td>0.5</td>\n",
       "      <td>0.0</td>\n",
       "      <td>0.0</td>\n",
       "      <td>0.750000</td>\n",
       "      <td>0.250000</td>\n",
       "      <td>0.000000</td>\n",
       "      <td>0.000000</td>\n",
       "      <td>0.0</td>\n",
       "    </tr>\n",
       "    <tr>\n",
       "      <th>2</th>\n",
       "      <td>123526683</td>\n",
       "      <td>0.0</td>\n",
       "      <td>1</td>\n",
       "      <td>0</td>\n",
       "      <td>0</td>\n",
       "      <td>0.0</td>\n",
       "      <td>135000.0</td>\n",
       "      <td>1006920.0</td>\n",
       "      <td>42660.0</td>\n",
       "      <td>0.026392</td>\n",
       "      <td>...</td>\n",
       "      <td>0.5</td>\n",
       "      <td>0.0</td>\n",
       "      <td>0.5</td>\n",
       "      <td>0.0</td>\n",
       "      <td>0.5</td>\n",
       "      <td>0.166667</td>\n",
       "      <td>0.000000</td>\n",
       "      <td>0.166667</td>\n",
       "      <td>0.166667</td>\n",
       "      <td>0.0</td>\n",
       "    </tr>\n",
       "  </tbody>\n",
       "</table>\n",
       "<p>3 rows × 138 columns</p>\n",
       "</div>"
      ],
      "text/plain": [
       "   application_number  target  name_contract_type_Cash  \\\n",
       "0           123687442     0.0                        1   \n",
       "1           123597908     1.0                        1   \n",
       "2           123526683     0.0                        1   \n",
       "\n",
       "   name_contract_type_Credit Card  name_contract_type_nan  childrens  \\\n",
       "0                               0                       0        1.0   \n",
       "1                               0                       0        NaN   \n",
       "2                               0                       0        0.0   \n",
       "\n",
       "   total_salary  amount_credit  amount_annuity  region_population  ...  \\\n",
       "0      157500.0       855000.0         25128.0           0.019101  ...   \n",
       "1           NaN            NaN             NaN                NaN  ...   \n",
       "2      135000.0      1006920.0         42660.0           0.026392  ...   \n",
       "\n",
       "   name_product_type_XNA_mean  name_product_type_walk-in_mean  \\\n",
       "0                         1.0                             0.0   \n",
       "1                         0.5                             0.0   \n",
       "2                         0.5                             0.0   \n",
       "\n",
       "   name_product_type_x-sell_mean  name_product_type_nan_mean  \\\n",
       "0                            0.0                         0.0   \n",
       "1                            0.5                         0.0   \n",
       "2                            0.5                         0.0   \n",
       "\n",
       "   name_yield_group_XNA_mean  name_yield_group_high_mean  \\\n",
       "0                        0.0                    0.333333   \n",
       "1                        0.0                    0.750000   \n",
       "2                        0.5                    0.166667   \n",
       "\n",
       "   name_yield_group_low_action_mean  name_yield_group_low_normal_mean  \\\n",
       "0                          0.333333                          0.000000   \n",
       "1                          0.250000                          0.000000   \n",
       "2                          0.000000                          0.166667   \n",
       "\n",
       "   name_yield_group_middle_mean  name_yield_group_nan_mean  \n",
       "0                      0.333333                        0.0  \n",
       "1                      0.000000                        0.0  \n",
       "2                      0.166667                        0.0  \n",
       "\n",
       "[3 rows x 138 columns]"
      ]
     },
     "execution_count": 22,
     "metadata": {},
     "output_type": "execute_result"
    }
   ],
   "source": [
    "data.head(3)"
   ]
  },
  {
   "cell_type": "code",
   "execution_count": 23,
   "metadata": {},
   "outputs": [
    {
     "data": {
      "text/plain": [
       "(275234, 138)"
      ]
     },
     "execution_count": 23,
     "metadata": {},
     "output_type": "execute_result"
    }
   ],
   "source": [
    "data.shape"
   ]
  },
  {
   "cell_type": "markdown",
   "metadata": {},
   "source": [
    "### payments"
   ]
  },
  {
   "cell_type": "code",
   "execution_count": 24,
   "metadata": {
    "scrolled": true
   },
   "outputs": [
    {
     "name": "stdout",
     "output_type": "stream",
     "text": [
      "payments.csv: 1023932 rows, 8 cols\n"
     ]
    },
    {
     "data": {
      "text/html": [
       "<div>\n",
       "<style scoped>\n",
       "    .dataframe tbody tr th:only-of-type {\n",
       "        vertical-align: middle;\n",
       "    }\n",
       "\n",
       "    .dataframe tbody tr th {\n",
       "        vertical-align: top;\n",
       "    }\n",
       "\n",
       "    .dataframe thead th {\n",
       "        text-align: right;\n",
       "    }\n",
       "</style>\n",
       "<table border=\"1\" class=\"dataframe\">\n",
       "  <thead>\n",
       "    <tr style=\"text-align: right;\">\n",
       "      <th></th>\n",
       "      <th>prev_application_number</th>\n",
       "      <th>application_number</th>\n",
       "      <th>num_instalment_version</th>\n",
       "      <th>num_instalment_number</th>\n",
       "      <th>days_instalment</th>\n",
       "      <th>days_entry_payment</th>\n",
       "      <th>amt_instalment</th>\n",
       "      <th>amt_payment</th>\n",
       "    </tr>\n",
       "  </thead>\n",
       "  <tbody>\n",
       "    <tr>\n",
       "      <th>0</th>\n",
       "      <td>49011181</td>\n",
       "      <td>123664960</td>\n",
       "      <td>1.0</td>\n",
       "      <td>5</td>\n",
       "      <td>1002.0</td>\n",
       "      <td>1015.0</td>\n",
       "      <td>12156.615</td>\n",
       "      <td>12156.615</td>\n",
       "    </tr>\n",
       "    <tr>\n",
       "      <th>1</th>\n",
       "      <td>48683432</td>\n",
       "      <td>123497205</td>\n",
       "      <td>1.0</td>\n",
       "      <td>13</td>\n",
       "      <td>442.0</td>\n",
       "      <td>432.0</td>\n",
       "      <td>18392.535</td>\n",
       "      <td>10047.645</td>\n",
       "    </tr>\n",
       "    <tr>\n",
       "      <th>2</th>\n",
       "      <td>48652024</td>\n",
       "      <td>123749925</td>\n",
       "      <td>1.0</td>\n",
       "      <td>10</td>\n",
       "      <td>8.0</td>\n",
       "      <td>23.0</td>\n",
       "      <td>5499.945</td>\n",
       "      <td>5499.945</td>\n",
       "    </tr>\n",
       "  </tbody>\n",
       "</table>\n",
       "</div>"
      ],
      "text/plain": [
       "   prev_application_number  application_number  num_instalment_version  \\\n",
       "0                 49011181           123664960                     1.0   \n",
       "1                 48683432           123497205                     1.0   \n",
       "2                 48652024           123749925                     1.0   \n",
       "\n",
       "   num_instalment_number  days_instalment  days_entry_payment  amt_instalment  \\\n",
       "0                      5           1002.0              1015.0       12156.615   \n",
       "1                     13            442.0               432.0       18392.535   \n",
       "2                     10              8.0                23.0        5499.945   \n",
       "\n",
       "   amt_payment  \n",
       "0    12156.615  \n",
       "1    10047.645  \n",
       "2     5499.945  "
      ]
     },
     "execution_count": 24,
     "metadata": {},
     "output_type": "execute_result"
    }
   ],
   "source": [
    "payments = get_input('payments.csv')\n",
    "payments.head(3)"
   ]
  },
  {
   "cell_type": "code",
   "execution_count": 25,
   "metadata": {},
   "outputs": [],
   "source": [
    "numerical_features = payments.select_dtypes(exclude=[\"object\"]).columns.tolist()\n",
    "categorical_features = payments.select_dtypes(include=[\"object\"]).columns.tolist()"
   ]
  },
  {
   "cell_type": "code",
   "execution_count": 26,
   "metadata": {
    "scrolled": true
   },
   "outputs": [
    {
     "data": {
      "text/plain": [
       "[]"
      ]
     },
     "execution_count": 26,
     "metadata": {},
     "output_type": "execute_result"
    }
   ],
   "source": [
    "categorical_features"
   ]
  },
  {
   "cell_type": "code",
   "execution_count": 27,
   "metadata": {
    "scrolled": true
   },
   "outputs": [],
   "source": [
    "data = agg_features(payments, data, by='application_number')"
   ]
  },
  {
   "cell_type": "code",
   "execution_count": 28,
   "metadata": {
    "scrolled": true
   },
   "outputs": [
    {
     "data": {
      "text/html": [
       "<div>\n",
       "<style scoped>\n",
       "    .dataframe tbody tr th:only-of-type {\n",
       "        vertical-align: middle;\n",
       "    }\n",
       "\n",
       "    .dataframe tbody tr th {\n",
       "        vertical-align: top;\n",
       "    }\n",
       "\n",
       "    .dataframe thead th {\n",
       "        text-align: right;\n",
       "    }\n",
       "</style>\n",
       "<table border=\"1\" class=\"dataframe\">\n",
       "  <thead>\n",
       "    <tr style=\"text-align: right;\">\n",
       "      <th></th>\n",
       "      <th>application_number</th>\n",
       "      <th>target</th>\n",
       "      <th>name_contract_type_Cash</th>\n",
       "      <th>name_contract_type_Credit Card</th>\n",
       "      <th>name_contract_type_nan</th>\n",
       "      <th>childrens</th>\n",
       "      <th>total_salary</th>\n",
       "      <th>amount_credit</th>\n",
       "      <th>amount_annuity</th>\n",
       "      <th>region_population</th>\n",
       "      <th>...</th>\n",
       "      <th>name_yield_group_low_normal_mean</th>\n",
       "      <th>name_yield_group_middle_mean</th>\n",
       "      <th>name_yield_group_nan_mean</th>\n",
       "      <th>prev_application_number_mean_y</th>\n",
       "      <th>num_instalment_version_mean</th>\n",
       "      <th>num_instalment_number_mean</th>\n",
       "      <th>days_instalment_mean</th>\n",
       "      <th>days_entry_payment_mean</th>\n",
       "      <th>amt_instalment_mean</th>\n",
       "      <th>amt_payment_mean</th>\n",
       "    </tr>\n",
       "  </thead>\n",
       "  <tbody>\n",
       "    <tr>\n",
       "      <th>0</th>\n",
       "      <td>123687442</td>\n",
       "      <td>0.0</td>\n",
       "      <td>1</td>\n",
       "      <td>0</td>\n",
       "      <td>0</td>\n",
       "      <td>1.0</td>\n",
       "      <td>157500.0</td>\n",
       "      <td>855000.0</td>\n",
       "      <td>25128.0</td>\n",
       "      <td>0.019101</td>\n",
       "      <td>...</td>\n",
       "      <td>0.000000</td>\n",
       "      <td>0.333333</td>\n",
       "      <td>0.0</td>\n",
       "      <td>49754880.5</td>\n",
       "      <td>1.0</td>\n",
       "      <td>5.75</td>\n",
       "      <td>2653.00</td>\n",
       "      <td>2659.0</td>\n",
       "      <td>6275.9250</td>\n",
       "      <td>3960.37125</td>\n",
       "    </tr>\n",
       "    <tr>\n",
       "      <th>1</th>\n",
       "      <td>123597908</td>\n",
       "      <td>1.0</td>\n",
       "      <td>1</td>\n",
       "      <td>0</td>\n",
       "      <td>0</td>\n",
       "      <td>NaN</td>\n",
       "      <td>NaN</td>\n",
       "      <td>NaN</td>\n",
       "      <td>NaN</td>\n",
       "      <td>NaN</td>\n",
       "      <td>...</td>\n",
       "      <td>0.000000</td>\n",
       "      <td>0.000000</td>\n",
       "      <td>0.0</td>\n",
       "      <td>49672074.0</td>\n",
       "      <td>1.0</td>\n",
       "      <td>9.00</td>\n",
       "      <td>450.00</td>\n",
       "      <td>457.0</td>\n",
       "      <td>11349.9000</td>\n",
       "      <td>11349.90000</td>\n",
       "    </tr>\n",
       "    <tr>\n",
       "      <th>2</th>\n",
       "      <td>123526683</td>\n",
       "      <td>0.0</td>\n",
       "      <td>1</td>\n",
       "      <td>0</td>\n",
       "      <td>0</td>\n",
       "      <td>0.0</td>\n",
       "      <td>135000.0</td>\n",
       "      <td>1006920.0</td>\n",
       "      <td>42660.0</td>\n",
       "      <td>0.026392</td>\n",
       "      <td>...</td>\n",
       "      <td>0.166667</td>\n",
       "      <td>0.166667</td>\n",
       "      <td>0.0</td>\n",
       "      <td>49376832.5</td>\n",
       "      <td>0.5</td>\n",
       "      <td>10.00</td>\n",
       "      <td>1917.25</td>\n",
       "      <td>1917.5</td>\n",
       "      <td>20169.4725</td>\n",
       "      <td>20169.47250</td>\n",
       "    </tr>\n",
       "  </tbody>\n",
       "</table>\n",
       "<p>3 rows × 145 columns</p>\n",
       "</div>"
      ],
      "text/plain": [
       "   application_number  target  name_contract_type_Cash  \\\n",
       "0           123687442     0.0                        1   \n",
       "1           123597908     1.0                        1   \n",
       "2           123526683     0.0                        1   \n",
       "\n",
       "   name_contract_type_Credit Card  name_contract_type_nan  childrens  \\\n",
       "0                               0                       0        1.0   \n",
       "1                               0                       0        NaN   \n",
       "2                               0                       0        0.0   \n",
       "\n",
       "   total_salary  amount_credit  amount_annuity  region_population  ...  \\\n",
       "0      157500.0       855000.0         25128.0           0.019101  ...   \n",
       "1           NaN            NaN             NaN                NaN  ...   \n",
       "2      135000.0      1006920.0         42660.0           0.026392  ...   \n",
       "\n",
       "   name_yield_group_low_normal_mean  name_yield_group_middle_mean  \\\n",
       "0                          0.000000                      0.333333   \n",
       "1                          0.000000                      0.000000   \n",
       "2                          0.166667                      0.166667   \n",
       "\n",
       "   name_yield_group_nan_mean  prev_application_number_mean_y  \\\n",
       "0                        0.0                      49754880.5   \n",
       "1                        0.0                      49672074.0   \n",
       "2                        0.0                      49376832.5   \n",
       "\n",
       "   num_instalment_version_mean  num_instalment_number_mean  \\\n",
       "0                          1.0                        5.75   \n",
       "1                          1.0                        9.00   \n",
       "2                          0.5                       10.00   \n",
       "\n",
       "   days_instalment_mean  days_entry_payment_mean  amt_instalment_mean  \\\n",
       "0               2653.00                   2659.0            6275.9250   \n",
       "1                450.00                    457.0           11349.9000   \n",
       "2               1917.25                   1917.5           20169.4725   \n",
       "\n",
       "   amt_payment_mean  \n",
       "0        3960.37125  \n",
       "1       11349.90000  \n",
       "2       20169.47250  \n",
       "\n",
       "[3 rows x 145 columns]"
      ]
     },
     "execution_count": 28,
     "metadata": {},
     "output_type": "execute_result"
    }
   ],
   "source": [
    "data.head(3)"
   ]
  },
  {
   "cell_type": "code",
   "execution_count": 29,
   "metadata": {},
   "outputs": [
    {
     "data": {
      "text/plain": [
       "(275234, 145)"
      ]
     },
     "execution_count": 29,
     "metadata": {},
     "output_type": "execute_result"
    }
   ],
   "source": [
    "data.shape"
   ]
  },
  {
   "cell_type": "markdown",
   "metadata": {},
   "source": [
    "### bki"
   ]
  },
  {
   "cell_type": "code",
   "execution_count": 30,
   "metadata": {
    "scrolled": true
   },
   "outputs": [
    {
     "name": "stdout",
     "output_type": "stream",
     "text": [
      "bki.csv: 945234 rows, 17 cols\n"
     ]
    },
    {
     "data": {
      "text/html": [
       "<div>\n",
       "<style scoped>\n",
       "    .dataframe tbody tr th:only-of-type {\n",
       "        vertical-align: middle;\n",
       "    }\n",
       "\n",
       "    .dataframe tbody tr th {\n",
       "        vertical-align: top;\n",
       "    }\n",
       "\n",
       "    .dataframe thead th {\n",
       "        text-align: right;\n",
       "    }\n",
       "</style>\n",
       "<table border=\"1\" class=\"dataframe\">\n",
       "  <thead>\n",
       "    <tr style=\"text-align: right;\">\n",
       "      <th></th>\n",
       "      <th>application_number</th>\n",
       "      <th>bureau_id</th>\n",
       "      <th>credit_active</th>\n",
       "      <th>credit_currency</th>\n",
       "      <th>days_credit</th>\n",
       "      <th>credit_day_overdue</th>\n",
       "      <th>days_credit_enddate</th>\n",
       "      <th>days_enddate_fact</th>\n",
       "      <th>amt_credit_max_overdue</th>\n",
       "      <th>cnt_credit_prolong</th>\n",
       "      <th>amt_credit_sum</th>\n",
       "      <th>amt_credit_sum_debt</th>\n",
       "      <th>amt_credit_sum_limit</th>\n",
       "      <th>amt_credit_sum_overdue</th>\n",
       "      <th>credit_type</th>\n",
       "      <th>days_credit_update</th>\n",
       "      <th>amt_annuity</th>\n",
       "    </tr>\n",
       "  </thead>\n",
       "  <tbody>\n",
       "    <tr>\n",
       "      <th>0</th>\n",
       "      <td>123538884</td>\n",
       "      <td>5223613</td>\n",
       "      <td>Active</td>\n",
       "      <td>currency 1</td>\n",
       "      <td>718.0</td>\n",
       "      <td>0</td>\n",
       "      <td>377.0</td>\n",
       "      <td>NaN</td>\n",
       "      <td>19386.81</td>\n",
       "      <td>0</td>\n",
       "      <td>675000.00</td>\n",
       "      <td>320265.495</td>\n",
       "      <td>0.0</td>\n",
       "      <td>0.0</td>\n",
       "      <td>Consumer credit</td>\n",
       "      <td>39.0</td>\n",
       "      <td>NaN</td>\n",
       "    </tr>\n",
       "    <tr>\n",
       "      <th>1</th>\n",
       "      <td>123436670</td>\n",
       "      <td>6207544</td>\n",
       "      <td>Closed</td>\n",
       "      <td>currency 1</td>\n",
       "      <td>696.0</td>\n",
       "      <td>0</td>\n",
       "      <td>511.0</td>\n",
       "      <td>511.0</td>\n",
       "      <td>0.00</td>\n",
       "      <td>0</td>\n",
       "      <td>93111.66</td>\n",
       "      <td>0.000</td>\n",
       "      <td>0.0</td>\n",
       "      <td>0.0</td>\n",
       "      <td>Consumer credit</td>\n",
       "      <td>505.0</td>\n",
       "      <td>NaN</td>\n",
       "    </tr>\n",
       "    <tr>\n",
       "      <th>2</th>\n",
       "      <td>123589020</td>\n",
       "      <td>6326395</td>\n",
       "      <td>Closed</td>\n",
       "      <td>currency 1</td>\n",
       "      <td>165.0</td>\n",
       "      <td>0</td>\n",
       "      <td>149.0</td>\n",
       "      <td>160.0</td>\n",
       "      <td>NaN</td>\n",
       "      <td>0</td>\n",
       "      <td>36000.00</td>\n",
       "      <td>0.000</td>\n",
       "      <td>0.0</td>\n",
       "      <td>0.0</td>\n",
       "      <td>Consumer credit</td>\n",
       "      <td>150.0</td>\n",
       "      <td>0.0</td>\n",
       "    </tr>\n",
       "  </tbody>\n",
       "</table>\n",
       "</div>"
      ],
      "text/plain": [
       "   application_number  bureau_id credit_active credit_currency  days_credit  \\\n",
       "0           123538884    5223613        Active      currency 1        718.0   \n",
       "1           123436670    6207544        Closed      currency 1        696.0   \n",
       "2           123589020    6326395        Closed      currency 1        165.0   \n",
       "\n",
       "   credit_day_overdue  days_credit_enddate  days_enddate_fact  \\\n",
       "0                   0                377.0                NaN   \n",
       "1                   0                511.0              511.0   \n",
       "2                   0                149.0              160.0   \n",
       "\n",
       "   amt_credit_max_overdue  cnt_credit_prolong  amt_credit_sum  \\\n",
       "0                19386.81                   0       675000.00   \n",
       "1                    0.00                   0        93111.66   \n",
       "2                     NaN                   0        36000.00   \n",
       "\n",
       "   amt_credit_sum_debt  amt_credit_sum_limit  amt_credit_sum_overdue  \\\n",
       "0           320265.495                   0.0                     0.0   \n",
       "1                0.000                   0.0                     0.0   \n",
       "2                0.000                   0.0                     0.0   \n",
       "\n",
       "       credit_type  days_credit_update  amt_annuity  \n",
       "0  Consumer credit                39.0          NaN  \n",
       "1  Consumer credit               505.0          NaN  \n",
       "2  Consumer credit               150.0          0.0  "
      ]
     },
     "execution_count": 30,
     "metadata": {},
     "output_type": "execute_result"
    }
   ],
   "source": [
    "bki = get_input('bki.csv')\n",
    "bki.head(3)"
   ]
  },
  {
   "cell_type": "code",
   "execution_count": 31,
   "metadata": {},
   "outputs": [],
   "source": [
    "numerical_features = bki.select_dtypes(exclude=[\"object\"]).columns.tolist()\n",
    "categorical_features = bki.select_dtypes(include=[\"object\"]).columns.tolist()"
   ]
  },
  {
   "cell_type": "code",
   "execution_count": 32,
   "metadata": {
    "scrolled": true
   },
   "outputs": [
    {
     "data": {
      "text/plain": [
       "['credit_active', 'credit_currency', 'credit_type']"
      ]
     },
     "execution_count": 32,
     "metadata": {},
     "output_type": "execute_result"
    }
   ],
   "source": [
    "categorical_features"
   ]
  },
  {
   "cell_type": "code",
   "execution_count": 33,
   "metadata": {},
   "outputs": [
    {
     "name": "stdout",
     "output_type": "stream",
     "text": [
      "\n",
      "Closed      594315\n",
      "Active      347323\n",
      "Sold          3583\n",
      "Bad debt        13\n",
      "Name: credit_active, dtype: int64\n",
      "\n",
      "currency 1    944492\n",
      "currency 2       647\n",
      "currency 3        91\n",
      "currency 4         4\n",
      "Name: credit_currency, dtype: int64\n",
      "\n",
      "Consumer credit                                 688431\n",
      "Credit card                                     222238\n",
      "Car loan                                         15348\n",
      "Mortgage                                         10161\n",
      "Microloan                                         6788\n",
      "Loan for business development                     1055\n",
      "Another type of loan                               586\n",
      "Unknown type of loan                               300\n",
      "Loan for working capital replenishment             261\n",
      "Cash loan (non-earmarked)                           31\n",
      "Real estate loan                                    16\n",
      "Loan for the purchase of equipment                  14\n",
      "Loan for purchase of shares (margin lending)         4\n",
      "Mobile operator loan                                 1\n",
      "Name: credit_type, dtype: int64\n"
     ]
    }
   ],
   "source": [
    "for feature in bki[categorical_features].columns.tolist():\n",
    "    print()\n",
    "    print(bki[feature].value_counts())"
   ]
  },
  {
   "cell_type": "code",
   "execution_count": 34,
   "metadata": {},
   "outputs": [],
   "source": [
    "bki_ohe = one_hot_encoding(bki, \n",
    "                           cat_features=categorical_features, \n",
    "                           drop_original=True)"
   ]
  },
  {
   "cell_type": "code",
   "execution_count": null,
   "metadata": {
    "scrolled": true
   },
   "outputs": [],
   "source": [
    "data = agg_features(bki_ohe, data, by='application_number')"
   ]
  },
  {
   "cell_type": "code",
   "execution_count": null,
   "metadata": {},
   "outputs": [],
   "source": [
    "for feature in data.columns:\n",
    "    data = data.rename(columns={\n",
    "        feature: get_lower(feature)\n",
    "    })"
   ]
  },
  {
   "cell_type": "code",
   "execution_count": null,
   "metadata": {},
   "outputs": [],
   "source": [
    "import re\n",
    "data = data.rename(columns = lambda x:re.sub('[^A-Za-z0-9_]+', '', x))"
   ]
  },
  {
   "cell_type": "code",
   "execution_count": null,
   "metadata": {
    "scrolled": false
   },
   "outputs": [],
   "source": [
    "data.head(3)"
   ]
  },
  {
   "cell_type": "code",
   "execution_count": null,
   "metadata": {},
   "outputs": [],
   "source": [
    "data.shape"
   ]
  },
  {
   "cell_type": "code",
   "execution_count": null,
   "metadata": {},
   "outputs": [],
   "source": [
    "data.to_pickle('data.pkl')"
   ]
  },
  {
   "cell_type": "code",
   "execution_count": null,
   "metadata": {},
   "outputs": [],
   "source": []
  }
 ],
 "metadata": {
  "kernelspec": {
   "display_name": "Python 3",
   "language": "python",
   "name": "python3"
  },
  "language_info": {
   "codemirror_mode": {
    "name": "ipython",
    "version": 3
   },
   "file_extension": ".py",
   "mimetype": "text/x-python",
   "name": "python",
   "nbconvert_exporter": "python",
   "pygments_lexer": "ipython3",
   "version": "3.8.5"
  }
 },
 "nbformat": 4,
 "nbformat_minor": 4
}
