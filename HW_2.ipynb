{
 "cells": [
  {
   "cell_type": "markdown",
   "metadata": {
    "collapsed": true,
    "pycharm": {
     "name": "#%% md\n"
    }
   },
   "source": [
    "## Домашнее задание 2:\n",
    "В домашнем задании, будем обучать разные алгоритмы машинного обучения. Для этого, нужно предварительно зафиксировать схему валидации решения (можете выбрать любую, которую знаете). Выбранную схему валидации нужно использовать во всех задачах этого домашнего задания. Метрика качества - ROC AUC, целевая переменная - isFraud.\n",
    "\n",
    "Ссылка на данные - https://drive.google.com/file/d/1gMEVl47pIoV1-AseB9doQ6DZNJrY3NkW/view?usp=sharing"
   ]
  },
  {
   "cell_type": "code",
   "execution_count": 1,
   "metadata": {
    "pycharm": {
     "name": "#%%\n"
    }
   },
   "outputs": [],
   "source": [
    "# !pip install scikit-plot"
   ]
  },
  {
   "cell_type": "code",
   "execution_count": 2,
   "metadata": {
    "pycharm": {
     "name": "#%%\n"
    }
   },
   "outputs": [],
   "source": [
    "from typing import List, Optional\n",
    "from tqdm import tqdm\n",
    "\n",
    "import random\n",
    "import math\n",
    "import numpy as np\n",
    "import pandas as pd\n",
    "import matplotlib as mpl\n",
    "import scikitplot as skplt\n",
    "import matplotlib.pyplot as plt\n",
    "\n",
    "import seaborn as sns\n",
    "import scipy.stats as st\n",
    "from scipy.stats import probplot, ks_2samp\n",
    "\n",
    "from sklearn.metrics import roc_auc_score\n",
    "from sklearn.ensemble import RandomForestClassifier\n",
    "from sklearn.model_selection import KFold, cross_val_score\n",
    "from sklearn.base import BaseEstimator, TransformerMixin\n",
    "from sklearn.utils.validation import check_is_fitted\n",
    "\n",
    "from sklearn.model_selection import train_test_split\n",
    "from sklearn.metrics import roc_auc_score\n",
    "\n",
    "import missingno as msno\n",
    "import xgboost as xgb\n",
    "import lightgbm as lgb\n",
    "import catboost as cb\n",
    "\n",
    "random.seed(42)\n",
    "\n",
    "import warnings\n",
    "warnings.simplefilter(\"ignore\")\n",
    "\n",
    "%matplotlib inline"
   ]
  },
  {
   "cell_type": "code",
   "execution_count": 3,
   "metadata": {
    "pycharm": {
     "name": "#%%\n"
    }
   },
   "outputs": [],
   "source": [
    "TRAIN = './assignment_2_train.csv'\n",
    "TEST = './assignment_2_test.csv'"
   ]
  },
  {
   "cell_type": "code",
   "execution_count": 4,
   "metadata": {
    "pycharm": {
     "name": "#%%\n"
    }
   },
   "outputs": [
    {
     "data": {
      "text/html": [
       "<div>\n",
       "<style scoped>\n",
       "    .dataframe tbody tr th:only-of-type {\n",
       "        vertical-align: middle;\n",
       "    }\n",
       "\n",
       "    .dataframe tbody tr th {\n",
       "        vertical-align: top;\n",
       "    }\n",
       "\n",
       "    .dataframe thead th {\n",
       "        text-align: right;\n",
       "    }\n",
       "</style>\n",
       "<table border=\"1\" class=\"dataframe\">\n",
       "  <thead>\n",
       "    <tr style=\"text-align: right;\">\n",
       "      <th></th>\n",
       "      <th>TransactionID</th>\n",
       "      <th>isFraud</th>\n",
       "      <th>TransactionDT</th>\n",
       "      <th>TransactionAmt</th>\n",
       "      <th>ProductCD</th>\n",
       "      <th>card1</th>\n",
       "      <th>card2</th>\n",
       "      <th>card3</th>\n",
       "      <th>card4</th>\n",
       "      <th>card5</th>\n",
       "      <th>...</th>\n",
       "      <th>V330</th>\n",
       "      <th>V331</th>\n",
       "      <th>V332</th>\n",
       "      <th>V333</th>\n",
       "      <th>V334</th>\n",
       "      <th>V335</th>\n",
       "      <th>V336</th>\n",
       "      <th>V337</th>\n",
       "      <th>V338</th>\n",
       "      <th>V339</th>\n",
       "    </tr>\n",
       "  </thead>\n",
       "  <tbody>\n",
       "    <tr>\n",
       "      <th>0</th>\n",
       "      <td>2987000</td>\n",
       "      <td>0</td>\n",
       "      <td>86400</td>\n",
       "      <td>68.5</td>\n",
       "      <td>W</td>\n",
       "      <td>13926</td>\n",
       "      <td>NaN</td>\n",
       "      <td>150.0</td>\n",
       "      <td>discover</td>\n",
       "      <td>142.0</td>\n",
       "      <td>...</td>\n",
       "      <td>NaN</td>\n",
       "      <td>NaN</td>\n",
       "      <td>NaN</td>\n",
       "      <td>NaN</td>\n",
       "      <td>NaN</td>\n",
       "      <td>NaN</td>\n",
       "      <td>NaN</td>\n",
       "      <td>NaN</td>\n",
       "      <td>NaN</td>\n",
       "      <td>NaN</td>\n",
       "    </tr>\n",
       "    <tr>\n",
       "      <th>1</th>\n",
       "      <td>2987001</td>\n",
       "      <td>0</td>\n",
       "      <td>86401</td>\n",
       "      <td>29.0</td>\n",
       "      <td>W</td>\n",
       "      <td>2755</td>\n",
       "      <td>404.0</td>\n",
       "      <td>150.0</td>\n",
       "      <td>mastercard</td>\n",
       "      <td>102.0</td>\n",
       "      <td>...</td>\n",
       "      <td>NaN</td>\n",
       "      <td>NaN</td>\n",
       "      <td>NaN</td>\n",
       "      <td>NaN</td>\n",
       "      <td>NaN</td>\n",
       "      <td>NaN</td>\n",
       "      <td>NaN</td>\n",
       "      <td>NaN</td>\n",
       "      <td>NaN</td>\n",
       "      <td>NaN</td>\n",
       "    </tr>\n",
       "    <tr>\n",
       "      <th>2</th>\n",
       "      <td>2987002</td>\n",
       "      <td>0</td>\n",
       "      <td>86469</td>\n",
       "      <td>59.0</td>\n",
       "      <td>W</td>\n",
       "      <td>4663</td>\n",
       "      <td>490.0</td>\n",
       "      <td>150.0</td>\n",
       "      <td>visa</td>\n",
       "      <td>166.0</td>\n",
       "      <td>...</td>\n",
       "      <td>NaN</td>\n",
       "      <td>NaN</td>\n",
       "      <td>NaN</td>\n",
       "      <td>NaN</td>\n",
       "      <td>NaN</td>\n",
       "      <td>NaN</td>\n",
       "      <td>NaN</td>\n",
       "      <td>NaN</td>\n",
       "      <td>NaN</td>\n",
       "      <td>NaN</td>\n",
       "    </tr>\n",
       "    <tr>\n",
       "      <th>3</th>\n",
       "      <td>2987003</td>\n",
       "      <td>0</td>\n",
       "      <td>86499</td>\n",
       "      <td>50.0</td>\n",
       "      <td>W</td>\n",
       "      <td>18132</td>\n",
       "      <td>567.0</td>\n",
       "      <td>150.0</td>\n",
       "      <td>mastercard</td>\n",
       "      <td>117.0</td>\n",
       "      <td>...</td>\n",
       "      <td>NaN</td>\n",
       "      <td>NaN</td>\n",
       "      <td>NaN</td>\n",
       "      <td>NaN</td>\n",
       "      <td>NaN</td>\n",
       "      <td>NaN</td>\n",
       "      <td>NaN</td>\n",
       "      <td>NaN</td>\n",
       "      <td>NaN</td>\n",
       "      <td>NaN</td>\n",
       "    </tr>\n",
       "    <tr>\n",
       "      <th>4</th>\n",
       "      <td>2987004</td>\n",
       "      <td>0</td>\n",
       "      <td>86506</td>\n",
       "      <td>50.0</td>\n",
       "      <td>H</td>\n",
       "      <td>4497</td>\n",
       "      <td>514.0</td>\n",
       "      <td>150.0</td>\n",
       "      <td>mastercard</td>\n",
       "      <td>102.0</td>\n",
       "      <td>...</td>\n",
       "      <td>0.0</td>\n",
       "      <td>0.0</td>\n",
       "      <td>0.0</td>\n",
       "      <td>0.0</td>\n",
       "      <td>0.0</td>\n",
       "      <td>0.0</td>\n",
       "      <td>0.0</td>\n",
       "      <td>0.0</td>\n",
       "      <td>0.0</td>\n",
       "      <td>0.0</td>\n",
       "    </tr>\n",
       "  </tbody>\n",
       "</table>\n",
       "<p>5 rows × 394 columns</p>\n",
       "</div>"
      ],
      "text/plain": [
       "   TransactionID  isFraud  TransactionDT  TransactionAmt ProductCD  card1  \\\n",
       "0        2987000        0          86400            68.5         W  13926   \n",
       "1        2987001        0          86401            29.0         W   2755   \n",
       "2        2987002        0          86469            59.0         W   4663   \n",
       "3        2987003        0          86499            50.0         W  18132   \n",
       "4        2987004        0          86506            50.0         H   4497   \n",
       "\n",
       "   card2  card3       card4  card5  ... V330  V331  V332  V333  V334 V335  \\\n",
       "0    NaN  150.0    discover  142.0  ...  NaN   NaN   NaN   NaN   NaN  NaN   \n",
       "1  404.0  150.0  mastercard  102.0  ...  NaN   NaN   NaN   NaN   NaN  NaN   \n",
       "2  490.0  150.0        visa  166.0  ...  NaN   NaN   NaN   NaN   NaN  NaN   \n",
       "3  567.0  150.0  mastercard  117.0  ...  NaN   NaN   NaN   NaN   NaN  NaN   \n",
       "4  514.0  150.0  mastercard  102.0  ...  0.0   0.0   0.0   0.0   0.0  0.0   \n",
       "\n",
       "  V336  V337  V338  V339  \n",
       "0  NaN   NaN   NaN   NaN  \n",
       "1  NaN   NaN   NaN   NaN  \n",
       "2  NaN   NaN   NaN   NaN  \n",
       "3  NaN   NaN   NaN   NaN  \n",
       "4  0.0   0.0   0.0   0.0  \n",
       "\n",
       "[5 rows x 394 columns]"
      ]
     },
     "execution_count": 4,
     "metadata": {},
     "output_type": "execute_result"
    }
   ],
   "source": [
    "train = pd.read_csv(TRAIN)\n",
    "test = pd.read_csv(TEST)\n",
    "train.head()"
   ]
  },
  {
   "cell_type": "code",
   "execution_count": 5,
   "metadata": {
    "pycharm": {
     "name": "#%%\n"
    }
   },
   "outputs": [],
   "source": [
    "# train.replace({pd.np.nan: None}, inplace=True)\n",
    "# test.replace({pd.np.nan: None}, inplace=True)"
   ]
  },
  {
   "cell_type": "code",
   "execution_count": 6,
   "metadata": {
    "pycharm": {
     "name": "#%%\n"
    }
   },
   "outputs": [],
   "source": [
    "target_name = 'isFraud'"
   ]
  },
  {
   "cell_type": "code",
   "execution_count": 7,
   "metadata": {
    "pycharm": {
     "name": "#%%\n"
    }
   },
   "outputs": [
    {
     "data": {
      "text/plain": [
       "((180000, 394), (100001, 394))"
      ]
     },
     "execution_count": 7,
     "metadata": {},
     "output_type": "execute_result"
    }
   ],
   "source": [
    "train.shape, test.shape"
   ]
  },
  {
   "cell_type": "code",
   "execution_count": 8,
   "metadata": {
    "pycharm": {
     "name": "#%%\n"
    }
   },
   "outputs": [
    {
     "data": {
      "text/html": [
       "<div>\n",
       "<style scoped>\n",
       "    .dataframe tbody tr th:only-of-type {\n",
       "        vertical-align: middle;\n",
       "    }\n",
       "\n",
       "    .dataframe tbody tr th {\n",
       "        vertical-align: top;\n",
       "    }\n",
       "\n",
       "    .dataframe thead th {\n",
       "        text-align: right;\n",
       "    }\n",
       "</style>\n",
       "<table border=\"1\" class=\"dataframe\">\n",
       "  <thead>\n",
       "    <tr style=\"text-align: right;\">\n",
       "      <th></th>\n",
       "      <th>count</th>\n",
       "      <th>mean</th>\n",
       "      <th>std</th>\n",
       "      <th>min</th>\n",
       "      <th>25%</th>\n",
       "      <th>50%</th>\n",
       "      <th>75%</th>\n",
       "      <th>max</th>\n",
       "    </tr>\n",
       "  </thead>\n",
       "  <tbody>\n",
       "    <tr>\n",
       "      <th>TransactionID</th>\n",
       "      <td>180000.0</td>\n",
       "      <td>3.077000e+06</td>\n",
       "      <td>5.196167e+04</td>\n",
       "      <td>2987000.000</td>\n",
       "      <td>3031999.75</td>\n",
       "      <td>3076999.5</td>\n",
       "      <td>3121999.25</td>\n",
       "      <td>3166999.00</td>\n",
       "    </tr>\n",
       "    <tr>\n",
       "      <th>isFraud</th>\n",
       "      <td>180000.0</td>\n",
       "      <td>2.856111e-02</td>\n",
       "      <td>1.665699e-01</td>\n",
       "      <td>0.000</td>\n",
       "      <td>0.00</td>\n",
       "      <td>0.0</td>\n",
       "      <td>0.00</td>\n",
       "      <td>1.00</td>\n",
       "    </tr>\n",
       "    <tr>\n",
       "      <th>TransactionDT</th>\n",
       "      <td>180000.0</td>\n",
       "      <td>1.909818e+06</td>\n",
       "      <td>1.039029e+06</td>\n",
       "      <td>86400.000</td>\n",
       "      <td>1091680.75</td>\n",
       "      <td>1884075.0</td>\n",
       "      <td>2693195.50</td>\n",
       "      <td>3958317.00</td>\n",
       "    </tr>\n",
       "    <tr>\n",
       "      <th>TransactionAmt</th>\n",
       "      <td>180000.0</td>\n",
       "      <td>1.295142e+02</td>\n",
       "      <td>2.065150e+02</td>\n",
       "      <td>0.292</td>\n",
       "      <td>44.00</td>\n",
       "      <td>75.0</td>\n",
       "      <td>125.00</td>\n",
       "      <td>5278.95</td>\n",
       "    </tr>\n",
       "    <tr>\n",
       "      <th>card1</th>\n",
       "      <td>180000.0</td>\n",
       "      <td>9.860226e+03</td>\n",
       "      <td>4.910778e+03</td>\n",
       "      <td>1001.000</td>\n",
       "      <td>6019.00</td>\n",
       "      <td>9633.0</td>\n",
       "      <td>14182.00</td>\n",
       "      <td>18396.00</td>\n",
       "    </tr>\n",
       "    <tr>\n",
       "      <th>...</th>\n",
       "      <td>...</td>\n",
       "      <td>...</td>\n",
       "      <td>...</td>\n",
       "      <td>...</td>\n",
       "      <td>...</td>\n",
       "      <td>...</td>\n",
       "      <td>...</td>\n",
       "      <td>...</td>\n",
       "    </tr>\n",
       "    <tr>\n",
       "      <th>V335</th>\n",
       "      <td>47996.0</td>\n",
       "      <td>1.840468e+01</td>\n",
       "      <td>1.208969e+02</td>\n",
       "      <td>0.000</td>\n",
       "      <td>0.00</td>\n",
       "      <td>0.0</td>\n",
       "      <td>0.00</td>\n",
       "      <td>3350.00</td>\n",
       "    </tr>\n",
       "    <tr>\n",
       "      <th>V336</th>\n",
       "      <td>47996.0</td>\n",
       "      <td>1.243752e+01</td>\n",
       "      <td>9.930589e+01</td>\n",
       "      <td>0.000</td>\n",
       "      <td>0.00</td>\n",
       "      <td>0.0</td>\n",
       "      <td>0.00</td>\n",
       "      <td>3250.00</td>\n",
       "    </tr>\n",
       "    <tr>\n",
       "      <th>V337</th>\n",
       "      <td>47996.0</td>\n",
       "      <td>2.679859e+01</td>\n",
       "      <td>2.526957e+02</td>\n",
       "      <td>0.000</td>\n",
       "      <td>0.00</td>\n",
       "      <td>0.0</td>\n",
       "      <td>0.00</td>\n",
       "      <td>8250.00</td>\n",
       "    </tr>\n",
       "    <tr>\n",
       "      <th>V338</th>\n",
       "      <td>47996.0</td>\n",
       "      <td>3.200535e+01</td>\n",
       "      <td>2.848706e+02</td>\n",
       "      <td>0.000</td>\n",
       "      <td>0.00</td>\n",
       "      <td>0.0</td>\n",
       "      <td>0.00</td>\n",
       "      <td>8250.00</td>\n",
       "    </tr>\n",
       "    <tr>\n",
       "      <th>V339</th>\n",
       "      <td>47996.0</td>\n",
       "      <td>2.849242e+01</td>\n",
       "      <td>2.583729e+02</td>\n",
       "      <td>0.000</td>\n",
       "      <td>0.00</td>\n",
       "      <td>0.0</td>\n",
       "      <td>0.00</td>\n",
       "      <td>8250.00</td>\n",
       "    </tr>\n",
       "  </tbody>\n",
       "</table>\n",
       "<p>380 rows × 8 columns</p>\n",
       "</div>"
      ],
      "text/plain": [
       "                   count          mean           std          min         25%  \\\n",
       "TransactionID   180000.0  3.077000e+06  5.196167e+04  2987000.000  3031999.75   \n",
       "isFraud         180000.0  2.856111e-02  1.665699e-01        0.000        0.00   \n",
       "TransactionDT   180000.0  1.909818e+06  1.039029e+06    86400.000  1091680.75   \n",
       "TransactionAmt  180000.0  1.295142e+02  2.065150e+02        0.292       44.00   \n",
       "card1           180000.0  9.860226e+03  4.910778e+03     1001.000     6019.00   \n",
       "...                  ...           ...           ...          ...         ...   \n",
       "V335             47996.0  1.840468e+01  1.208969e+02        0.000        0.00   \n",
       "V336             47996.0  1.243752e+01  9.930589e+01        0.000        0.00   \n",
       "V337             47996.0  2.679859e+01  2.526957e+02        0.000        0.00   \n",
       "V338             47996.0  3.200535e+01  2.848706e+02        0.000        0.00   \n",
       "V339             47996.0  2.849242e+01  2.583729e+02        0.000        0.00   \n",
       "\n",
       "                      50%         75%         max  \n",
       "TransactionID   3076999.5  3121999.25  3166999.00  \n",
       "isFraud               0.0        0.00        1.00  \n",
       "TransactionDT   1884075.0  2693195.50  3958317.00  \n",
       "TransactionAmt       75.0      125.00     5278.95  \n",
       "card1              9633.0    14182.00    18396.00  \n",
       "...                   ...         ...         ...  \n",
       "V335                  0.0        0.00     3350.00  \n",
       "V336                  0.0        0.00     3250.00  \n",
       "V337                  0.0        0.00     8250.00  \n",
       "V338                  0.0        0.00     8250.00  \n",
       "V339                  0.0        0.00     8250.00  \n",
       "\n",
       "[380 rows x 8 columns]"
      ]
     },
     "execution_count": 8,
     "metadata": {},
     "output_type": "execute_result"
    }
   ],
   "source": [
    "train.describe().T"
   ]
  },
  {
   "cell_type": "code",
   "execution_count": 9,
   "metadata": {
    "pycharm": {
     "name": "#%%\n"
    }
   },
   "outputs": [],
   "source": [
    "X_train = train.drop([target_name, 'TransactionID'], axis=1)\n",
    "y_train = train[target_name]\n",
    "X_test = test.drop([target_name, 'TransactionID'], axis=1)\n",
    "y_test = test[target_name]"
   ]
  },
  {
   "cell_type": "code",
   "execution_count": 10,
   "metadata": {
    "pycharm": {
     "name": "#%%\n"
    }
   },
   "outputs": [],
   "source": [
    "features = list(X_train.columns)"
   ]
  },
  {
   "cell_type": "code",
   "execution_count": 11,
   "metadata": {
    "pycharm": {
     "name": "#%%\n"
    }
   },
   "outputs": [],
   "source": [
    "# печать гистограмм распределения признаков на трейне и тесте\n",
    "def hist_features(df_train, df_test=None, cols=5, size=5, bins=None, color_1='blue', color_2='green'):\n",
    "    n = df_train.shape[1]\n",
    "    rows = math.ceil(n / cols)\n",
    "    fig, axes = plt.subplots(rows, cols, figsize=(cols*size, rows*size))\n",
    "    alpha = 1\n",
    "    for num, feature in enumerate(df_train.columns):\n",
    "        ax = axes[num//cols, num%cols] if rows > 1 else axes[num%cols]\n",
    "        if not df_test is None:\n",
    "            alpha = 0.3\n",
    "            data_test = df_test[feature].copy()\n",
    "            ax.hist(data_test, bins=bins, color=color_2, label='test')\n",
    "        data_train = df_train[feature].copy()\n",
    "        ax.hist(data_train, bins=bins, color=color_1, alpha=alpha, label='train')\n",
    "        ax.set_xlabel(feature, fontsize=14)\n",
    "        ax.legend()\n",
    "    plt.show()"
   ]
  },
  {
   "cell_type": "markdown",
   "metadata": {},
   "source": [
    "### Задание 1:\n",
    "отобрать только числовые признаки и обучить модель XGBoost с параметром booster = gbtree. Обучать алгоритм до тех пор, пока метрика качества не перестанет улучшаться на валидационной выборке в течение определенного числа итераций (выбрать значение самостоятельно)."
   ]
  },
  {
   "cell_type": "code",
   "execution_count": 12,
   "metadata": {
    "pycharm": {
     "name": "#%%\n"
    }
   },
   "outputs": [
    {
     "data": {
      "text/plain": [
       "211"
      ]
     },
     "execution_count": 12,
     "metadata": {},
     "output_type": "execute_result"
    }
   ],
   "source": [
    "numeric_features = []\n",
    "for feature in features:\n",
    "    if X_train[feature].unique().shape[0] > 20 and X_train[feature].dtypes != 'object':\n",
    "        numeric_features.append(feature)\n",
    "len(numeric_features)"
   ]
  },
  {
   "cell_type": "code",
   "execution_count": 13,
   "metadata": {
    "pycharm": {
     "name": "#%%\n"
    }
   },
   "outputs": [],
   "source": [
    "# hist_features(X_train[numeric_features])"
   ]
  },
  {
   "cell_type": "code",
   "execution_count": 14,
   "metadata": {
    "pycharm": {
     "name": "#%%\n"
    }
   },
   "outputs": [],
   "source": [
    "params = {\n",
    "    \"booster\": \"gbtree\",\n",
    "    \"objective\": \"binary:logistic\",\n",
    "    \"eval_metric\": \"auc\",\n",
    "    \"learning_rate\": 0.1,\n",
    "    # \"n_estimators\": 100,\n",
    "    \"reg_lambda\": 100,\n",
    "    \"max_depth\": 4,\n",
    "    \"gamma\": 10,\n",
    "    # \"nthread\": 6,\n",
    "    \"seed\": 27,\n",
    "    'predictor': 'gpu_predictor',\n",
    "    # 'gpu_id': 0,\n",
    "    'tree_method': 'gpu_hist'\n",
    "}"
   ]
  },
  {
   "cell_type": "code",
   "execution_count": 15,
   "metadata": {
    "pycharm": {
     "name": "#%%\n"
    }
   },
   "outputs": [],
   "source": [
    "d_train = xgb.DMatrix(\n",
    "    data=X_train[numeric_features], label=y_train\n",
    ")\n",
    "d_test = xgb.DMatrix(\n",
    "    data=X_test[numeric_features], label=y_test\n",
    ")"
   ]
  },
  {
   "cell_type": "code",
   "execution_count": 16,
   "metadata": {
    "pycharm": {
     "name": "#%%\n"
    }
   },
   "outputs": [
    {
     "name": "stdout",
     "output_type": "stream",
     "text": [
      "[0]\ttrain-auc:0.63747\ttest-auc:0.61859\n",
      "[20]\ttrain-auc:0.83168\ttest-auc:0.80493\n",
      "[40]\ttrain-auc:0.86944\ttest-auc:0.84678\n",
      "[60]\ttrain-auc:0.88621\ttest-auc:0.85269\n",
      "[80]\ttrain-auc:0.89377\ttest-auc:0.85337\n",
      "[100]\ttrain-auc:0.89850\ttest-auc:0.85457\n",
      "[120]\ttrain-auc:0.90263\ttest-auc:0.85583\n",
      "[140]\ttrain-auc:0.90328\ttest-auc:0.85641\n",
      "[160]\ttrain-auc:0.90328\ttest-auc:0.85641\n",
      "[172]\ttrain-auc:0.90328\ttest-auc:0.85641\n"
     ]
    }
   ],
   "source": [
    "model_xgb_num = xgb.train(\n",
    "    params=params,\n",
    "    dtrain=d_train,\n",
    "    num_boost_round=100000,\n",
    "    early_stopping_rounds=50,\n",
    "    evals=[(d_train, \"train\"), (d_test, \"test\")],\n",
    "    verbose_eval=20,\n",
    "    maximize=True,\n",
    ")"
   ]
  },
  {
   "cell_type": "code",
   "execution_count": 17,
   "metadata": {
    "pycharm": {
     "name": "#%%\n"
    }
   },
   "outputs": [],
   "source": [
    "y_preds = dict()"
   ]
  },
  {
   "cell_type": "code",
   "execution_count": 18,
   "metadata": {
    "pycharm": {
     "name": "#%%\n"
    }
   },
   "outputs": [],
   "source": [
    "y_preds['model_xgb_num'] = [round(y) for y in xgb.Booster.predict(model_xgb_num, data=d_test)]"
   ]
  },
  {
   "cell_type": "markdown",
   "metadata": {},
   "source": [
    "### Задание 2:\n",
    "обработать категориальные признаки любым способом (который вы знаете) и добавить их к данным. Выполнить задание 1."
   ]
  },
  {
   "cell_type": "code",
   "execution_count": 19,
   "metadata": {
    "pycharm": {
     "name": "#%%\n"
    }
   },
   "outputs": [],
   "source": [
    "def category_encoding(df: pd.Series, bins=None, schema: dict=None, fillNa=0):\n",
    "    df_copy = df.copy()\n",
    "    if not fillNa is None:\n",
    "        df_copy = df_copy.fillna(value=fillNa)\n",
    "    names = df_copy.value_counts().keys()\n",
    "    k = len(names) // bins if bins else 1\n",
    "    if schema is None:\n",
    "        schema = {value: int(key // k) for key, value in enumerate(names, start=1)}\n",
    "    for name, i in schema.items():\n",
    "        df_copy[df_copy == name] = i\n",
    "    return df_copy, schema"
   ]
  },
  {
   "cell_type": "code",
   "execution_count": 20,
   "metadata": {
    "pycharm": {
     "name": "#%%\n"
    }
   },
   "outputs": [],
   "source": [
    "def one_hot_encoding(df: pd.DataFrame, drop_origin_feature=False, schema: list=None):\n",
    "    df_copy = pd.DataFrame(df)\n",
    "    for feature in df_copy.columns:\n",
    "        if schema is None:\n",
    "            schema = df_copy[feature].value_counts().keys()\n",
    "        for name in schema:\n",
    "            new_feature = feature + '_' + name\n",
    "            df_copy[new_feature] = 0\n",
    "            df_copy.loc[df_copy[feature] == name, new_feature] = 1\n",
    "        if drop_origin_feature:\n",
    "            df_copy.drop(columns=[feature], inplace=True)\n",
    "    return df_copy, schema"
   ]
  },
  {
   "cell_type": "code",
   "execution_count": 21,
   "metadata": {
    "pycharm": {
     "name": "#%%\n"
    }
   },
   "outputs": [
    {
     "data": {
      "text/plain": [
       "167"
      ]
     },
     "execution_count": 21,
     "metadata": {},
     "output_type": "execute_result"
    }
   ],
   "source": [
    "categorical_features = []\n",
    "for feature in features:\n",
    "    if X_train[feature].unique().shape[0] <= 20 and X_train[feature].dtypes != 'object':\n",
    "        categorical_features.append(feature)\n",
    "len(categorical_features)"
   ]
  },
  {
   "cell_type": "code",
   "execution_count": 22,
   "metadata": {
    "pycharm": {
     "name": "#%%\n"
    }
   },
   "outputs": [
    {
     "data": {
      "text/plain": [
       "Index(['ProductCD', 'card4', 'card6', 'P_emaildomain', 'R_emaildomain', 'M1',\n",
       "       'M2', 'M3', 'M4', 'M5', 'M6', 'M7', 'M8', 'M9'],\n",
       "      dtype='object')"
      ]
     },
     "execution_count": 22,
     "metadata": {},
     "output_type": "execute_result"
    }
   ],
   "source": [
    "object_features = X_train.columns[X_train.dtypes == 'object']\n",
    "object_features"
   ]
  },
  {
   "cell_type": "code",
   "execution_count": 23,
   "metadata": {
    "pycharm": {
     "name": "#%%\n"
    }
   },
   "outputs": [
    {
     "name": "stdout",
     "output_type": "stream",
     "text": [
      "ProductCD:\n",
      "W    110340\n",
      "H     22422\n",
      "R     21926\n",
      "C     21664\n",
      "S      3648\n",
      "Name: ProductCD, dtype: int64\n",
      "\n",
      "card4:\n",
      "visa                118295\n",
      "mastercard           54501\n",
      "american express      4818\n",
      "discover              2378\n",
      "Name: card4, dtype: int64\n",
      "\n",
      "card6:\n",
      "debit              122746\n",
      "credit              57229\n",
      "debit or credit        10\n",
      "charge card             8\n",
      "Name: card6, dtype: int64\n",
      "\n",
      "P_emaildomain:\n",
      "gmail.com           67198\n",
      "yahoo.com           28992\n",
      "hotmail.com         15058\n",
      "anonymous.com       13328\n",
      "aol.com              8583\n",
      "comcast.net          2916\n",
      "icloud.com           1677\n",
      "outlook.com          1484\n",
      "msn.com              1423\n",
      "att.net              1223\n",
      "sbcglobal.net        1092\n",
      "verizon.net           971\n",
      "live.com              894\n",
      "bellsouth.net         713\n",
      "ymail.com             654\n",
      "me.com                624\n",
      "cox.net               570\n",
      "yahoo.com.mx          522\n",
      "charter.net           372\n",
      "optonline.net         362\n",
      "live.com.mx           254\n",
      "mac.com               214\n",
      "rocketmail.com        201\n",
      "earthlink.net         173\n",
      "mail.com              147\n",
      "outlook.es            142\n",
      "roadrunner.com        119\n",
      "gmail                 115\n",
      "juno.com              111\n",
      "embarqmail.com        109\n",
      "windstream.net         95\n",
      "twc.com                86\n",
      "hotmail.es             85\n",
      "frontier.com           79\n",
      "q.com                  68\n",
      "hotmail.fr             68\n",
      "netzero.com            65\n",
      "web.de                 64\n",
      "aim.com                63\n",
      "prodigy.net.mx         62\n",
      "cfl.rr.com             59\n",
      "frontiernet.net        59\n",
      "netzero.net            49\n",
      "centurylink.net        49\n",
      "suddenlink.net         45\n",
      "sc.rr.com              44\n",
      "cableone.net           37\n",
      "yahoo.fr               36\n",
      "yahoo.es               35\n",
      "gmx.de                 33\n",
      "yahoo.de               25\n",
      "ptd.net                23\n",
      "protonmail.com         20\n",
      "yahoo.co.uk            19\n",
      "live.fr                15\n",
      "hotmail.co.uk          14\n",
      "servicios-ta.com       12\n",
      "yahoo.co.jp             6\n",
      "hotmail.de              4\n",
      "Name: P_emaildomain, dtype: int64\n",
      "\n",
      "R_emaildomain:\n",
      "gmail.com           24644\n",
      "hotmail.com         10129\n",
      "anonymous.com        9882\n",
      "yahoo.com            5666\n",
      "aol.com              2232\n",
      "comcast.net          1185\n",
      "outlook.com           824\n",
      "icloud.com            605\n",
      "yahoo.com.mx          520\n",
      "msn.com               478\n",
      "verizon.net           404\n",
      "sbcglobal.net         374\n",
      "live.com              339\n",
      "cox.net               329\n",
      "me.com                293\n",
      "bellsouth.net         284\n",
      "att.net               283\n",
      "live.com.mx           254\n",
      "outlook.es            141\n",
      "ymail.com             132\n",
      "mac.com               126\n",
      "optonline.net         110\n",
      "hotmail.es             84\n",
      "charter.net            80\n",
      "hotmail.fr             69\n",
      "web.de                 62\n",
      "prodigy.net.mx         62\n",
      "mail.com               58\n",
      "earthlink.net          51\n",
      "embarqmail.com         46\n",
      "frontier.com           40\n",
      "juno.com               38\n",
      "yahoo.fr               34\n",
      "windstream.net         33\n",
      "gmx.de                 32\n",
      "roadrunner.com         31\n",
      "rocketmail.com         30\n",
      "yahoo.de               28\n",
      "cfl.rr.com             28\n",
      "gmail                  24\n",
      "twc.com                23\n",
      "q.com                  21\n",
      "ptd.net                19\n",
      "aim.com                18\n",
      "yahoo.es               16\n",
      "suddenlink.net         15\n",
      "live.fr                15\n",
      "yahoo.co.uk            13\n",
      "cableone.net           12\n",
      "servicios-ta.com       12\n",
      "hotmail.co.uk          11\n",
      "frontiernet.net        11\n",
      "netzero.com             8\n",
      "centurylink.net         7\n",
      "yahoo.co.jp             7\n",
      "netzero.net             7\n",
      "sc.rr.com               6\n",
      "scranton.edu            6\n",
      "protonmail.com          5\n",
      "hotmail.de              4\n",
      "Name: R_emaildomain, dtype: int64\n",
      "\n",
      "M1:\n",
      "T    61748\n",
      "F        1\n",
      "Name: M1, dtype: int64\n",
      "\n",
      "M2:\n",
      "T    55657\n",
      "F     6092\n",
      "Name: M2, dtype: int64\n",
      "\n",
      "M3:\n",
      "T    48603\n",
      "F    13146\n",
      "Name: M3, dtype: int64\n",
      "\n",
      "M4:\n",
      "M0    51229\n",
      "M2    18658\n",
      "M1    13389\n",
      "Name: M4, dtype: int64\n",
      "\n",
      "M5:\n",
      "F    34262\n",
      "T    27441\n",
      "Name: M5, dtype: int64\n",
      "\n",
      "M6:\n",
      "F    56627\n",
      "T    49025\n",
      "Name: M6, dtype: int64\n",
      "\n",
      "M7:\n",
      "F    27118\n",
      "T     4534\n",
      "Name: M7, dtype: int64\n",
      "\n",
      "M8:\n",
      "F    19814\n",
      "T    11838\n",
      "Name: M8, dtype: int64\n",
      "\n",
      "M9:\n",
      "T    26970\n",
      "F     4682\n",
      "Name: M9, dtype: int64\n",
      "\n"
     ]
    }
   ],
   "source": [
    "for feature in object_features:\n",
    "    print(f'{feature}:\\n{X_train[feature].value_counts()}\\n')"
   ]
  },
  {
   "cell_type": "code",
   "execution_count": 24,
   "metadata": {
    "pycharm": {
     "name": "#%%\n"
    }
   },
   "outputs": [],
   "source": [
    "schema_TF = {'F': 0, 'T': 1}\n",
    "schema_012 = {'M0': 0, 'M1': 1, 'M2': 2}"
   ]
  },
  {
   "cell_type": "code",
   "execution_count": 25,
   "metadata": {
    "pycharm": {
     "name": "#%%\n"
    }
   },
   "outputs": [],
   "source": [
    "schemas = dict()"
   ]
  },
  {
   "cell_type": "code",
   "execution_count": 26,
   "metadata": {
    "pycharm": {
     "name": "#%%\n"
    }
   },
   "outputs": [],
   "source": [
    "for feature in ['M1', 'M2', 'M3', 'M5', 'M6', 'M7', 'M8', 'M9']:\n",
    "    X_train[feature], schema = category_encoding(X_train[feature], schema=schema_TF)\n",
    "    X_test[feature] = category_encoding(X_test[feature], schema=schema_TF)[0]\n",
    "    schemas[feature] = schema"
   ]
  },
  {
   "cell_type": "code",
   "execution_count": 27,
   "metadata": {
    "pycharm": {
     "name": "#%%\n"
    }
   },
   "outputs": [],
   "source": [
    "for feature in ['M4']:\n",
    "    X_train[feature], schema = category_encoding(X_train[feature], schema=schema_012)\n",
    "    X_test[feature] = category_encoding(X_test[feature], schema=schema_012)[0]\n",
    "    schemas[feature] = schema"
   ]
  },
  {
   "cell_type": "code",
   "execution_count": 28,
   "metadata": {
    "pycharm": {
     "name": "#%%\n"
    }
   },
   "outputs": [],
   "source": [
    "for feature in ['ProductCD', 'card4', 'card6']:\n",
    "    X_train[feature], schema = category_encoding(X_train[feature])\n",
    "    X_test[feature] = category_encoding(X_test[feature], schema=schema)[0]\n",
    "    schemas[feature] = schema"
   ]
  },
  {
   "cell_type": "code",
   "execution_count": 29,
   "metadata": {
    "pycharm": {
     "name": "#%%\n"
    }
   },
   "outputs": [],
   "source": [
    "for feature in ['P_emaildomain', 'R_emaildomain']:\n",
    "    X_train[feature], schema = category_encoding(X_train[feature], bins=5)\n",
    "    X_test[feature] = category_encoding(X_test[feature], schema=schema)[0]\n",
    "    schemas[feature] = schema"
   ]
  },
  {
   "cell_type": "code",
   "execution_count": 30,
   "metadata": {
    "pycharm": {
     "name": "#%%\n"
    }
   },
   "outputs": [],
   "source": [
    "X_train[categorical_features] = X_train[categorical_features].fillna(0)\n",
    "X_train[categorical_features] = X_train[categorical_features].astype(np.int)"
   ]
  },
  {
   "cell_type": "code",
   "execution_count": 31,
   "metadata": {
    "pycharm": {
     "name": "#%%\n"
    }
   },
   "outputs": [],
   "source": [
    "X_test[categorical_features] = X_test[categorical_features].fillna(0)\n",
    "X_test[categorical_features] = X_test[categorical_features].astype(np.int)"
   ]
  },
  {
   "cell_type": "code",
   "execution_count": 32,
   "metadata": {
    "pycharm": {
     "name": "#%%\n"
    }
   },
   "outputs": [],
   "source": [
    "params = {\n",
    "    \"booster\": \"gbtree\",\n",
    "    \"objective\": \"binary:logistic\",\n",
    "    \"eval_metric\": \"auc\",\n",
    "    \"learning_rate\": 0.1,\n",
    "    # \"n_estimators\": 100,\n",
    "    \"reg_lambda\": 100,\n",
    "    \"max_depth\": 4,\n",
    "    \"gamma\": 10,\n",
    "    # \"nthread\": 6,\n",
    "    \"seed\": 27,\n",
    "    'predictor': 'gpu_predictor',\n",
    "    # 'gpu_id': 0,\n",
    "    'tree_method': 'gpu_hist'\n",
    "}"
   ]
  },
  {
   "cell_type": "code",
   "execution_count": 33,
   "metadata": {
    "pycharm": {
     "name": "#%%\n"
    }
   },
   "outputs": [],
   "source": [
    "d_train = xgb.DMatrix(\n",
    "    data=X_train[numeric_features + categorical_features], label=y_train, enable_categorical=True\n",
    ")\n",
    "d_test = xgb.DMatrix(\n",
    "    data=X_test[numeric_features + categorical_features], label=y_test, enable_categorical=True\n",
    ")"
   ]
  },
  {
   "cell_type": "code",
   "execution_count": 34,
   "metadata": {
    "pycharm": {
     "name": "#%%\n"
    }
   },
   "outputs": [
    {
     "name": "stdout",
     "output_type": "stream",
     "text": [
      "[0]\ttrain-auc:0.64999\ttest-auc:0.62240\n",
      "[20]\ttrain-auc:0.81964\ttest-auc:0.77821\n",
      "[40]\ttrain-auc:0.87288\ttest-auc:0.84450\n",
      "[60]\ttrain-auc:0.88747\ttest-auc:0.85447\n",
      "[80]\ttrain-auc:0.89482\ttest-auc:0.85432\n",
      "[100]\ttrain-auc:0.89889\ttest-auc:0.85638\n",
      "[120]\ttrain-auc:0.90252\ttest-auc:0.85850\n",
      "[140]\ttrain-auc:0.90370\ttest-auc:0.85860\n",
      "[160]\ttrain-auc:0.90370\ttest-auc:0.85860\n",
      "[176]\ttrain-auc:0.90370\ttest-auc:0.85860\n"
     ]
    }
   ],
   "source": [
    "model_xgb_num_cat = xgb.train(\n",
    "    params=params,\n",
    "    dtrain=d_train,\n",
    "    num_boost_round=100000,\n",
    "    early_stopping_rounds=50,\n",
    "    evals=[(d_train, \"train\"), (d_test, \"test\")],\n",
    "    verbose_eval=20,\n",
    "    maximize=True,\n",
    ")"
   ]
  },
  {
   "cell_type": "code",
   "execution_count": 35,
   "metadata": {
    "pycharm": {
     "name": "#%%\n"
    }
   },
   "outputs": [],
   "source": [
    "y_preds['model_xgb_num_cat'] = [round(y) for y in xgb.Booster.predict(model_xgb_num_cat, data=d_test)]"
   ]
  },
  {
   "cell_type": "markdown",
   "metadata": {
    "pycharm": {
     "name": "#%% md\n"
    }
   },
   "source": [
    "### Задание 4:\n",
    "для числовых признаков обучить модель LightGBM. Обучать алгоритм до тех пор, пока метрика качества не перестанет улучшаться на валидационной выборке в течение определенного числа итераций (выбрать значение самостоятельно)."
   ]
  },
  {
   "cell_type": "code",
   "execution_count": 36,
   "metadata": {
    "pycharm": {
     "name": "#%%\n"
    }
   },
   "outputs": [],
   "source": [
    "params = {\n",
    "    \"boosting_type\": \"gbdt\",\n",
    "    \"objective\": \"binary\",\n",
    "    \"metric\": \"auc\",\n",
    "    \"learning_rate\": 0.01,\n",
    "    \"n_estimators\": 200,\n",
    "    \"n_jobs\": 6,\n",
    "    \"seed\": 27\n",
    "}"
   ]
  },
  {
   "cell_type": "code",
   "execution_count": 37,
   "metadata": {
    "pycharm": {
     "name": "#%%\n"
    },
    "scrolled": false
   },
   "outputs": [
    {
     "name": "stdout",
     "output_type": "stream",
     "text": [
      "[LightGBM] [Info] Number of positive: 5141, number of negative: 174859\n",
      "[LightGBM] [Warning] Auto-choosing row-wise multi-threading, the overhead of testing was 0.088316 seconds.\n",
      "You can set `force_row_wise=true` to remove the overhead.\n",
      "And if memory is not enough, you can set `force_col_wise=true`.\n",
      "[LightGBM] [Info] Total Bins 30359\n",
      "[LightGBM] [Info] Number of data points in the train set: 180000, number of used features: 211\n",
      "[LightGBM] [Info] [binary:BoostFromScore]: pavg=0.028561 -> initscore=-3.526732\n",
      "[LightGBM] [Info] Start training from score -3.526732\n",
      "Training until validation scores don't improve for 50 rounds\n",
      "[10]\ttraining's auc: 0.834045\tvalid_1's auc: 0.800131\n",
      "[20]\ttraining's auc: 0.838019\tvalid_1's auc: 0.801834\n",
      "[30]\ttraining's auc: 0.842062\tvalid_1's auc: 0.806454\n",
      "[40]\ttraining's auc: 0.85633\tvalid_1's auc: 0.829121\n",
      "[50]\ttraining's auc: 0.858008\tvalid_1's auc: 0.829712\n",
      "[60]\ttraining's auc: 0.868769\tvalid_1's auc: 0.840208\n",
      "[70]\ttraining's auc: 0.870926\tvalid_1's auc: 0.841222\n",
      "[80]\ttraining's auc: 0.882479\tvalid_1's auc: 0.848267\n",
      "[90]\ttraining's auc: 0.886564\tvalid_1's auc: 0.848198\n",
      "[100]\ttraining's auc: 0.890348\tvalid_1's auc: 0.848987\n",
      "[110]\ttraining's auc: 0.89242\tvalid_1's auc: 0.848293\n",
      "[120]\ttraining's auc: 0.893965\tvalid_1's auc: 0.847534\n",
      "[130]\ttraining's auc: 0.895766\tvalid_1's auc: 0.848503\n",
      "[140]\ttraining's auc: 0.896999\tvalid_1's auc: 0.848683\n",
      "Early stopping, best iteration is:\n",
      "[96]\ttraining's auc: 0.889119\tvalid_1's auc: 0.849274\n"
     ]
    }
   ],
   "source": [
    "dtrain = lgb.Dataset(\n",
    "    data=X_train[numeric_features], label=y_train\n",
    ")\n",
    "dvalid = lgb.Dataset(\n",
    "    data=X_test[numeric_features], label=y_test\n",
    ")\n",
    "\n",
    "model_lgb_num = lgb.train(\n",
    "    params=params,\n",
    "    train_set=dtrain,\n",
    "    num_boost_round=20000,\n",
    "    valid_sets=[dtrain, dvalid],\n",
    "    categorical_feature=\"auto\",\n",
    "    early_stopping_rounds=50,\n",
    "    verbose_eval=10,\n",
    ")"
   ]
  },
  {
   "cell_type": "code",
   "execution_count": 38,
   "metadata": {
    "pycharm": {
     "name": "#%%\n"
    }
   },
   "outputs": [],
   "source": [
    "y_preds['model_lgb_num'] = [y for y in lgb.Booster.predict(self=model_lgb_num, data=X_test[numeric_features])]"
   ]
  },
  {
   "cell_type": "markdown",
   "metadata": {
    "pycharm": {
     "name": "#%% md\n"
    }
   },
   "source": [
    "### Задание 5:\n",
    "обработать категориальные признаки любым способом (который вы знаете) и добавить их к данным. Выполнить задание 4."
   ]
  },
  {
   "cell_type": "code",
   "execution_count": 39,
   "metadata": {
    "pycharm": {
     "name": "#%%\n"
    }
   },
   "outputs": [],
   "source": [
    "params = {\n",
    "    \"boosting_type\": \"gbdt\",\n",
    "    \"objective\": \"binary\",\n",
    "    \"metric\": \"auc\",\n",
    "    \"learning_rate\": 0.01,\n",
    "    \"n_estimators\": 200,\n",
    "    \"n_jobs\": 6,\n",
    "    \"seed\": 27\n",
    "}"
   ]
  },
  {
   "cell_type": "code",
   "execution_count": 40,
   "metadata": {
    "pycharm": {
     "name": "#%%\n"
    }
   },
   "outputs": [
    {
     "name": "stdout",
     "output_type": "stream",
     "text": [
      "[LightGBM] [Info] Number of positive: 5141, number of negative: 174859\n",
      "[LightGBM] [Warning] Auto-choosing row-wise multi-threading, the overhead of testing was 0.136876 seconds.\n",
      "You can set `force_row_wise=true` to remove the overhead.\n",
      "And if memory is not enough, you can set `force_col_wise=true`.\n",
      "[LightGBM] [Info] Total Bins 31748\n",
      "[LightGBM] [Info] Number of data points in the train set: 180000, number of used features: 377\n",
      "[LightGBM] [Info] [binary:BoostFromScore]: pavg=0.028561 -> initscore=-3.526732\n",
      "[LightGBM] [Info] Start training from score -3.526732\n",
      "Training until validation scores don't improve for 50 rounds\n",
      "[10]\ttraining's auc: 0.834659\tvalid_1's auc: 0.799809\n",
      "[20]\ttraining's auc: 0.838251\tvalid_1's auc: 0.800175\n",
      "[30]\ttraining's auc: 0.853352\tvalid_1's auc: 0.824598\n",
      "[40]\ttraining's auc: 0.857574\tvalid_1's auc: 0.828542\n",
      "[50]\ttraining's auc: 0.859216\tvalid_1's auc: 0.829353\n",
      "[60]\ttraining's auc: 0.866457\tvalid_1's auc: 0.838177\n",
      "[70]\ttraining's auc: 0.882808\tvalid_1's auc: 0.848279\n",
      "[80]\ttraining's auc: 0.889422\tvalid_1's auc: 0.849491\n",
      "[90]\ttraining's auc: 0.892116\tvalid_1's auc: 0.848969\n",
      "[100]\ttraining's auc: 0.895566\tvalid_1's auc: 0.848756\n",
      "[110]\ttraining's auc: 0.897493\tvalid_1's auc: 0.848452\n",
      "[120]\ttraining's auc: 0.899303\tvalid_1's auc: 0.849182\n",
      "[130]\ttraining's auc: 0.900348\tvalid_1's auc: 0.848754\n",
      "Early stopping, best iteration is:\n",
      "[80]\ttraining's auc: 0.889422\tvalid_1's auc: 0.849491\n"
     ]
    }
   ],
   "source": [
    "dtrain = lgb.Dataset(\n",
    "    data=X_train[numeric_features + categorical_features], label=y_train\n",
    ")\n",
    "dvalid = lgb.Dataset(\n",
    "    data=X_test[numeric_features + categorical_features], label=y_test\n",
    ")\n",
    "\n",
    "model_lgb_num_cat = lgb.train(\n",
    "    params=params,\n",
    "    train_set=dtrain,\n",
    "    num_boost_round=20000,\n",
    "    valid_sets=[dtrain, dvalid],\n",
    "    categorical_feature=categorical_features,\n",
    "    early_stopping_rounds=50,\n",
    "    verbose_eval=10,\n",
    ")"
   ]
  },
  {
   "cell_type": "code",
   "execution_count": 41,
   "metadata": {
    "pycharm": {
     "name": "#%%\n"
    }
   },
   "outputs": [],
   "source": [
    "y_preds['model_lgb_num_cat'] = [y for y in lgb.Booster.predict(self=model_lgb_num_cat, data=X_test[numeric_features + categorical_features])]"
   ]
  },
  {
   "cell_type": "markdown",
   "metadata": {
    "pycharm": {
     "name": "#%% md\n"
    }
   },
   "source": [
    "### Задание 6:\n",
    "обработать категориальные признаки встроенным методом в LightGBM. Выполнить задание 4. Сделать выводы о качестве работы алгоритма, по сравнению с пунктом 5."
   ]
  },
  {
   "cell_type": "code",
   "execution_count": 42,
   "metadata": {
    "pycharm": {
     "name": "#%%\n"
    }
   },
   "outputs": [],
   "source": [
    "params = {\n",
    "    \"boosting_type\": \"gbdt\",\n",
    "    \"objective\": \"binary\",\n",
    "    \"metric\": \"auc\",\n",
    "    \"learning_rate\": 0.01,\n",
    "    \"n_estimators\": 200,\n",
    "    \"n_jobs\": 6,\n",
    "    \"seed\": 27,\n",
    "}"
   ]
  },
  {
   "cell_type": "code",
   "execution_count": 43,
   "metadata": {
    "pycharm": {
     "name": "#%%\n"
    }
   },
   "outputs": [
    {
     "name": "stdout",
     "output_type": "stream",
     "text": [
      "[LightGBM] [Info] Number of positive: 5141, number of negative: 174859\n",
      "[LightGBM] [Warning] Auto-choosing row-wise multi-threading, the overhead of testing was 0.137925 seconds.\n",
      "You can set `force_row_wise=true` to remove the overhead.\n",
      "And if memory is not enough, you can set `force_col_wise=true`.\n",
      "[LightGBM] [Info] Total Bins 31786\n",
      "[LightGBM] [Info] Number of data points in the train set: 180000, number of used features: 376\n",
      "[LightGBM] [Info] [binary:BoostFromScore]: pavg=0.028561 -> initscore=-3.526732\n",
      "[LightGBM] [Info] Start training from score -3.526732\n",
      "Training until validation scores don't improve for 50 rounds\n",
      "[10]\ttraining's auc: 0.833247\tvalid_1's auc: 0.800062\n",
      "[20]\ttraining's auc: 0.839511\tvalid_1's auc: 0.80208\n",
      "[30]\ttraining's auc: 0.843951\tvalid_1's auc: 0.807047\n",
      "[40]\ttraining's auc: 0.858619\tvalid_1's auc: 0.829908\n",
      "[50]\ttraining's auc: 0.866867\tvalid_1's auc: 0.838742\n",
      "[60]\ttraining's auc: 0.870249\tvalid_1's auc: 0.841962\n",
      "[70]\ttraining's auc: 0.885089\tvalid_1's auc: 0.84986\n",
      "[80]\ttraining's auc: 0.890264\tvalid_1's auc: 0.850641\n",
      "[90]\ttraining's auc: 0.892443\tvalid_1's auc: 0.850748\n",
      "[100]\ttraining's auc: 0.894966\tvalid_1's auc: 0.850123\n",
      "[110]\ttraining's auc: 0.897304\tvalid_1's auc: 0.849709\n",
      "[120]\ttraining's auc: 0.898953\tvalid_1's auc: 0.849656\n",
      "[130]\ttraining's auc: 0.900131\tvalid_1's auc: 0.849357\n",
      "Early stopping, best iteration is:\n",
      "[88]\ttraining's auc: 0.891907\tvalid_1's auc: 0.851011\n"
     ]
    }
   ],
   "source": [
    "dtrain = lgb.Dataset(\n",
    "    data=X_train[numeric_features + categorical_features], label=y_train\n",
    ")\n",
    "dvalid = lgb.Dataset(\n",
    "    data=X_test[numeric_features + categorical_features], label=y_test\n",
    ")\n",
    "\n",
    "model_lgb_num_autocat = lgb.train(\n",
    "    params=params,\n",
    "    train_set=dtrain,\n",
    "    num_boost_round=20000,\n",
    "    valid_sets=[dtrain, dvalid],\n",
    "    categorical_feature=\"auto\",\n",
    "    early_stopping_rounds=50,\n",
    "    verbose_eval=10,\n",
    ")"
   ]
  },
  {
   "cell_type": "code",
   "execution_count": 44,
   "metadata": {
    "pycharm": {
     "name": "#%%\n"
    }
   },
   "outputs": [],
   "source": [
    "y_preds['model_lgb_num_autocat'] = [y for y in lgb.Booster.predict(self=model_lgb_num_autocat, data=X_test[numeric_features + categorical_features])]"
   ]
  },
  {
   "cell_type": "markdown",
   "metadata": {},
   "source": [
    "Автоматический выбор категориальных признаков работает на 10 итераций быстрее (вроде, некритично), мемтрика качества незначительно выше на тестовых данных. В данном случае сходу нельзя определить значимость"
   ]
  },
  {
   "cell_type": "markdown",
   "metadata": {
    "pycharm": {
     "name": "#%% md\n"
    }
   },
   "source": [
    "### Задание 7:\n",
    "для числовых признаков обучить модель CatBoost. Обучать алгоритм до тех пор, пока метрика качества не перестанет улучшаться на валидационной выборке в течение определенного числа итераций (выбрать значение самостоятельно)."
   ]
  },
  {
   "cell_type": "code",
   "execution_count": 45,
   "metadata": {
    "pycharm": {
     "name": "#%%\n"
    }
   },
   "outputs": [],
   "source": [
    "cb_params = {\n",
    "    \"n_estimators\": 200,\n",
    "    \"loss_function\": \"Logloss\",\n",
    "    \"eval_metric\": \"AUC\",\n",
    "    \"task_type\": \"CPU\",\n",
    "    \"max_bin\": 20,\n",
    "    \"verbose\": 10,\n",
    "    \"max_depth\": 6,\n",
    "    \"l2_leaf_reg\": 100,\n",
    "    \"early_stopping_rounds\": 50,\n",
    "    \"thread_count\": 6,\n",
    "    \"random_seed\": 42\n",
    "}"
   ]
  },
  {
   "cell_type": "code",
   "execution_count": 46,
   "metadata": {
    "pycharm": {
     "name": "#%%\n"
    }
   },
   "outputs": [
    {
     "name": "stdout",
     "output_type": "stream",
     "text": [
      "0:\ttest: 0.6111265\ttest1: 0.6143268\tbest: 0.6143268 (0)\ttotal: 274ms\tremaining: 54.5s\n",
      "10:\ttest: 0.7777378\ttest1: 0.7550568\tbest: 0.7855520 (7)\ttotal: 1.12s\tremaining: 19.3s\n",
      "20:\ttest: 0.8320160\ttest1: 0.8204129\tbest: 0.8204129 (20)\ttotal: 2.03s\tremaining: 17.3s\n",
      "30:\ttest: 0.8401180\ttest1: 0.8233431\tbest: 0.8257581 (29)\ttotal: 2.98s\tremaining: 16.3s\n",
      "40:\ttest: 0.8422810\ttest1: 0.8243918\tbest: 0.8266748 (32)\ttotal: 3.94s\tremaining: 15.3s\n",
      "50:\ttest: 0.8457915\ttest1: 0.8253519\tbest: 0.8266748 (32)\ttotal: 4.95s\tremaining: 14.5s\n",
      "60:\ttest: 0.8502530\ttest1: 0.8290832\tbest: 0.8290832 (60)\ttotal: 5.88s\tremaining: 13.4s\n",
      "70:\ttest: 0.8546070\ttest1: 0.8290435\tbest: 0.8293026 (62)\ttotal: 6.82s\tremaining: 12.4s\n",
      "80:\ttest: 0.8578187\ttest1: 0.8356565\tbest: 0.8356565 (80)\ttotal: 7.79s\tremaining: 11.4s\n",
      "90:\ttest: 0.8633440\ttest1: 0.8390432\tbest: 0.8390432 (90)\ttotal: 8.79s\tremaining: 10.5s\n",
      "100:\ttest: 0.8644712\ttest1: 0.8399033\tbest: 0.8401368 (98)\ttotal: 9.72s\tremaining: 9.53s\n",
      "110:\ttest: 0.8666058\ttest1: 0.8400779\tbest: 0.8402055 (105)\ttotal: 10.7s\tremaining: 8.57s\n",
      "120:\ttest: 0.8686672\ttest1: 0.8426500\tbest: 0.8426500 (120)\ttotal: 11.6s\tremaining: 7.6s\n",
      "130:\ttest: 0.8705118\ttest1: 0.8435327\tbest: 0.8435749 (129)\ttotal: 12.6s\tremaining: 6.62s\n",
      "140:\ttest: 0.8722260\ttest1: 0.8439919\tbest: 0.8440018 (138)\ttotal: 13.5s\tremaining: 5.65s\n",
      "150:\ttest: 0.8743771\ttest1: 0.8455004\tbest: 0.8457287 (149)\ttotal: 14.5s\tremaining: 4.69s\n",
      "160:\ttest: 0.8759983\ttest1: 0.8466780\tbest: 0.8467795 (158)\ttotal: 15.4s\tremaining: 3.73s\n",
      "170:\ttest: 0.8773269\ttest1: 0.8471921\tbest: 0.8472134 (169)\ttotal: 16.4s\tremaining: 2.78s\n",
      "180:\ttest: 0.8783820\ttest1: 0.8485062\tbest: 0.8485062 (180)\ttotal: 17.3s\tremaining: 1.82s\n",
      "190:\ttest: 0.8795320\ttest1: 0.8494463\tbest: 0.8496356 (189)\ttotal: 18.3s\tremaining: 861ms\n",
      "199:\ttest: 0.8805265\ttest1: 0.8501437\tbest: 0.8501437 (199)\ttotal: 19.2s\tremaining: 0us\n",
      "\n",
      "bestTest = 0.850143707\n",
      "bestIteration = 199\n",
      "\n"
     ]
    },
    {
     "data": {
      "text/plain": [
       "<catboost.core.CatBoostClassifier at 0x2424ba27eb0>"
      ]
     },
     "execution_count": 46,
     "metadata": {},
     "output_type": "execute_result"
    }
   ],
   "source": [
    "model_cb_num = cb.CatBoostClassifier(**cb_params)\n",
    "model_cb_num.fit(\n",
    "    X=X_train[numeric_features],\n",
    "    y=y_train,\n",
    "    eval_set=[(X_train[numeric_features], y_train), (X_test[numeric_features], y_test)],\n",
    "    # plot=True\n",
    ")"
   ]
  },
  {
   "cell_type": "code",
   "execution_count": 47,
   "metadata": {},
   "outputs": [],
   "source": [
    "y_preds['model_cb_num'] = [y for y in model_cb_num.predict(X_test[numeric_features])]"
   ]
  },
  {
   "cell_type": "markdown",
   "metadata": {
    "pycharm": {
     "name": "#%% md\n"
    }
   },
   "source": [
    "### Задание 8:\n",
    "обработать категориальные признаки любым способом (который вы знаете) и добавить их к данным. Выполнить задание 7."
   ]
  },
  {
   "cell_type": "code",
   "execution_count": 48,
   "metadata": {
    "pycharm": {
     "name": "#%%\n"
    }
   },
   "outputs": [],
   "source": [
    "cb_params = {\n",
    "    \"n_estimators\": 200,\n",
    "    \"loss_function\": \"Logloss\",\n",
    "    \"eval_metric\": \"AUC\",\n",
    "    \"task_type\": \"CPU\",\n",
    "    \"max_bin\": 20,\n",
    "    \"verbose\": 10,\n",
    "    \"max_depth\": 6,\n",
    "    \"l2_leaf_reg\": 100,\n",
    "    \"early_stopping_rounds\": 50,\n",
    "    \"thread_count\": 6,\n",
    "    \"random_seed\": 42\n",
    "}"
   ]
  },
  {
   "cell_type": "code",
   "execution_count": 49,
   "metadata": {
    "pycharm": {
     "name": "#%%\n"
    }
   },
   "outputs": [
    {
     "name": "stdout",
     "output_type": "stream",
     "text": [
      "0:\ttest: 0.6127567\ttest1: 0.5969901\tbest: 0.5969901 (0)\ttotal: 100ms\tremaining: 19.9s\n",
      "10:\ttest: 0.7865235\ttest1: 0.7720262\tbest: 0.7720262 (10)\ttotal: 1.1s\tremaining: 19s\n",
      "20:\ttest: 0.8232765\ttest1: 0.8117117\tbest: 0.8117117 (20)\ttotal: 2.12s\tremaining: 18s\n",
      "30:\ttest: 0.8376778\ttest1: 0.8202867\tbest: 0.8202867 (30)\ttotal: 3.17s\tremaining: 17.3s\n",
      "40:\ttest: 0.8449999\ttest1: 0.8260454\tbest: 0.8263286 (36)\ttotal: 4.27s\tremaining: 16.6s\n",
      "50:\ttest: 0.8471215\ttest1: 0.8249923\tbest: 0.8263286 (36)\ttotal: 5.35s\tremaining: 15.6s\n",
      "60:\ttest: 0.8498744\ttest1: 0.8259142\tbest: 0.8264199 (55)\ttotal: 6.47s\tremaining: 14.7s\n",
      "70:\ttest: 0.8564562\ttest1: 0.8353688\tbest: 0.8353688 (70)\ttotal: 7.58s\tremaining: 13.8s\n",
      "80:\ttest: 0.8595182\ttest1: 0.8364016\tbest: 0.8364016 (80)\ttotal: 8.7s\tremaining: 12.8s\n",
      "90:\ttest: 0.8605792\ttest1: 0.8365382\tbest: 0.8365382 (90)\ttotal: 9.82s\tremaining: 11.8s\n",
      "100:\ttest: 0.8621863\ttest1: 0.8341441\tbest: 0.8365382 (90)\ttotal: 10.9s\tremaining: 10.7s\n",
      "110:\ttest: 0.8648047\ttest1: 0.8374510\tbest: 0.8374510 (110)\ttotal: 12.1s\tremaining: 9.71s\n",
      "120:\ttest: 0.8674074\ttest1: 0.8379810\tbest: 0.8379810 (120)\ttotal: 13.4s\tremaining: 8.73s\n",
      "130:\ttest: 0.8687200\ttest1: 0.8374100\tbest: 0.8379810 (120)\ttotal: 14.6s\tremaining: 7.7s\n",
      "140:\ttest: 0.8700006\ttest1: 0.8383832\tbest: 0.8383832 (140)\ttotal: 15.8s\tremaining: 6.62s\n",
      "150:\ttest: 0.8721635\ttest1: 0.8401432\tbest: 0.8401432 (150)\ttotal: 17.1s\tremaining: 5.53s\n",
      "160:\ttest: 0.8746057\ttest1: 0.8434152\tbest: 0.8434152 (160)\ttotal: 18.2s\tremaining: 4.42s\n",
      "170:\ttest: 0.8772697\ttest1: 0.8473056\tbest: 0.8473056 (170)\ttotal: 19.4s\tremaining: 3.29s\n",
      "180:\ttest: 0.8778862\ttest1: 0.8478357\tbest: 0.8478357 (180)\ttotal: 20.6s\tremaining: 2.16s\n",
      "190:\ttest: 0.8796081\ttest1: 0.8490076\tbest: 0.8490076 (190)\ttotal: 21.7s\tremaining: 1.02s\n",
      "199:\ttest: 0.8802719\ttest1: 0.8490756\tbest: 0.8493469 (196)\ttotal: 22.8s\tremaining: 0us\n",
      "\n",
      "bestTest = 0.8493469391\n",
      "bestIteration = 196\n",
      "\n",
      "Shrink model to first 197 iterations.\n"
     ]
    },
    {
     "data": {
      "text/plain": [
       "<catboost.core.CatBoostClassifier at 0x2424b7c8f70>"
      ]
     },
     "execution_count": 49,
     "metadata": {},
     "output_type": "execute_result"
    }
   ],
   "source": [
    "model_cb_num_cat = cb.CatBoostClassifier(**cb_params)\n",
    "model_cb_num_cat.fit(\n",
    "    X=X_train[numeric_features + categorical_features],\n",
    "    y=y_train,\n",
    "    eval_set=[(X_train[numeric_features + categorical_features], y_train), (X_test[numeric_features + categorical_features], y_test)],\n",
    "    # plot=True\n",
    ")"
   ]
  },
  {
   "cell_type": "code",
   "execution_count": 50,
   "metadata": {
    "pycharm": {
     "name": "#%%\n"
    }
   },
   "outputs": [],
   "source": [
    "y_preds['model_cb_num_cat'] = [y for y in model_cb_num_cat.predict(X_test[numeric_features + categorical_features])]"
   ]
  },
  {
   "cell_type": "markdown",
   "metadata": {
    "pycharm": {
     "name": "#%% md\n"
    }
   },
   "source": [
    "### Задание 9:\n",
    "обработать категориальные признаки встроенным методом в CatBoost. Выполнить задание 7. Сделать выводы о качестве работы алгоритма, по сравнению с пунктом 8."
   ]
  },
  {
   "cell_type": "code",
   "execution_count": 51,
   "metadata": {
    "pycharm": {
     "name": "#%%\n"
    },
    "scrolled": true
   },
   "outputs": [
    {
     "name": "stdout",
     "output_type": "stream",
     "text": [
      "0:\ttest: 0.6346323\ttest1: 0.6339733\tbest: 0.6339733 (0)\ttotal: 7.5s\tremaining: 24m 52s\n",
      "10:\ttest: 0.7846728\ttest1: 0.7832422\tbest: 0.7832422 (10)\ttotal: 1m 15s\tremaining: 21m 33s\n",
      "20:\ttest: 0.8208650\ttest1: 0.8192721\tbest: 0.8192721 (20)\ttotal: 2m 9s\tremaining: 18m 27s\n",
      "30:\ttest: 0.8323154\ttest1: 0.8154623\tbest: 0.8192721 (20)\ttotal: 3m 5s\tremaining: 16m 48s\n",
      "40:\ttest: 0.8422870\ttest1: 0.8212951\tbest: 0.8212951 (40)\ttotal: 3m 59s\tremaining: 15m 28s\n",
      "50:\ttest: 0.8486385\ttest1: 0.8302546\tbest: 0.8318221 (47)\ttotal: 4m 51s\tremaining: 14m 11s\n",
      "60:\ttest: 0.8498967\ttest1: 0.8295133\tbest: 0.8318221 (47)\ttotal: 5m 44s\tremaining: 13m 4s\n",
      "70:\ttest: 0.8517913\ttest1: 0.8301429\tbest: 0.8318221 (47)\ttotal: 6m 33s\tremaining: 11m 54s\n",
      "80:\ttest: 0.8528555\ttest1: 0.8303454\tbest: 0.8318221 (47)\ttotal: 7m 25s\tremaining: 10m 53s\n",
      "90:\ttest: 0.8541824\ttest1: 0.8314469\tbest: 0.8318221 (47)\ttotal: 8m 15s\tremaining: 9m 53s\n",
      "100:\ttest: 0.8630853\ttest1: 0.8394603\tbest: 0.8394603 (100)\ttotal: 9m 5s\tremaining: 8m 54s\n",
      "110:\ttest: 0.8654082\ttest1: 0.8399511\tbest: 0.8402434 (107)\ttotal: 9m 55s\tremaining: 7m 57s\n",
      "120:\ttest: 0.8659901\ttest1: 0.8396674\tbest: 0.8402434 (107)\ttotal: 10m 46s\tremaining: 7m 2s\n",
      "130:\ttest: 0.8681030\ttest1: 0.8396885\tbest: 0.8402434 (107)\ttotal: 11m 39s\tremaining: 6m 8s\n",
      "140:\ttest: 0.8702644\ttest1: 0.8418307\tbest: 0.8418920 (139)\ttotal: 12m 31s\tremaining: 5m 14s\n",
      "150:\ttest: 0.8719651\ttest1: 0.8440081\tbest: 0.8441353 (148)\ttotal: 13m 24s\tremaining: 4m 20s\n",
      "160:\ttest: 0.8736213\ttest1: 0.8442643\tbest: 0.8442643 (160)\ttotal: 14m 17s\tremaining: 3m 27s\n",
      "170:\ttest: 0.8747581\ttest1: 0.8447745\tbest: 0.8451886 (166)\ttotal: 15m 21s\tremaining: 2m 36s\n",
      "180:\ttest: 0.8756658\ttest1: 0.8463927\tbest: 0.8463927 (180)\ttotal: 16m 15s\tremaining: 1m 42s\n",
      "190:\ttest: 0.8771288\ttest1: 0.8478120\tbest: 0.8480776 (189)\ttotal: 17m 11s\tremaining: 48.6s\n",
      "199:\ttest: 0.8787588\ttest1: 0.8486455\tbest: 0.8489050 (197)\ttotal: 17m 58s\tremaining: 0us\n",
      "\n",
      "bestTest = 0.8489050198\n",
      "bestIteration = 197\n",
      "\n",
      "Shrink model to first 198 iterations.\n"
     ]
    },
    {
     "data": {
      "text/plain": [
       "<catboost.core.CatBoostClassifier at 0x2424b9ab100>"
      ]
     },
     "execution_count": 51,
     "metadata": {},
     "output_type": "execute_result"
    }
   ],
   "source": [
    "model_cb_num_autocat = cb.CatBoostClassifier(**cb_params)\n",
    "model_cb_num_autocat.fit(\n",
    "    X=X_train[numeric_features + categorical_features],\n",
    "    y=y_train,\n",
    "    eval_set=[(X_train[numeric_features + categorical_features], y_train), (X_test[numeric_features + categorical_features], y_test)],\n",
    "    cat_features=np.array(categorical_features),\n",
    "    # plot=True\n",
    ")"
   ]
  },
  {
   "cell_type": "code",
   "execution_count": 52,
   "metadata": {
    "pycharm": {
     "name": "#%%\n"
    }
   },
   "outputs": [],
   "source": [
    "y_preds['model_cb_num_autocat'] = [y for y in model_cb_num_autocat.predict(X_test[numeric_features + categorical_features])]"
   ]
  },
  {
   "cell_type": "markdown",
   "metadata": {},
   "source": [
    "это было очень долго, а результат почти тот же"
   ]
  },
  {
   "cell_type": "markdown",
   "metadata": {
    "pycharm": {
     "name": "#%% md\n"
    }
   },
   "source": [
    "### Задание 10:\n",
    "построить ROC-кривую для всех построенных алгоритмов на обучающей и тестовой выборке. Сделать выводы о работе алгоритмов с точки зрения качества на тестовой выборке и с точки зрения переобучения."
   ]
  },
  {
   "cell_type": "code",
   "execution_count": 53,
   "metadata": {
    "pycharm": {
     "name": "#%%\n"
    },
    "scrolled": true
   },
   "outputs": [
    {
     "ename": "IndexError",
     "evalue": "too many indices for array: array is 0-dimensional, but 2 were indexed",
     "output_type": "error",
     "traceback": [
      "\u001b[1;31m---------------------------------------------------------------------------\u001b[0m",
      "\u001b[1;31mIndexError\u001b[0m                                Traceback (most recent call last)",
      "\u001b[1;32m<ipython-input-53-37563554c206>\u001b[0m in \u001b[0;36m<module>\u001b[1;34m\u001b[0m\n\u001b[1;32m----> 1\u001b[1;33m \u001b[0mskplt\u001b[0m\u001b[1;33m.\u001b[0m\u001b[0mmetrics\u001b[0m\u001b[1;33m.\u001b[0m\u001b[0mplot_roc\u001b[0m\u001b[1;33m(\u001b[0m\u001b[0my_test\u001b[0m\u001b[1;33m,\u001b[0m \u001b[0my_preds\u001b[0m\u001b[1;33m.\u001b[0m\u001b[0mvalues\u001b[0m\u001b[1;33m(\u001b[0m\u001b[1;33m)\u001b[0m\u001b[1;33m)\u001b[0m\u001b[1;33m\u001b[0m\u001b[1;33m\u001b[0m\u001b[0m\n\u001b[0m\u001b[0;32m      2\u001b[0m \u001b[0mplt\u001b[0m\u001b[1;33m.\u001b[0m\u001b[0mshow\u001b[0m\u001b[1;33m(\u001b[0m\u001b[1;33m)\u001b[0m\u001b[1;33m\u001b[0m\u001b[1;33m\u001b[0m\u001b[0m\n",
      "\u001b[1;32mC:\\ProgramData\\Anaconda3\\lib\\site-packages\\scikitplot\\metrics.py\u001b[0m in \u001b[0;36mplot_roc\u001b[1;34m(y_true, y_probas, title, plot_micro, plot_macro, classes_to_plot, ax, figsize, cmap, title_fontsize, text_fontsize)\u001b[0m\n\u001b[0;32m    412\u001b[0m     \u001b[0mindices_to_plot\u001b[0m \u001b[1;33m=\u001b[0m \u001b[0mnp\u001b[0m\u001b[1;33m.\u001b[0m\u001b[0min1d\u001b[0m\u001b[1;33m(\u001b[0m\u001b[0mclasses\u001b[0m\u001b[1;33m,\u001b[0m \u001b[0mclasses_to_plot\u001b[0m\u001b[1;33m)\u001b[0m\u001b[1;33m\u001b[0m\u001b[1;33m\u001b[0m\u001b[0m\n\u001b[0;32m    413\u001b[0m     \u001b[1;32mfor\u001b[0m \u001b[0mi\u001b[0m\u001b[1;33m,\u001b[0m \u001b[0mto_plot\u001b[0m \u001b[1;32min\u001b[0m \u001b[0menumerate\u001b[0m\u001b[1;33m(\u001b[0m\u001b[0mindices_to_plot\u001b[0m\u001b[1;33m)\u001b[0m\u001b[1;33m:\u001b[0m\u001b[1;33m\u001b[0m\u001b[1;33m\u001b[0m\u001b[0m\n\u001b[1;32m--> 414\u001b[1;33m         fpr_dict[i], tpr_dict[i], _ = roc_curve(y_true, probas[:, i],\n\u001b[0m\u001b[0;32m    415\u001b[0m                                                 pos_label=classes[i])\n\u001b[0;32m    416\u001b[0m         \u001b[1;32mif\u001b[0m \u001b[0mto_plot\u001b[0m\u001b[1;33m:\u001b[0m\u001b[1;33m\u001b[0m\u001b[1;33m\u001b[0m\u001b[0m\n",
      "\u001b[1;31mIndexError\u001b[0m: too many indices for array: array is 0-dimensional, but 2 were indexed"
     ]
    },
    {
     "data": {
      "image/png": "[encoded data removed]",
      "text/plain": [
       "<Figure size 432x288 with 1 Axes>"
      ]
     },
     "metadata": {
      "needs_background": "light"
     },
     "output_type": "display_data"
    }
   ],
   "source": [
    "skplt.metrics.plot_roc(y_test, y_preds.values())\n",
    "plt.show()"
   ]
  },
  {
   "cell_type": "code",
   "execution_count": null,
   "metadata": {},
   "outputs": [],
   "source": [
    "такой вариант не прошел, нужно, нав"
   ]
  },
  {
   "cell_type": "markdown",
   "metadata": {
    "pycharm": {
     "name": "#%% md\n"
    }
   },
   "source": [
    "## Задание на повторение:\n",
    "Задание не обязательно к выполнению, но очень рекомендуется для понимания набора данных, этот набор данных будет использован и для следующего домашнего задания."
   ]
  },
  {
   "cell_type": "markdown",
   "metadata": {
    "pycharm": {
     "name": "#%% md\n"
    }
   },
   "source": [
    "### Задание 1:\n",
    "Построить график распределения времени совершения транзакции для обучающей / тестовой выборки, сделать выводы о том, как разбиты данные и какие виды валидации могут подойти для данной задачи."
   ]
  },
  {
   "cell_type": "markdown",
   "metadata": {
    "pycharm": {
     "name": "#%% md\n"
    }
   },
   "source": [
    "### Задание 2:\n",
    "построить scatter-plot зависимости суммы транзакции от времени совершения транзакции. Построить графики для обучающей выборки и для тестовой выборки, для обучающей выборки - построить как для целевой переменной = 0, так и для переменной = 1. Сделать выводы."
   ]
  },
  {
   "cell_type": "markdown",
   "metadata": {
    "pycharm": {
     "name": "#%% md\n"
    }
   },
   "source": [
    "### Задание 3:\n",
    "построить распределение признака TransactionAmt в логарифмическом масштабе, сделать выводы о близости распредления к нормальному распределению. Построить распределение признака в логарифмическому масштабе для обучающей выборк и для тестовой выборки, сделать выводы."
   ]
  },
  {
   "cell_type": "markdown",
   "metadata": {
    "pycharm": {
     "name": "#%% md\n"
    }
   },
   "source": [
    "### Задание 4:\n",
    "построить распределение признака целевой переменной в зависимости от значений категориальных признаков ProductCD, card4, card6. Сделать выводы."
   ]
  }
 ],
 "metadata": {
  "kernelspec": {
   "display_name": "Python 3",
   "language": "python",
   "name": "python3"
  },
  "language_info": {
   "codemirror_mode": {
    "name": "ipython",
    "version": 3
   },
   "file_extension": ".py",
   "mimetype": "text/x-python",
   "name": "python",
   "nbconvert_exporter": "python",
   "pygments_lexer": "ipython3",
   "version": "3.8.5"
  }
 },
 "nbformat": 4,
 "nbformat_minor": 1
}
