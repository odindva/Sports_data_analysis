{
 "cells": [
  {
   "cell_type": "code",
   "execution_count": 1,
   "metadata": {},
   "outputs": [],
   "source": [
    "from typing import List, Optional\n",
    "from tqdm import tqdm\n",
    "\n",
    "import numpy as np\n",
    "import pandas as pd\n",
    "import matplotlib as mpl\n",
    "import matplotlib.pyplot as plt\n",
    "\n",
    "import seaborn as sns\n",
    "import scipy.stats as st\n",
    "from scipy.stats import probplot, ks_2samp\n",
    "\n",
    "from sklearn.metrics import roc_auc_score\n",
    "from sklearn.ensemble import RandomForestRegressor\n",
    "from sklearn.model_selection import KFold, cross_val_score\n",
    "from sklearn.base import BaseEstimator, TransformerMixin\n",
    "from sklearn.utils.validation import check_is_fitted\n",
    "import missingno as msno\n",
    "import xgboost as xgb\n",
    "%matplotlib inline"
   ]
  },
  {
   "cell_type": "code",
   "execution_count": 2,
   "metadata": {},
   "outputs": [],
   "source": [
    "def get_lower(x: str) -> str:\n",
    "    return x.replace(' ', '_').lower()\n",
    "\n",
    "def one_hot_encoding(df, cat_features=None, drop_original=True):\n",
    "    df_copy = df.copy()\n",
    "    if cat_features is None:\n",
    "        cat_features = df.columns\n",
    "    for feature in cat_features:\n",
    "        df_copy = pd.concat([df_copy, \n",
    "                             pd.get_dummies(df[feature], \n",
    "                                            prefix=feature, \n",
    "                                            dummy_na=True)\n",
    "                            ],\n",
    "                            axis=1)\n",
    "    if drop_original:\n",
    "        df_copy.drop(cat_features, axis=1, inplace=True)\n",
    "    return df_copy\n",
    "\n",
    "def agg_features(df, df_out, by: str):\n",
    "    df_copy = df.copy()\n",
    "    df_out_copy = df_out.copy()\n",
    "    cols = df_copy.drop(by, axis=1).columns\n",
    "    for feature in cols:\n",
    "        feature_groupby = df_copy.groupby(by, as_index=False)\n",
    "        feature_counts = feature_groupby[feature].mean()\n",
    "        feature_counts = feature_counts.rename(columns={\n",
    "            feature: feature + f'_mean'\n",
    "        })\n",
    "        df_out_copy = df_out_copy.merge(feature_counts, how=\"left\", on=by)\n",
    "    return df_out_copy\n",
    "\n",
    "def get_input(data_path: str,\n",
    "              base_path: str= './data/',\n",
    "              col_lower=True) -> pd.DataFrame:\n",
    "    data = pd.read_csv(f'{base_path}/{data_path}')\n",
    "    if col_lower:\n",
    "        data.columns = [col.lower() for col in data.columns]\n",
    "    print(f'{data_path}: {data.shape[0]} rows, {data.shape[1]} cols')\n",
    "    return data\n",
    "\n",
    "\n",
    "def clip_outliers(X, lower=0.005, upper=0.995):\n",
    "    new_X = X.copy()\n",
    "    new_X = new_X.apply(lambda x: x.clip(*x.quantile([lower, upper])), axis=1)\n",
    "\n",
    "    return new_X\n",
    "\n",
    "def check_missings(df: pd.DataFrame) -> pd.DataFrame:\n",
    "    \"\"\"\n",
    "    Функция для вычисления среднего и общего числа пропусков.\n",
    "\n",
    "    Parameters\n",
    "    ----------\n",
    "    df: pandas.core.DataFrame\n",
    "        Набор данных для вычисления статистики.\n",
    "\n",
    "    Returns\n",
    "    -------\n",
    "    result: pandas.core.DataFrame\n",
    "        Датафрейм со статистикой распределения пропусков.\n",
    "\n",
    "    \"\"\"\n",
    "    na = df.isnull().sum()\n",
    "    result = pd.DataFrame({\n",
    "        \"Total\": na,\n",
    "        \"Percent\": 100*na/df.shape[0],\n",
    "        \"Types\": df.dtypes\n",
    "    })\n",
    "    print(f\"Total NA-values = {na.sum()}\")\n",
    "    return result.T\n",
    "\n",
    "def get_isna_features(X):\n",
    "    X_copy = X.copy()\n",
    "    for feature in X.columns:\n",
    "        new_f = np.zeros(X.shape[0])\n",
    "        new_f = X[feature].isna()\n",
    "        X_copy[f'isna_{feature}'] = new_f.astype(int)\n",
    "    return X_copy"
   ]
  },
  {
   "cell_type": "code",
   "execution_count": 3,
   "metadata": {
    "scrolled": true
   },
   "outputs": [
    {
     "name": "stdout",
     "output_type": "stream",
     "text": [
      "train.csv: 110093 rows, 3 cols\n",
      "test.csv: 165141 rows, 2 cols\n"
     ]
    }
   ],
   "source": [
    "train = get_input('train.csv')\n",
    "test = get_input('test.csv')"
   ]
  },
  {
   "cell_type": "code",
   "execution_count": 4,
   "metadata": {},
   "outputs": [],
   "source": [
    "target_name = 'target'\n",
    "target = train[target_name]"
   ]
  },
  {
   "cell_type": "code",
   "execution_count": 5,
   "metadata": {
    "scrolled": true
   },
   "outputs": [
    {
     "name": "stdout",
     "output_type": "stream",
     "text": [
      "payments.csv: 1023932 rows, 8 cols\n"
     ]
    },
    {
     "data": {
      "text/html": [
       "<div>\n",
       "<style scoped>\n",
       "    .dataframe tbody tr th:only-of-type {\n",
       "        vertical-align: middle;\n",
       "    }\n",
       "\n",
       "    .dataframe tbody tr th {\n",
       "        vertical-align: top;\n",
       "    }\n",
       "\n",
       "    .dataframe thead th {\n",
       "        text-align: right;\n",
       "    }\n",
       "</style>\n",
       "<table border=\"1\" class=\"dataframe\">\n",
       "  <thead>\n",
       "    <tr style=\"text-align: right;\">\n",
       "      <th></th>\n",
       "      <th>prev_application_number</th>\n",
       "      <th>application_number</th>\n",
       "      <th>num_instalment_version</th>\n",
       "      <th>num_instalment_number</th>\n",
       "      <th>days_instalment</th>\n",
       "      <th>days_entry_payment</th>\n",
       "      <th>amt_instalment</th>\n",
       "      <th>amt_payment</th>\n",
       "    </tr>\n",
       "  </thead>\n",
       "  <tbody>\n",
       "    <tr>\n",
       "      <th>0</th>\n",
       "      <td>49011181</td>\n",
       "      <td>123664960</td>\n",
       "      <td>1.0</td>\n",
       "      <td>5</td>\n",
       "      <td>1002.0</td>\n",
       "      <td>1015.0</td>\n",
       "      <td>12156.615</td>\n",
       "      <td>12156.615</td>\n",
       "    </tr>\n",
       "    <tr>\n",
       "      <th>1</th>\n",
       "      <td>48683432</td>\n",
       "      <td>123497205</td>\n",
       "      <td>1.0</td>\n",
       "      <td>13</td>\n",
       "      <td>442.0</td>\n",
       "      <td>432.0</td>\n",
       "      <td>18392.535</td>\n",
       "      <td>10047.645</td>\n",
       "    </tr>\n",
       "    <tr>\n",
       "      <th>2</th>\n",
       "      <td>48652024</td>\n",
       "      <td>123749925</td>\n",
       "      <td>1.0</td>\n",
       "      <td>10</td>\n",
       "      <td>8.0</td>\n",
       "      <td>23.0</td>\n",
       "      <td>5499.945</td>\n",
       "      <td>5499.945</td>\n",
       "    </tr>\n",
       "  </tbody>\n",
       "</table>\n",
       "</div>"
      ],
      "text/plain": [
       "   prev_application_number  application_number  num_instalment_version  \\\n",
       "0                 49011181           123664960                     1.0   \n",
       "1                 48683432           123497205                     1.0   \n",
       "2                 48652024           123749925                     1.0   \n",
       "\n",
       "   num_instalment_number  days_instalment  days_entry_payment  amt_instalment  \\\n",
       "0                      5           1002.0              1015.0       12156.615   \n",
       "1                     13            442.0               432.0       18392.535   \n",
       "2                     10              8.0                23.0        5499.945   \n",
       "\n",
       "   amt_payment  \n",
       "0    12156.615  \n",
       "1    10047.645  \n",
       "2     5499.945  "
      ]
     },
     "execution_count": 5,
     "metadata": {},
     "output_type": "execute_result"
    }
   ],
   "source": [
    "payments = get_input('payments.csv')\n",
    "payments.head(3)"
   ]
  },
  {
   "cell_type": "code",
   "execution_count": 6,
   "metadata": {},
   "outputs": [],
   "source": [
    "train = train.merge(payments, how=\"left\", on='application_number')\n",
    "test = test.merge(payments, how=\"left\", on='application_number')"
   ]
  },
  {
   "cell_type": "code",
   "execution_count": 7,
   "metadata": {},
   "outputs": [],
   "source": [
    "numerical_features = payments.select_dtypes(exclude=[\"object\"]).columns.tolist()\n",
    "categorical_features = payments.select_dtypes(include=[\"object\"]).columns.tolist()"
   ]
  },
  {
   "cell_type": "code",
   "execution_count": 10,
   "metadata": {},
   "outputs": [
    {
     "data": {
      "text/plain": [
       "11"
      ]
     },
     "execution_count": 10,
     "metadata": {},
     "output_type": "execute_result"
    }
   ],
   "source": [
    "koef = round(target.value_counts()[0] / target.value_counts()[1])\n",
    "koef"
   ]
  },
  {
   "cell_type": "code",
   "execution_count": 9,
   "metadata": {
    "scrolled": false
   },
   "outputs": [
    {
     "data": {
      "text/html": [
       "<div>\n",
       "<style scoped>\n",
       "    .dataframe tbody tr th:only-of-type {\n",
       "        vertical-align: middle;\n",
       "    }\n",
       "\n",
       "    .dataframe tbody tr th {\n",
       "        vertical-align: top;\n",
       "    }\n",
       "\n",
       "    .dataframe thead th {\n",
       "        text-align: right;\n",
       "    }\n",
       "</style>\n",
       "<table border=\"1\" class=\"dataframe\">\n",
       "  <thead>\n",
       "    <tr style=\"text-align: right;\">\n",
       "      <th></th>\n",
       "    </tr>\n",
       "  </thead>\n",
       "  <tbody>\n",
       "    <tr>\n",
       "      <th>0</th>\n",
       "    </tr>\n",
       "    <tr>\n",
       "      <th>1</th>\n",
       "    </tr>\n",
       "    <tr>\n",
       "      <th>2</th>\n",
       "    </tr>\n",
       "  </tbody>\n",
       "</table>\n",
       "</div>"
      ],
      "text/plain": [
       "Empty DataFrame\n",
       "Columns: []\n",
       "Index: [0, 1, 2]"
      ]
     },
     "execution_count": 9,
     "metadata": {},
     "output_type": "execute_result"
    }
   ],
   "source": [
    "train[categorical_features].head(3)"
   ]
  },
  {
   "cell_type": "code",
   "execution_count": 8,
   "metadata": {},
   "outputs": [],
   "source": [
    "### categorical"
   ]
  },
  {
   "cell_type": "markdown",
   "metadata": {},
   "source": [
    "Их нет"
   ]
  },
  {
   "cell_type": "code",
   "execution_count": 12,
   "metadata": {},
   "outputs": [],
   "source": [
    "### descrete"
   ]
  },
  {
   "cell_type": "code",
   "execution_count": 13,
   "metadata": {},
   "outputs": [],
   "source": [
    "discrete_feature = [\n",
    "    feature for feature in numerical_features\n",
    "    if len(payments[feature].unique())<25\n",
    "]"
   ]
  },
  {
   "cell_type": "code",
   "execution_count": 14,
   "metadata": {
    "scrolled": true
   },
   "outputs": [
    {
     "data": {
      "text/html": [
       "<div>\n",
       "<style scoped>\n",
       "    .dataframe tbody tr th:only-of-type {\n",
       "        vertical-align: middle;\n",
       "    }\n",
       "\n",
       "    .dataframe tbody tr th {\n",
       "        vertical-align: top;\n",
       "    }\n",
       "\n",
       "    .dataframe thead th {\n",
       "        text-align: right;\n",
       "    }\n",
       "</style>\n",
       "<table border=\"1\" class=\"dataframe\">\n",
       "  <thead>\n",
       "    <tr style=\"text-align: right;\">\n",
       "      <th></th>\n",
       "    </tr>\n",
       "  </thead>\n",
       "  <tbody>\n",
       "    <tr>\n",
       "      <th>0</th>\n",
       "    </tr>\n",
       "    <tr>\n",
       "      <th>1</th>\n",
       "    </tr>\n",
       "    <tr>\n",
       "      <th>2</th>\n",
       "    </tr>\n",
       "    <tr>\n",
       "      <th>3</th>\n",
       "    </tr>\n",
       "    <tr>\n",
       "      <th>4</th>\n",
       "    </tr>\n",
       "  </tbody>\n",
       "</table>\n",
       "</div>"
      ],
      "text/plain": [
       "Empty DataFrame\n",
       "Columns: []\n",
       "Index: [0, 1, 2, 3, 4]"
      ]
     },
     "execution_count": 14,
     "metadata": {},
     "output_type": "execute_result"
    }
   ],
   "source": [
    "payments[discrete_feature].head()"
   ]
  },
  {
   "cell_type": "markdown",
   "metadata": {},
   "source": [
    "Таких тоже нет"
   ]
  },
  {
   "cell_type": "code",
   "execution_count": 15,
   "metadata": {},
   "outputs": [],
   "source": [
    "### continuous"
   ]
  },
  {
   "cell_type": "code",
   "execution_count": 16,
   "metadata": {},
   "outputs": [
    {
     "name": "stdout",
     "output_type": "stream",
     "text": [
      "Continuous Feature Count 8\n"
     ]
    }
   ],
   "source": [
    "continuous_feature = [\n",
    "    feature for feature in numerical_features\n",
    "    if feature not in discrete_feature]\n",
    "\n",
    "print(f\"Continuous Feature Count {len(continuous_feature)}\")"
   ]
  },
  {
   "cell_type": "code",
   "execution_count": 19,
   "metadata": {},
   "outputs": [
    {
     "data": {
      "image/png": "[encoded data removed]",
      "text/plain": [
       "<Figure size 1080x1440 with 8 Axes>"
      ]
     },
     "metadata": {
      "needs_background": "light"
     },
     "output_type": "display_data"
    }
   ],
   "source": [
    "fig, axes = plt.subplots(4, 2, figsize=(15, 20))\n",
    "\n",
    "for num, feature in enumerate(continuous_feature):\n",
    "    data = train[feature].copy()\n",
    "    data_target = train.loc[train[target_name] == 1, feature]\n",
    "    # масштабирую распределение срабатывание таргета, чтобы было видно форму\n",
    "    data_target = pd.concat([data_target for _ in range(10)], axis=0)\n",
    "    axes[num//2, num%2].hist(data, bins=25, color=\"grey\", alpha=0.8)\n",
    "    axes[num//2, num%2].hist(data_target, bins=25, color=\"green\", alpha=0.5)\n",
    "    axes[num//2, num%2].set_xlabel(feature, fontsize=14)"
   ]
  },
  {
   "cell_type": "markdown",
   "metadata": {},
   "source": [
    "Все распределения очень похожи"
   ]
  },
  {
   "cell_type": "code",
   "execution_count": 28,
   "metadata": {},
   "outputs": [
    {
     "data": {
      "image/png": "[encoded data removed]",
      "text/plain": [
       "<Figure size 432x288 with 1 Axes>"
      ]
     },
     "metadata": {
      "needs_background": "light"
     },
     "output_type": "display_data"
    }
   ],
   "source": [
    "feature = 'amt_payment'\n",
    "data = train.copy().loc[train[feature] > 1e6][[feature, target_name]]\n",
    "data_target = data.loc[data[target_name] == 1, feature]\n",
    "# масштабирую распределение срабатывание таргета, чтобы было видно форму\n",
    "data_target = pd.concat([data_target for _ in range(10)], axis=0)\n",
    "plt.hist(data[feature], bins=25, color=\"grey\", alpha=0.8)\n",
    "plt.hist(data_target, bins=25, color=\"green\", alpha=0.5)\n",
    "plt.show()"
   ]
  },
  {
   "cell_type": "code",
   "execution_count": 20,
   "metadata": {
    "scrolled": false
   },
   "outputs": [
    {
     "name": "stdout",
     "output_type": "stream",
     "text": [
      "Total NA-values = 196996\n"
     ]
    },
    {
     "data": {
      "text/html": [
       "<div>\n",
       "<style scoped>\n",
       "    .dataframe tbody tr th:only-of-type {\n",
       "        vertical-align: middle;\n",
       "    }\n",
       "\n",
       "    .dataframe tbody tr th {\n",
       "        vertical-align: top;\n",
       "    }\n",
       "\n",
       "    .dataframe thead th {\n",
       "        text-align: right;\n",
       "    }\n",
       "</style>\n",
       "<table border=\"1\" class=\"dataframe\">\n",
       "  <thead>\n",
       "    <tr style=\"text-align: right;\">\n",
       "      <th></th>\n",
       "      <th>application_number</th>\n",
       "      <th>target</th>\n",
       "      <th>name_contract_type</th>\n",
       "      <th>prev_application_number</th>\n",
       "      <th>num_instalment_version</th>\n",
       "      <th>num_instalment_number</th>\n",
       "      <th>days_instalment</th>\n",
       "      <th>days_entry_payment</th>\n",
       "      <th>amt_instalment</th>\n",
       "      <th>amt_payment</th>\n",
       "    </tr>\n",
       "  </thead>\n",
       "  <tbody>\n",
       "    <tr>\n",
       "      <th>Total</th>\n",
       "      <td>0</td>\n",
       "      <td>0</td>\n",
       "      <td>0</td>\n",
       "      <td>28126</td>\n",
       "      <td>28126</td>\n",
       "      <td>28126</td>\n",
       "      <td>28126</td>\n",
       "      <td>28183</td>\n",
       "      <td>28126</td>\n",
       "      <td>28183</td>\n",
       "    </tr>\n",
       "    <tr>\n",
       "      <th>Percent</th>\n",
       "      <td>0</td>\n",
       "      <td>0</td>\n",
       "      <td>0</td>\n",
       "      <td>8.15093</td>\n",
       "      <td>8.15093</td>\n",
       "      <td>8.15093</td>\n",
       "      <td>8.15093</td>\n",
       "      <td>8.16745</td>\n",
       "      <td>8.15093</td>\n",
       "      <td>8.16745</td>\n",
       "    </tr>\n",
       "    <tr>\n",
       "      <th>Types</th>\n",
       "      <td>int64</td>\n",
       "      <td>int64</td>\n",
       "      <td>object</td>\n",
       "      <td>float64</td>\n",
       "      <td>float64</td>\n",
       "      <td>float64</td>\n",
       "      <td>float64</td>\n",
       "      <td>float64</td>\n",
       "      <td>float64</td>\n",
       "      <td>float64</td>\n",
       "    </tr>\n",
       "  </tbody>\n",
       "</table>\n",
       "</div>"
      ],
      "text/plain": [
       "        application_number target name_contract_type prev_application_number  \\\n",
       "Total                    0      0                  0                   28126   \n",
       "Percent                  0      0                  0                 8.15093   \n",
       "Types                int64  int64             object                 float64   \n",
       "\n",
       "        num_instalment_version num_instalment_number days_instalment  \\\n",
       "Total                    28126                 28126           28126   \n",
       "Percent                8.15093               8.15093         8.15093   \n",
       "Types                  float64               float64         float64   \n",
       "\n",
       "        days_entry_payment amt_instalment amt_payment  \n",
       "Total                28183          28126       28183  \n",
       "Percent            8.16745        8.15093     8.16745  \n",
       "Types              float64        float64     float64  "
      ]
     },
     "execution_count": 20,
     "metadata": {},
     "output_type": "execute_result"
    }
   ],
   "source": [
    "check_missings(train)"
   ]
  },
  {
   "cell_type": "code",
   "execution_count": 21,
   "metadata": {},
   "outputs": [
    {
     "name": "stdout",
     "output_type": "stream",
     "text": [
      "Total NA-values = 298168\n"
     ]
    },
    {
     "data": {
      "text/html": [
       "<div>\n",
       "<style scoped>\n",
       "    .dataframe tbody tr th:only-of-type {\n",
       "        vertical-align: middle;\n",
       "    }\n",
       "\n",
       "    .dataframe tbody tr th {\n",
       "        vertical-align: top;\n",
       "    }\n",
       "\n",
       "    .dataframe thead th {\n",
       "        text-align: right;\n",
       "    }\n",
       "</style>\n",
       "<table border=\"1\" class=\"dataframe\">\n",
       "  <thead>\n",
       "    <tr style=\"text-align: right;\">\n",
       "      <th></th>\n",
       "      <th>application_number</th>\n",
       "      <th>name_contract_type</th>\n",
       "      <th>prev_application_number</th>\n",
       "      <th>num_instalment_version</th>\n",
       "      <th>num_instalment_number</th>\n",
       "      <th>days_instalment</th>\n",
       "      <th>days_entry_payment</th>\n",
       "      <th>amt_instalment</th>\n",
       "      <th>amt_payment</th>\n",
       "    </tr>\n",
       "  </thead>\n",
       "  <tbody>\n",
       "    <tr>\n",
       "      <th>Total</th>\n",
       "      <td>0</td>\n",
       "      <td>0</td>\n",
       "      <td>42568</td>\n",
       "      <td>42568</td>\n",
       "      <td>42568</td>\n",
       "      <td>42568</td>\n",
       "      <td>42664</td>\n",
       "      <td>42568</td>\n",
       "      <td>42664</td>\n",
       "    </tr>\n",
       "    <tr>\n",
       "      <th>Percent</th>\n",
       "      <td>0</td>\n",
       "      <td>0</td>\n",
       "      <td>8.24964</td>\n",
       "      <td>8.24964</td>\n",
       "      <td>8.24964</td>\n",
       "      <td>8.24964</td>\n",
       "      <td>8.26825</td>\n",
       "      <td>8.24964</td>\n",
       "      <td>8.26825</td>\n",
       "    </tr>\n",
       "    <tr>\n",
       "      <th>Types</th>\n",
       "      <td>int64</td>\n",
       "      <td>object</td>\n",
       "      <td>float64</td>\n",
       "      <td>float64</td>\n",
       "      <td>float64</td>\n",
       "      <td>float64</td>\n",
       "      <td>float64</td>\n",
       "      <td>float64</td>\n",
       "      <td>float64</td>\n",
       "    </tr>\n",
       "  </tbody>\n",
       "</table>\n",
       "</div>"
      ],
      "text/plain": [
       "        application_number name_contract_type prev_application_number  \\\n",
       "Total                    0                  0                   42568   \n",
       "Percent                  0                  0                 8.24964   \n",
       "Types                int64             object                 float64   \n",
       "\n",
       "        num_instalment_version num_instalment_number days_instalment  \\\n",
       "Total                    42568                 42568           42568   \n",
       "Percent                8.24964               8.24964         8.24964   \n",
       "Types                  float64               float64         float64   \n",
       "\n",
       "        days_entry_payment amt_instalment amt_payment  \n",
       "Total                42664          42568       42664  \n",
       "Percent            8.26825        8.24964     8.26825  \n",
       "Types              float64        float64     float64  "
      ]
     },
     "execution_count": 21,
     "metadata": {},
     "output_type": "execute_result"
    }
   ],
   "source": [
    "check_missings(test)"
   ]
  },
  {
   "cell_type": "code",
   "execution_count": 22,
   "metadata": {},
   "outputs": [
    {
     "data": {
      "text/html": [
       "<div>\n",
       "<style scoped>\n",
       "    .dataframe tbody tr th:only-of-type {\n",
       "        vertical-align: middle;\n",
       "    }\n",
       "\n",
       "    .dataframe tbody tr th {\n",
       "        vertical-align: top;\n",
       "    }\n",
       "\n",
       "    .dataframe thead th {\n",
       "        text-align: right;\n",
       "    }\n",
       "</style>\n",
       "<table border=\"1\" class=\"dataframe\">\n",
       "  <thead>\n",
       "    <tr style=\"text-align: right;\">\n",
       "      <th></th>\n",
       "      <th>application_number</th>\n",
       "      <th>target</th>\n",
       "      <th>name_contract_type</th>\n",
       "      <th>prev_application_number</th>\n",
       "      <th>num_instalment_version</th>\n",
       "      <th>num_instalment_number</th>\n",
       "      <th>days_instalment</th>\n",
       "      <th>days_entry_payment</th>\n",
       "      <th>amt_instalment</th>\n",
       "      <th>amt_payment</th>\n",
       "      <th>isna_application_number</th>\n",
       "      <th>isna_target</th>\n",
       "      <th>isna_name_contract_type</th>\n",
       "      <th>isna_prev_application_number</th>\n",
       "      <th>isna_num_instalment_version</th>\n",
       "      <th>isna_num_instalment_number</th>\n",
       "      <th>isna_days_instalment</th>\n",
       "      <th>isna_days_entry_payment</th>\n",
       "      <th>isna_amt_instalment</th>\n",
       "      <th>isna_amt_payment</th>\n",
       "    </tr>\n",
       "  </thead>\n",
       "  <tbody>\n",
       "    <tr>\n",
       "      <th>0</th>\n",
       "      <td>123687442</td>\n",
       "      <td>0</td>\n",
       "      <td>Cash</td>\n",
       "      <td>49796018.0</td>\n",
       "      <td>1.0</td>\n",
       "      <td>4.0</td>\n",
       "      <td>2830.0</td>\n",
       "      <td>2830.0</td>\n",
       "      <td>3289.635</td>\n",
       "      <td>3289.635</td>\n",
       "      <td>0</td>\n",
       "      <td>0</td>\n",
       "      <td>0</td>\n",
       "      <td>0</td>\n",
       "      <td>0</td>\n",
       "      <td>0</td>\n",
       "      <td>0</td>\n",
       "      <td>0</td>\n",
       "      <td>0</td>\n",
       "      <td>0</td>\n",
       "    </tr>\n",
       "    <tr>\n",
       "      <th>1</th>\n",
       "      <td>123687442</td>\n",
       "      <td>0</td>\n",
       "      <td>Cash</td>\n",
       "      <td>49796018.0</td>\n",
       "      <td>1.0</td>\n",
       "      <td>7.0</td>\n",
       "      <td>2740.0</td>\n",
       "      <td>2740.0</td>\n",
       "      <td>3289.635</td>\n",
       "      <td>3289.635</td>\n",
       "      <td>0</td>\n",
       "      <td>0</td>\n",
       "      <td>0</td>\n",
       "      <td>0</td>\n",
       "      <td>0</td>\n",
       "      <td>0</td>\n",
       "      <td>0</td>\n",
       "      <td>0</td>\n",
       "      <td>0</td>\n",
       "      <td>0</td>\n",
       "    </tr>\n",
       "    <tr>\n",
       "      <th>2</th>\n",
       "      <td>123687442</td>\n",
       "      <td>0</td>\n",
       "      <td>Cash</td>\n",
       "      <td>49713743.0</td>\n",
       "      <td>1.0</td>\n",
       "      <td>5.0</td>\n",
       "      <td>2551.0</td>\n",
       "      <td>2547.0</td>\n",
       "      <td>9262.215</td>\n",
       "      <td>9251.865</td>\n",
       "      <td>0</td>\n",
       "      <td>0</td>\n",
       "      <td>0</td>\n",
       "      <td>0</td>\n",
       "      <td>0</td>\n",
       "      <td>0</td>\n",
       "      <td>0</td>\n",
       "      <td>0</td>\n",
       "      <td>0</td>\n",
       "      <td>0</td>\n",
       "    </tr>\n",
       "    <tr>\n",
       "      <th>3</th>\n",
       "      <td>123687442</td>\n",
       "      <td>0</td>\n",
       "      <td>Cash</td>\n",
       "      <td>49713743.0</td>\n",
       "      <td>1.0</td>\n",
       "      <td>7.0</td>\n",
       "      <td>2491.0</td>\n",
       "      <td>2519.0</td>\n",
       "      <td>9262.215</td>\n",
       "      <td>10.350</td>\n",
       "      <td>0</td>\n",
       "      <td>0</td>\n",
       "      <td>0</td>\n",
       "      <td>0</td>\n",
       "      <td>0</td>\n",
       "      <td>0</td>\n",
       "      <td>0</td>\n",
       "      <td>0</td>\n",
       "      <td>0</td>\n",
       "      <td>0</td>\n",
       "    </tr>\n",
       "    <tr>\n",
       "      <th>4</th>\n",
       "      <td>123597908</td>\n",
       "      <td>1</td>\n",
       "      <td>Cash</td>\n",
       "      <td>49672074.0</td>\n",
       "      <td>1.0</td>\n",
       "      <td>9.0</td>\n",
       "      <td>450.0</td>\n",
       "      <td>457.0</td>\n",
       "      <td>11349.900</td>\n",
       "      <td>11349.900</td>\n",
       "      <td>0</td>\n",
       "      <td>0</td>\n",
       "      <td>0</td>\n",
       "      <td>0</td>\n",
       "      <td>0</td>\n",
       "      <td>0</td>\n",
       "      <td>0</td>\n",
       "      <td>0</td>\n",
       "      <td>0</td>\n",
       "      <td>0</td>\n",
       "    </tr>\n",
       "  </tbody>\n",
       "</table>\n",
       "</div>"
      ],
      "text/plain": [
       "   application_number  target name_contract_type  prev_application_number  \\\n",
       "0           123687442       0               Cash               49796018.0   \n",
       "1           123687442       0               Cash               49796018.0   \n",
       "2           123687442       0               Cash               49713743.0   \n",
       "3           123687442       0               Cash               49713743.0   \n",
       "4           123597908       1               Cash               49672074.0   \n",
       "\n",
       "   num_instalment_version  num_instalment_number  days_instalment  \\\n",
       "0                     1.0                    4.0           2830.0   \n",
       "1                     1.0                    7.0           2740.0   \n",
       "2                     1.0                    5.0           2551.0   \n",
       "3                     1.0                    7.0           2491.0   \n",
       "4                     1.0                    9.0            450.0   \n",
       "\n",
       "   days_entry_payment  amt_instalment  amt_payment  isna_application_number  \\\n",
       "0              2830.0        3289.635     3289.635                        0   \n",
       "1              2740.0        3289.635     3289.635                        0   \n",
       "2              2547.0        9262.215     9251.865                        0   \n",
       "3              2519.0        9262.215       10.350                        0   \n",
       "4               457.0       11349.900    11349.900                        0   \n",
       "\n",
       "   isna_target  isna_name_contract_type  isna_prev_application_number  \\\n",
       "0            0                        0                             0   \n",
       "1            0                        0                             0   \n",
       "2            0                        0                             0   \n",
       "3            0                        0                             0   \n",
       "4            0                        0                             0   \n",
       "\n",
       "   isna_num_instalment_version  isna_num_instalment_number  \\\n",
       "0                            0                           0   \n",
       "1                            0                           0   \n",
       "2                            0                           0   \n",
       "3                            0                           0   \n",
       "4                            0                           0   \n",
       "\n",
       "   isna_days_instalment  isna_days_entry_payment  isna_amt_instalment  \\\n",
       "0                     0                        0                    0   \n",
       "1                     0                        0                    0   \n",
       "2                     0                        0                    0   \n",
       "3                     0                        0                    0   \n",
       "4                     0                        0                    0   \n",
       "\n",
       "   isna_amt_payment  \n",
       "0                 0  \n",
       "1                 0  \n",
       "2                 0  \n",
       "3                 0  \n",
       "4                 0  "
      ]
     },
     "execution_count": 22,
     "metadata": {},
     "output_type": "execute_result"
    }
   ],
   "source": [
    "train_na_features = get_isna_features(train)\n",
    "train_na_features.head()"
   ]
  },
  {
   "cell_type": "code",
   "execution_count": 23,
   "metadata": {},
   "outputs": [],
   "source": [
    "isna_features = [feature for feature in train_na_features if feature.startswith('isna_')]"
   ]
  },
  {
   "cell_type": "code",
   "execution_count": 24,
   "metadata": {
    "scrolled": true
   },
   "outputs": [
    {
     "data": {
      "image/png": "[encoded data removed]",
      "text/plain": [
       "<Figure size 432x288 with 1 Axes>"
      ]
     },
     "metadata": {
      "needs_background": "light"
     },
     "output_type": "display_data"
    },
    {
     "data": {
      "image/png": "[encoded data removed]",
      "text/plain": [
       "<Figure size 432x288 with 1 Axes>"
      ]
     },
     "metadata": {
      "needs_background": "light"
     },
     "output_type": "display_data"
    },
    {
     "data": {
      "image/png": "[encoded data removed]",
      "text/plain": [
       "<Figure size 432x288 with 1 Axes>"
      ]
     },
     "metadata": {
      "needs_background": "light"
     },
     "output_type": "display_data"
    },
    {
     "data": {
      "image/png": "[encoded data removed]",
      "text/plain": [
       "<Figure size 432x288 with 1 Axes>"
      ]
     },
     "metadata": {
      "needs_background": "light"
     },
     "output_type": "display_data"
    },
    {
     "data": {
      "image/png": "[encoded data removed]",
      "text/plain": [
       "<Figure size 432x288 with 1 Axes>"
      ]
     },
     "metadata": {
      "needs_background": "light"
     },
     "output_type": "display_data"
    },
    {
     "data": {
      "image/png": "[encoded data removed]",
      "text/plain": [
       "<Figure size 432x288 with 1 Axes>"
      ]
     },
     "metadata": {
      "needs_background": "light"
     },
     "output_type": "display_data"
    },
    {
     "data": {
      "image/png": "[encoded data removed]",
      "text/plain": [
       "<Figure size 432x288 with 1 Axes>"
      ]
     },
     "metadata": {
      "needs_background": "light"
     },
     "output_type": "display_data"
    },
    {
     "data": {
      "image/png": "[encoded data removed]",
      "text/plain": [
       "<Figure size 432x288 with 1 Axes>"
      ]
     },
     "metadata": {
      "needs_background": "light"
     },
     "output_type": "display_data"
    },
    {
     "data": {
      "image/png": "[encoded data removed]",
      "text/plain": [
       "<Figure size 432x288 with 1 Axes>"
      ]
     },
     "metadata": {
      "needs_background": "light"
     },
     "output_type": "display_data"
    },
    {
     "data": {
      "image/png": "[encoded data removed]",
      "text/plain": [
       "<Figure size 432x288 with 1 Axes>"
      ]
     },
     "metadata": {
      "needs_background": "light"
     },
     "output_type": "display_data"
    }
   ],
   "source": [
    "for feature in isna_features:\n",
    "    plt.title(feature)\n",
    "    train_na_features[feature].hist()\n",
    "    data_target = train_na_features.loc[train_na_features[target_name] == 1, feature]\n",
    "    data_target = pd.concat([data_target for _ in range(koef)], axis=0)\n",
    "    data_target.hist()\n",
    "    plt.xticks(rotation=35)\n",
    "    plt.show()"
   ]
  },
  {
   "cell_type": "markdown",
   "metadata": {},
   "source": [
    "На вид различия есть"
   ]
  },
  {
   "cell_type": "code",
   "execution_count": 25,
   "metadata": {
    "scrolled": false
   },
   "outputs": [
    {
     "data": {
      "text/html": [
       "<div>\n",
       "<style scoped>\n",
       "    .dataframe tbody tr th:only-of-type {\n",
       "        vertical-align: middle;\n",
       "    }\n",
       "\n",
       "    .dataframe tbody tr th {\n",
       "        vertical-align: top;\n",
       "    }\n",
       "\n",
       "    .dataframe thead th {\n",
       "        text-align: right;\n",
       "    }\n",
       "</style>\n",
       "<table border=\"1\" class=\"dataframe\">\n",
       "  <thead>\n",
       "    <tr style=\"text-align: right;\">\n",
       "      <th></th>\n",
       "      <th>feature</th>\n",
       "      <th>influence</th>\n",
       "    </tr>\n",
       "  </thead>\n",
       "  <tbody>\n",
       "    <tr>\n",
       "      <th>0</th>\n",
       "      <td>isna_prev_application_number</td>\n",
       "      <td>0.026438</td>\n",
       "    </tr>\n",
       "    <tr>\n",
       "      <th>1</th>\n",
       "      <td>isna_num_instalment_version</td>\n",
       "      <td>0.026438</td>\n",
       "    </tr>\n",
       "    <tr>\n",
       "      <th>2</th>\n",
       "      <td>isna_num_instalment_number</td>\n",
       "      <td>0.026438</td>\n",
       "    </tr>\n",
       "    <tr>\n",
       "      <th>3</th>\n",
       "      <td>isna_days_instalment</td>\n",
       "      <td>0.026438</td>\n",
       "    </tr>\n",
       "    <tr>\n",
       "      <th>5</th>\n",
       "      <td>isna_amt_instalment</td>\n",
       "      <td>0.026438</td>\n",
       "    </tr>\n",
       "    <tr>\n",
       "      <th>4</th>\n",
       "      <td>isna_days_entry_payment</td>\n",
       "      <td>0.013136</td>\n",
       "    </tr>\n",
       "    <tr>\n",
       "      <th>6</th>\n",
       "      <td>isna_amt_payment</td>\n",
       "      <td>0.013136</td>\n",
       "    </tr>\n",
       "  </tbody>\n",
       "</table>\n",
       "</div>"
      ],
      "text/plain": [
       "                        feature  influence\n",
       "0  isna_prev_application_number   0.026438\n",
       "1   isna_num_instalment_version   0.026438\n",
       "2    isna_num_instalment_number   0.026438\n",
       "3          isna_days_instalment   0.026438\n",
       "5           isna_amt_instalment   0.026438\n",
       "4       isna_days_entry_payment   0.013136\n",
       "6              isna_amt_payment   0.013136"
      ]
     },
     "execution_count": 25,
     "metadata": {},
     "output_type": "execute_result"
    }
   ],
   "source": [
    "isna_influence = dict()\n",
    "for feature in isna_features:\n",
    "    if feature in ['isna_application_number','isna_target','isna_name_contract_type']:\n",
    "        continue\n",
    "    data_target = train_na_features.loc[train_na_features[target_name] == 1]\n",
    "    a = train_na_features.loc[train_na_features[feature] == 0, feature].count()\n",
    "    a = a / train_na_features.loc[train_na_features[feature] == 1, feature].count()\n",
    "    b = data_target.loc[data_target[feature] == 0, feature].count()\n",
    "    b = b / data_target.loc[data_target[feature] == 1, feature].count()\n",
    "    isna_influence[feature] = abs(a - b)\n",
    "    \n",
    "isna_influence = pd.DataFrame(isna_influence.items(), \n",
    "                              columns=['feature', 'influence'])\\\n",
    "                .sort_values(by='influence', ascending=False)\n",
    "isna_influence"
   ]
  },
  {
   "cell_type": "markdown",
   "metadata": {},
   "source": [
    "а цифры говорят об обратном"
   ]
  },
  {
   "cell_type": "code",
   "execution_count": 26,
   "metadata": {},
   "outputs": [
    {
     "data": {
      "text/plain": [
       "[]"
      ]
     },
     "execution_count": 26,
     "metadata": {},
     "output_type": "execute_result"
    }
   ],
   "source": [
    "isna_influence.loc[isna_influence['influence'] > 0.2, 'feature'].tolist()"
   ]
  },
  {
   "cell_type": "code",
   "execution_count": null,
   "metadata": {},
   "outputs": [],
   "source": []
  }
 ],
 "metadata": {
  "kernelspec": {
   "display_name": "Python 3",
   "language": "python",
   "name": "python3"
  },
  "language_info": {
   "codemirror_mode": {
    "name": "ipython",
    "version": 3
   },
   "file_extension": ".py",
   "mimetype": "text/x-python",
   "name": "python",
   "nbconvert_exporter": "python",
   "pygments_lexer": "ipython3",
   "version": "3.8.5"
  }
 },
 "nbformat": 4,
 "nbformat_minor": 4
}
